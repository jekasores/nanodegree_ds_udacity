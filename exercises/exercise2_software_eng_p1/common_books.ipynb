{
 "cells": [
  {
   "cell_type": "markdown",
   "metadata": {},
   "source": [
    "# Optimizing Code: Common Books\n",
    "\n",
    "* **Objective:** Learn how to optimize for structures using numpy array operations and data structures from Python. It makes the code simpler and faster to run.\n",
    "* **Dataset:** .txt files available in the Data Science Nanodegree from Udacity\n",
    "\n",
    "<hr />\n",
    "\n",
    "\n",
    "# Table of content\n",
    "* [1) Import libraries](#import)\n",
    "* [2) Read dataset](#dataset)\n",
    "* [3) Find common books](#books)\n",
    "    * [3.1) Long solution](#books1)\n",
    "    * [3.2) Vector operation solution](#books2)\n",
    "    * [3.3) Data structure solution](#books3)"
   ]
  },
  {
   "cell_type": "markdown",
   "metadata": {},
   "source": [
    "## 1) Import libraries <a class=\"anchor\" id=\"import\"></a>"
   ]
  },
  {
   "cell_type": "code",
   "execution_count": 1,
   "metadata": {},
   "outputs": [],
   "source": [
    "import time\n",
    "import pandas as pd\n",
    "import numpy as np"
   ]
  },
  {
   "cell_type": "markdown",
   "metadata": {},
   "source": [
    "## 2) Read dataset <a class=\"anchor\" id=\"dataset\"></a>"
   ]
  },
  {
   "cell_type": "code",
   "execution_count": 4,
   "metadata": {},
   "outputs": [],
   "source": [
    "with open(\"./dataset/books_published_last_two_years.txt\") as f:\n",
    "    recent_books = f.read().split(\"\\n\")\n",
    "    \n",
    "with open(\"./dataset/all_coding_books.txt\") as f:\n",
    "    coding_books = f.read().split(\"\\n\")"
   ]
  },
  {
   "cell_type": "markdown",
   "metadata": {},
   "source": [
    "## 3) Find common books <a class=\"anchor\" id=\"books\"></a>\n",
    "\n",
    "Here's the code your coworker wrote to find the common book ids in `books_published_last_two_years.txt` and `all_coding_books.txt` to obtain a list of recent coding books."
   ]
  },
  {
   "cell_type": "markdown",
   "metadata": {},
   "source": [
    "### 3.1) Long solution <a class=\"anchor\" id=\"books1\"></a>"
   ]
  },
  {
   "cell_type": "code",
   "execution_count": 5,
   "metadata": {},
   "outputs": [
    {
     "name": "stdout",
     "output_type": "stream",
     "text": [
      "96\n",
      "Duration: 11.261584520339966 seconds\n"
     ]
    }
   ],
   "source": [
    "start = time.time()\n",
    "recent_coding_books = []\n",
    "for book in recent_books:\n",
    "    if book in coding_books:\n",
    "        recent_coding_books.append(book)\n",
    "\n",
    "print(len(recent_coding_books))\n",
    "print(\"Duration: {} seconds\".format(time.time()-start))"
   ]
  },
  {
   "cell_type": "markdown",
   "metadata": {},
   "source": [
    "### 3.2) Vector operation solution <a class=\"anchor\" id=\"books2\"></a>"
   ]
  },
  {
   "cell_type": "code",
   "execution_count": 6,
   "metadata": {},
   "outputs": [
    {
     "name": "stdout",
     "output_type": "stream",
     "text": [
      "96\n",
      "Duration: 0.02099919319152832 seconds\n"
     ]
    }
   ],
   "source": [
    "# Using numpy arrays operation\n",
    "start = time.time()\n",
    "recent_coding_books = np.intersect1d(list(coding_books), list(recent_coding_books))\n",
    "print(len(recent_coding_books))\n",
    "print(\"Duration: {} seconds\".format(time.time()-start))"
   ]
  },
  {
   "cell_type": "markdown",
   "metadata": {},
   "source": [
    "### 3.3) Data structure solution <a class=\"anchor\" id=\"books3\"></a>"
   ]
  },
  {
   "cell_type": "code",
   "execution_count": 7,
   "metadata": {},
   "outputs": [
    {
     "name": "stdout",
     "output_type": "stream",
     "text": [
      "96\n",
      "Duration: 0.005002498626708984 seconds\n"
     ]
    }
   ],
   "source": [
    "#Set data structure from Python\n",
    "start = time.time()\n",
    "recent_coding_books = set(coding_books).intersection(set(recent_coding_books))\n",
    "print(len(recent_coding_books))\n",
    "print(\"Duration: {} seconds\".format(time.time()-start))"
   ]
  }
 ],
 "metadata": {
  "kernelspec": {
   "display_name": "Python 3",
   "language": "python",
   "name": "python3"
  },
  "language_info": {
   "codemirror_mode": {
    "name": "ipython",
    "version": 3
   },
   "file_extension": ".py",
   "mimetype": "text/x-python",
   "name": "python",
   "nbconvert_exporter": "python",
   "pygments_lexer": "ipython3",
   "version": "3.8.3"
  }
 },
 "nbformat": 4,
 "nbformat_minor": 4
}
