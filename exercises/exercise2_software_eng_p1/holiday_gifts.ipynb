{
 "cells": [
  {
   "cell_type": "markdown",
   "metadata": {},
   "source": [
    "# Optimizing Code: Holiday Gifts\n",
    "\n",
    "* **Objective:** Learn how to optimize for structures using numpy array operations and data structures from Python. It makes the code simpler and faster to run.\n",
    "* **Dataset:** .txt files available in the Data Science Nanodegree from Udacity\n",
    "\n",
    "<hr />\n",
    "\n",
    "\n",
    "# Table of content\n",
    "* [1) Import libraries](#import)\n",
    "* [2) Read dataset](#dataset)\n",
    "* [3) Calculate gift costs](#gift)\n",
    "    * [3.1) Long solution](#gift1)\n",
    "    * [3.2) Refactorated solution](#gift2)"
   ]
  },
  {
   "cell_type": "markdown",
   "metadata": {},
   "source": [
    "## 1) Import libraries <a class=\"anchor\" id=\"import\"></a>"
   ]
  },
  {
   "cell_type": "code",
   "execution_count": 1,
   "metadata": {},
   "outputs": [],
   "source": [
    "import time\n",
    "import numpy as np"
   ]
  },
  {
   "cell_type": "markdown",
   "metadata": {},
   "source": [
    "## 2) Read dataset <a class=\"anchor\" id=\"dataset\"></a>"
   ]
  },
  {
   "cell_type": "code",
   "execution_count": 4,
   "metadata": {},
   "outputs": [],
   "source": [
    "with open(\"./dataset/gift_costs.txt\") as f:\n",
    "    gift_costs = f.read().split(\"\\n\")\n",
    "\n",
    "gift_costs = np.array(gift_costs).astype(int) #convert string to int"
   ]
  },
  {
   "cell_type": "code",
   "execution_count": 5,
   "metadata": {},
   "outputs": [
    {
     "name": "stdout",
     "output_type": "stream",
     "text": [
      "type(gift_costs) =  <class 'numpy.ndarray'>\n",
      "type(gift_costs[0]) =  <class 'numpy.int32'>\n"
     ]
    }
   ],
   "source": [
    "print(\"type(gift_costs) = \",type(gift_costs))\n",
    "print(\"type(gift_costs[0]) = \",type(gift_costs[0]))"
   ]
  },
  {
   "cell_type": "markdown",
   "metadata": {},
   "source": [
    "## 3) Calculate gift costs <a class=\"anchor\" id=\"gift\"></a>\n",
    "\n",
    "In the last example, you learned that using vectorized operations and more efficient data structures can optimize your code. Let's use these tips for one more example.\n",
    "\n",
    "Say your online gift store has one million users that each listed a gift on a wish list. You have the prices for each of these gifts stored in `gift_costs.txt`. For the holidays, you're going to give each customer their wish list gift for free if it is under 25 dollars. Now, you want to calculate the total cost of all gifts under 25 dollars to see how much you'd spend on free gifts. Here's one way you could've done it."
   ]
  },
  {
   "cell_type": "markdown",
   "metadata": {},
   "source": [
    "### 3.1) Long solution <a class=\"anchor\" id=\"gift1\"></a>"
   ]
  },
  {
   "cell_type": "code",
   "execution_count": 7,
   "metadata": {},
   "outputs": [
    {
     "name": "stdout",
     "output_type": "stream",
     "text": [
      "32765421.23999867\n",
      "Duration: 9.526079177856445 seconds\n"
     ]
    }
   ],
   "source": [
    "start = time.time()\n",
    "total_price = 0\n",
    "\n",
    "for cost in gift_costs:\n",
    "    if cost <25:\n",
    "        total_price += cost*1.08 #add cost after tax\n",
    "        \n",
    "print(total_price)\n",
    "print(\"Duration: {} seconds\".format(time.time()-start))"
   ]
  },
  {
   "cell_type": "markdown",
   "metadata": {},
   "source": [
    "### 3.2) Refactorated solution <a class=\"anchor\" id=\"gift2\"></a>"
   ]
  },
  {
   "cell_type": "code",
   "execution_count": 8,
   "metadata": {},
   "outputs": [
    {
     "name": "stdout",
     "output_type": "stream",
     "text": [
      "32765421.23999867\n",
      "Duration: 0.4870016574859619 seconds\n"
     ]
    }
   ],
   "source": [
    "start = time.time()\n",
    "\n",
    "total_price = sum(np.extract(gift_costs<25, gift_costs*1.08))\n",
    "\n",
    "print(total_price)\n",
    "print(\"Duration: {} seconds\".format(time.time()-start))"
   ]
  }
 ],
 "metadata": {
  "kernelspec": {
   "display_name": "Python 3",
   "language": "python",
   "name": "python3"
  },
  "language_info": {
   "codemirror_mode": {
    "name": "ipython",
    "version": 3
   },
   "file_extension": ".py",
   "mimetype": "text/x-python",
   "name": "python",
   "nbconvert_exporter": "python",
   "pygments_lexer": "ipython3",
   "version": "3.8.3"
  }
 },
 "nbformat": 4,
 "nbformat_minor": 4
}
