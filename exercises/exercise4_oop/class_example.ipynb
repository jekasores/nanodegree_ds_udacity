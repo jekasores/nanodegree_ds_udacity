{
 "cells": [
  {
   "cell_type": "markdown",
   "metadata": {},
   "source": [
    "# Class example\n",
    "\n",
    "* **Objective:** Understand the class syntax in python and practice object declaration using attributes and methods.\n",
    "\n",
    "<hr />\n",
    "\n",
    "\n",
    "# Table of content\n",
    "* [1) Class declaration](#class)\n",
    "* [2) Instantiating an object](#object)\n",
    "* [3) Access attributes and methods](#access)\n",
    "    * [3.1) Attributes](#attributes)\n",
    "    * [3.2) Methods](#methods)\n",
    "* [4) Example: object with Python variables](#example)"
   ]
  },
  {
   "cell_type": "markdown",
   "metadata": {},
   "source": [
    "## 1) Class declaration <a class=\"anchor\" id=\"class\"></a>\n",
    "\n",
    "* Good code practices say to capitalize the first letter of a class name\n",
    "* init(): built in Python to create specific object\n",
    "* self variable: dictionary that holds all your attributes and the attributes values\n",
    "    * Make the attributes available throughout your class\n",
    "    * Pass self first input to your methods to have access to the attributes\n",
    "* The functions (methods) do not need to return anything although they can return\n",
    "* Function vs. methods: a method is a function inside a class and a function exists outside a class"
   ]
  },
  {
   "cell_type": "code",
   "execution_count": 2,
   "metadata": {},
   "outputs": [],
   "source": [
    "class Shirt:\n",
    "    \"\"\"The Shirt class represents an article of a clothing store\"\"\"\n",
    "    \n",
    "    #Attributes definition\n",
    "    def __init__(self, shirt_color, shirt_size, shirt_style, shirt_price):\n",
    "        \"\"\"Method for initializing a Shirt object\n",
    "\n",
    "        Args: \n",
    "            color (str)\n",
    "            size (str)\n",
    "            style (str)\n",
    "            price (float)\n",
    "\n",
    "        Attributes:\n",
    "            color (str): color of a shirt object\n",
    "            size (str): waist size of a shirt object\n",
    "            style (str): style of a shirt object\n",
    "            price (float): price of a shirt object\n",
    "        \"\"\"\n",
    "        self.color = shirt_color\n",
    "        self.size = shirt_size\n",
    "        self.style = shirt_style\n",
    "        self.price = shirt_price\n",
    "    \n",
    "    #Methods definition\n",
    "    def change_price(self, new_price):\n",
    "        \"\"\"The change_price method changes the price attribute of a shirt object\n",
    "\n",
    "        Args: \n",
    "            new_price (float): the new price of the shirt object\n",
    "\n",
    "        Returns: None\n",
    "\n",
    "        \"\"\"\n",
    "        self.price = new_price\n",
    "        \n",
    "    def discount(self, discount):\n",
    "        \"\"\"The discount method gives the price with discount of a shirt object\n",
    "\n",
    "        Args: \n",
    "            discount (float): discount percentage of the shirt object\n",
    "\n",
    "        Returns: New price with the discount\n",
    "\n",
    "        \"\"\"\n",
    "        return self.price * (1-discount)"
   ]
  },
  {
   "cell_type": "markdown",
   "metadata": {},
   "source": [
    "## 2) Instantiating an object <a class=\"anchor\" id=\"object\"></a>"
   ]
  },
  {
   "cell_type": "code",
   "execution_count": 5,
   "metadata": {},
   "outputs": [
    {
     "data": {
      "text/plain": [
       "<__main__.Shirt at 0x290e3bbfe80>"
      ]
     },
     "execution_count": 5,
     "metadata": {},
     "output_type": "execute_result"
    }
   ],
   "source": [
    "#Add values according to the __init__function\n",
    "Shirt(\"red\", \"S\", \"short sleeve\", 15)"
   ]
  },
  {
   "cell_type": "code",
   "execution_count": 6,
   "metadata": {},
   "outputs": [],
   "source": [
    "#It is more useful if you store the object in a variable\n",
    "new_shirt = Shirt(\"red\", \"S\", \"short sleeve\", 15)"
   ]
  },
  {
   "cell_type": "markdown",
   "metadata": {},
   "source": [
    "## 3) Access attributes and methods <a class=\"anchor\" id=\"access\"></a>"
   ]
  },
  {
   "cell_type": "markdown",
   "metadata": {},
   "source": [
    "### 3.1) Attributes <a class=\"anchor\" id=\"attributes\"></a>"
   ]
  },
  {
   "cell_type": "code",
   "execution_count": 7,
   "metadata": {},
   "outputs": [
    {
     "name": "stdout",
     "output_type": "stream",
     "text": [
      "red\n",
      "S\n",
      "short sleeve\n",
      "15\n"
     ]
    }
   ],
   "source": [
    "#Access the attributes using \".\" syntax\n",
    "print(new_shirt.color)\n",
    "print(new_shirt.size)\n",
    "print(new_shirt.style)\n",
    "print(new_shirt.price)"
   ]
  },
  {
   "cell_type": "markdown",
   "metadata": {},
   "source": [
    "### 3.2) Methods <a class=\"anchor\" id=\"methods\"></a>"
   ]
  },
  {
   "cell_type": "code",
   "execution_count": 9,
   "metadata": {},
   "outputs": [
    {
     "name": "stdout",
     "output_type": "stream",
     "text": [
      "10\n"
     ]
    }
   ],
   "source": [
    "#Access the methods with \".\" syntax specifying any inputs requrires\n",
    "new_shirt.change_price(10)\n",
    "print(new_shirt.price)"
   ]
  },
  {
   "cell_type": "code",
   "execution_count": 11,
   "metadata": {},
   "outputs": [
    {
     "name": "stdout",
     "output_type": "stream",
     "text": [
      "8.0\n"
     ]
    }
   ],
   "source": [
    "print(new_shirt.discount(.2))"
   ]
  },
  {
   "cell_type": "markdown",
   "metadata": {},
   "source": [
    "## 4) Example: object with Python variables <a class=\"anchor\" id=\"example\"></a>"
   ]
  },
  {
   "cell_type": "code",
   "execution_count": 12,
   "metadata": {},
   "outputs": [
    {
     "name": "stdout",
     "output_type": "stream",
     "text": [
      "orange\n",
      "red\n",
      "purple\n"
     ]
    }
   ],
   "source": [
    "#Creating 3 shirt variables and saving them in a list\n",
    "#Objects are like any other Python variables\n",
    "tshirt_collection = []\n",
    "shirt_one = Shirt(\"orange\", \"M\", \"short sleeve\", 25)\n",
    "shirt_two = Shirt(\"red\", \"S\", \"short sleeve\", 15)\n",
    "shirt_three = Shirt(\"purple\", \"XL\", \"short sleeve\", 10)\n",
    "\n",
    "tshirt_collection.append(shirt_one)\n",
    "tshirt_collection.append(shirt_two)\n",
    "tshirt_collection.append(shirt_three)\n",
    "\n",
    "for i in range(len(tshirt_collection)):\n",
    "    print(tshirt_collection[i].color)"
   ]
  }
 ],
 "metadata": {
  "kernelspec": {
   "display_name": "Python 3",
   "language": "python",
   "name": "python3"
  },
  "language_info": {
   "codemirror_mode": {
    "name": "ipython",
    "version": 3
   },
   "file_extension": ".py",
   "mimetype": "text/x-python",
   "name": "python",
   "nbconvert_exporter": "python",
   "pygments_lexer": "ipython3",
   "version": "3.8.3"
  }
 },
 "nbformat": 4,
 "nbformat_minor": 4
}
