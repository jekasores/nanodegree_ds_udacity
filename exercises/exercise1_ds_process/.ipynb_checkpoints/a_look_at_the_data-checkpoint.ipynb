{
 "cells": [
  {
   "cell_type": "markdown",
   "metadata": {},
   "source": [
    "# Excercises\n",
    "## Classs 1 - Data Science Nanodegree Udacity\n",
    "\n",
    "- **Objective:** This notebook is going to use the **CRIP-DM process (Cross-Industry Standard Process for Data Mining)** to get some insights from the dataset.\n",
    "- **Dataset:** Stack Overflow Survey from 2017. Give insights from other developers about how they break into the field, learn, etc.\n",
    "\n",
    "\n",
    "### CRISP-DM process\n",
    "1. Business understanding\n",
    "2. Data understanding\n",
    "3. Data preparation\n",
    "4. Modeling\n",
    "5. Evaluation\n",
    "6. Deployment\n",
    "\n",
    "The step numbers below do not correspond exactly to the CRISP-DM process\n",
    "\n",
    "## Table of content\n",
    "* [1) Import libraries](#import-lib)\n",
    "* [2) Read the dataset](#read-dataset)\n",
    "* [3) Exploratory Data Analysis](#eda)\n",
    "    * [3.1) Dataframe dimensions](#dimensions)\n",
    "    * [3.2) Missing values](#missing-vals)\n",
    "    * [3.3) Plots](#plots)\n",
    "* [4) Answer business questions](#business-questions)\n",
    "    * [4.1) How to enter the field?](#enter-field)\n",
    "    * [4.2) What are job placement and salary rates for bootcamps? (TimeAfterBootcamp column)](#job-placement)\n",
    "    * [4.3) What relates to job satisfaction? *(Many columns)*](#job-satisfaction)\n",
    "    * [4.4) What relates to salary? *(Many columns)*](#salary)\n",
    "        * [4.4.1) Working with missing values](#working-missing-vals)\n",
    "            * [4.4.1.1) Removing values - Solution](#removing-vals)\n",
    "            * [4.4.1.2) Inputing values - Solution](#inputing-vals)\n",
    "* 5) [Categorical variables](#categorical-variables)"
   ]
  },
  {
   "cell_type": "markdown",
   "metadata": {},
   "source": [
    "## 1) Import libraries <a class=\"anchor\" id=\"import-lib\"></a>"
   ]
  },
  {
   "cell_type": "code",
   "execution_count": 207,
   "metadata": {},
   "outputs": [],
   "source": [
    "import numpy as np\n",
    "import pandas as pd\n",
    "import collections #used to count frequency of elements in a list\n",
    "\n",
    "#displays the output inline\n",
    "%matplotlib inline\n",
    "\n",
    "#visualization libraries\n",
    "import matplotlib.pyplot as plt\n",
    "import seaborn as sns\n",
    "\n",
    "#modeling\n",
    "from sklearn.linear_model import LinearRegression\n",
    "from sklearn.model_selection import train_test_split\n",
    "from sklearn.metrics import r2_score, mean_squared_error"
   ]
  },
  {
   "cell_type": "markdown",
   "metadata": {},
   "source": [
    "## 2) Read the dataset <a class=\"anchor\" id=\"read-dataset\"></a>"
   ]
  },
  {
   "cell_type": "code",
   "execution_count": 4,
   "metadata": {},
   "outputs": [
    {
     "data": {
      "text/html": [
       "<div>\n",
       "<style scoped>\n",
       "    .dataframe tbody tr th:only-of-type {\n",
       "        vertical-align: middle;\n",
       "    }\n",
       "\n",
       "    .dataframe tbody tr th {\n",
       "        vertical-align: top;\n",
       "    }\n",
       "\n",
       "    .dataframe thead th {\n",
       "        text-align: right;\n",
       "    }\n",
       "</style>\n",
       "<table border=\"1\" class=\"dataframe\">\n",
       "  <thead>\n",
       "    <tr style=\"text-align: right;\">\n",
       "      <th></th>\n",
       "      <th>Column</th>\n",
       "      <th>Question</th>\n",
       "    </tr>\n",
       "  </thead>\n",
       "  <tbody>\n",
       "    <tr>\n",
       "      <th>0</th>\n",
       "      <td>Respondent</td>\n",
       "      <td>Respondent ID number</td>\n",
       "    </tr>\n",
       "    <tr>\n",
       "      <th>1</th>\n",
       "      <td>Professional</td>\n",
       "      <td>Which of the following best describes you?</td>\n",
       "    </tr>\n",
       "    <tr>\n",
       "      <th>2</th>\n",
       "      <td>ProgramHobby</td>\n",
       "      <td>Do you program as a hobby or contribute to ope...</td>\n",
       "    </tr>\n",
       "    <tr>\n",
       "      <th>3</th>\n",
       "      <td>Country</td>\n",
       "      <td>In which country do you currently live?</td>\n",
       "    </tr>\n",
       "    <tr>\n",
       "      <th>4</th>\n",
       "      <td>University</td>\n",
       "      <td>Are you currently enrolled in a formal, degree...</td>\n",
       "    </tr>\n",
       "  </tbody>\n",
       "</table>\n",
       "</div>"
      ],
      "text/plain": [
       "         Column                                           Question\n",
       "0    Respondent                               Respondent ID number\n",
       "1  Professional         Which of the following best describes you?\n",
       "2  ProgramHobby  Do you program as a hobby or contribute to ope...\n",
       "3       Country            In which country do you currently live?\n",
       "4    University  Are you currently enrolled in a formal, degree..."
      ]
     },
     "execution_count": 4,
     "metadata": {},
     "output_type": "execute_result"
    }
   ],
   "source": [
    "df_schema = pd.read_csv(\"./dataset/survey-results-schema.csv\")\n",
    "df_schema.head()"
   ]
  },
  {
   "cell_type": "code",
   "execution_count": 5,
   "metadata": {
    "scrolled": true
   },
   "outputs": [
    {
     "data": {
      "text/html": [
       "<div>\n",
       "<style scoped>\n",
       "    .dataframe tbody tr th:only-of-type {\n",
       "        vertical-align: middle;\n",
       "    }\n",
       "\n",
       "    .dataframe tbody tr th {\n",
       "        vertical-align: top;\n",
       "    }\n",
       "\n",
       "    .dataframe thead th {\n",
       "        text-align: right;\n",
       "    }\n",
       "</style>\n",
       "<table border=\"1\" class=\"dataframe\">\n",
       "  <thead>\n",
       "    <tr style=\"text-align: right;\">\n",
       "      <th></th>\n",
       "      <th>Respondent</th>\n",
       "      <th>Professional</th>\n",
       "      <th>ProgramHobby</th>\n",
       "      <th>Country</th>\n",
       "      <th>University</th>\n",
       "      <th>EmploymentStatus</th>\n",
       "      <th>FormalEducation</th>\n",
       "      <th>MajorUndergrad</th>\n",
       "      <th>HomeRemote</th>\n",
       "      <th>CompanySize</th>\n",
       "      <th>...</th>\n",
       "      <th>StackOverflowMakeMoney</th>\n",
       "      <th>Gender</th>\n",
       "      <th>HighestEducationParents</th>\n",
       "      <th>Race</th>\n",
       "      <th>SurveyLong</th>\n",
       "      <th>QuestionsInteresting</th>\n",
       "      <th>QuestionsConfusing</th>\n",
       "      <th>InterestedAnswers</th>\n",
       "      <th>Salary</th>\n",
       "      <th>ExpectedSalary</th>\n",
       "    </tr>\n",
       "  </thead>\n",
       "  <tbody>\n",
       "    <tr>\n",
       "      <th>0</th>\n",
       "      <td>1</td>\n",
       "      <td>Student</td>\n",
       "      <td>Yes, both</td>\n",
       "      <td>United States</td>\n",
       "      <td>No</td>\n",
       "      <td>Not employed, and not looking for work</td>\n",
       "      <td>Secondary school</td>\n",
       "      <td>NaN</td>\n",
       "      <td>NaN</td>\n",
       "      <td>NaN</td>\n",
       "      <td>...</td>\n",
       "      <td>Strongly disagree</td>\n",
       "      <td>Male</td>\n",
       "      <td>High school</td>\n",
       "      <td>White or of European descent</td>\n",
       "      <td>Strongly disagree</td>\n",
       "      <td>Strongly agree</td>\n",
       "      <td>Disagree</td>\n",
       "      <td>Strongly agree</td>\n",
       "      <td>NaN</td>\n",
       "      <td>NaN</td>\n",
       "    </tr>\n",
       "    <tr>\n",
       "      <th>1</th>\n",
       "      <td>2</td>\n",
       "      <td>Student</td>\n",
       "      <td>Yes, both</td>\n",
       "      <td>United Kingdom</td>\n",
       "      <td>Yes, full-time</td>\n",
       "      <td>Employed part-time</td>\n",
       "      <td>Some college/university study without earning ...</td>\n",
       "      <td>Computer science or software engineering</td>\n",
       "      <td>More than half, but not all, the time</td>\n",
       "      <td>20 to 99 employees</td>\n",
       "      <td>...</td>\n",
       "      <td>Strongly disagree</td>\n",
       "      <td>Male</td>\n",
       "      <td>A master's degree</td>\n",
       "      <td>White or of European descent</td>\n",
       "      <td>Somewhat agree</td>\n",
       "      <td>Somewhat agree</td>\n",
       "      <td>Disagree</td>\n",
       "      <td>Strongly agree</td>\n",
       "      <td>NaN</td>\n",
       "      <td>37500.0</td>\n",
       "    </tr>\n",
       "    <tr>\n",
       "      <th>2</th>\n",
       "      <td>3</td>\n",
       "      <td>Professional developer</td>\n",
       "      <td>Yes, both</td>\n",
       "      <td>United Kingdom</td>\n",
       "      <td>No</td>\n",
       "      <td>Employed full-time</td>\n",
       "      <td>Bachelor's degree</td>\n",
       "      <td>Computer science or software engineering</td>\n",
       "      <td>Less than half the time, but at least one day ...</td>\n",
       "      <td>10,000 or more employees</td>\n",
       "      <td>...</td>\n",
       "      <td>Disagree</td>\n",
       "      <td>Male</td>\n",
       "      <td>A professional degree</td>\n",
       "      <td>White or of European descent</td>\n",
       "      <td>Somewhat agree</td>\n",
       "      <td>Agree</td>\n",
       "      <td>Disagree</td>\n",
       "      <td>Agree</td>\n",
       "      <td>113750.0</td>\n",
       "      <td>NaN</td>\n",
       "    </tr>\n",
       "    <tr>\n",
       "      <th>3</th>\n",
       "      <td>4</td>\n",
       "      <td>Professional non-developer who sometimes write...</td>\n",
       "      <td>Yes, both</td>\n",
       "      <td>United States</td>\n",
       "      <td>No</td>\n",
       "      <td>Employed full-time</td>\n",
       "      <td>Doctoral degree</td>\n",
       "      <td>A non-computer-focused engineering discipline</td>\n",
       "      <td>Less than half the time, but at least one day ...</td>\n",
       "      <td>10,000 or more employees</td>\n",
       "      <td>...</td>\n",
       "      <td>Disagree</td>\n",
       "      <td>Male</td>\n",
       "      <td>A doctoral degree</td>\n",
       "      <td>White or of European descent</td>\n",
       "      <td>Agree</td>\n",
       "      <td>Agree</td>\n",
       "      <td>Somewhat agree</td>\n",
       "      <td>Strongly agree</td>\n",
       "      <td>NaN</td>\n",
       "      <td>NaN</td>\n",
       "    </tr>\n",
       "    <tr>\n",
       "      <th>4</th>\n",
       "      <td>5</td>\n",
       "      <td>Professional developer</td>\n",
       "      <td>Yes, I program as a hobby</td>\n",
       "      <td>Switzerland</td>\n",
       "      <td>No</td>\n",
       "      <td>Employed full-time</td>\n",
       "      <td>Master's degree</td>\n",
       "      <td>Computer science or software engineering</td>\n",
       "      <td>Never</td>\n",
       "      <td>10 to 19 employees</td>\n",
       "      <td>...</td>\n",
       "      <td>NaN</td>\n",
       "      <td>NaN</td>\n",
       "      <td>NaN</td>\n",
       "      <td>NaN</td>\n",
       "      <td>NaN</td>\n",
       "      <td>NaN</td>\n",
       "      <td>NaN</td>\n",
       "      <td>NaN</td>\n",
       "      <td>NaN</td>\n",
       "      <td>NaN</td>\n",
       "    </tr>\n",
       "  </tbody>\n",
       "</table>\n",
       "<p>5 rows × 154 columns</p>\n",
       "</div>"
      ],
      "text/plain": [
       "   Respondent                                       Professional  \\\n",
       "0           1                                            Student   \n",
       "1           2                                            Student   \n",
       "2           3                             Professional developer   \n",
       "3           4  Professional non-developer who sometimes write...   \n",
       "4           5                             Professional developer   \n",
       "\n",
       "                ProgramHobby         Country      University  \\\n",
       "0                  Yes, both   United States              No   \n",
       "1                  Yes, both  United Kingdom  Yes, full-time   \n",
       "2                  Yes, both  United Kingdom              No   \n",
       "3                  Yes, both   United States              No   \n",
       "4  Yes, I program as a hobby     Switzerland              No   \n",
       "\n",
       "                         EmploymentStatus  \\\n",
       "0  Not employed, and not looking for work   \n",
       "1                      Employed part-time   \n",
       "2                      Employed full-time   \n",
       "3                      Employed full-time   \n",
       "4                      Employed full-time   \n",
       "\n",
       "                                     FormalEducation  \\\n",
       "0                                   Secondary school   \n",
       "1  Some college/university study without earning ...   \n",
       "2                                  Bachelor's degree   \n",
       "3                                    Doctoral degree   \n",
       "4                                    Master's degree   \n",
       "\n",
       "                                  MajorUndergrad  \\\n",
       "0                                            NaN   \n",
       "1       Computer science or software engineering   \n",
       "2       Computer science or software engineering   \n",
       "3  A non-computer-focused engineering discipline   \n",
       "4       Computer science or software engineering   \n",
       "\n",
       "                                          HomeRemote  \\\n",
       "0                                                NaN   \n",
       "1              More than half, but not all, the time   \n",
       "2  Less than half the time, but at least one day ...   \n",
       "3  Less than half the time, but at least one day ...   \n",
       "4                                              Never   \n",
       "\n",
       "                CompanySize  ... StackOverflowMakeMoney Gender  \\\n",
       "0                       NaN  ...      Strongly disagree   Male   \n",
       "1        20 to 99 employees  ...      Strongly disagree   Male   \n",
       "2  10,000 or more employees  ...               Disagree   Male   \n",
       "3  10,000 or more employees  ...               Disagree   Male   \n",
       "4        10 to 19 employees  ...                    NaN    NaN   \n",
       "\n",
       "  HighestEducationParents                          Race         SurveyLong  \\\n",
       "0             High school  White or of European descent  Strongly disagree   \n",
       "1       A master's degree  White or of European descent     Somewhat agree   \n",
       "2   A professional degree  White or of European descent     Somewhat agree   \n",
       "3       A doctoral degree  White or of European descent              Agree   \n",
       "4                     NaN                           NaN                NaN   \n",
       "\n",
       "  QuestionsInteresting QuestionsConfusing InterestedAnswers    Salary  \\\n",
       "0       Strongly agree           Disagree    Strongly agree       NaN   \n",
       "1       Somewhat agree           Disagree    Strongly agree       NaN   \n",
       "2                Agree           Disagree             Agree  113750.0   \n",
       "3                Agree     Somewhat agree    Strongly agree       NaN   \n",
       "4                  NaN                NaN               NaN       NaN   \n",
       "\n",
       "   ExpectedSalary  \n",
       "0             NaN  \n",
       "1         37500.0  \n",
       "2             NaN  \n",
       "3             NaN  \n",
       "4             NaN  \n",
       "\n",
       "[5 rows x 154 columns]"
      ]
     },
     "execution_count": 5,
     "metadata": {},
     "output_type": "execute_result"
    }
   ],
   "source": [
    "df = pd.read_csv(\"./dataset/survey-results-public.csv\")\n",
    "df.head()"
   ]
  },
  {
   "cell_type": "markdown",
   "metadata": {},
   "source": [
    "## 3) Exploratory Data Analysis <a class=\"anchor\" id=\"eda\"></a>"
   ]
  },
  {
   "cell_type": "markdown",
   "metadata": {},
   "source": [
    "### 3.1) Dataframe dimensions <a class=\"anchor\" id=\"dimensions\"></a>"
   ]
  },
  {
   "cell_type": "code",
   "execution_count": 6,
   "metadata": {},
   "outputs": [
    {
     "name": "stdout",
     "output_type": "stream",
     "text": [
      "The dataframe has 51392 rows and 154 columns\n"
     ]
    }
   ],
   "source": [
    "num_rows = df.shape[0]\n",
    "num_cols = df.shape[1]\n",
    "print(\"The dataframe has {} rows and {} columns\".format(num_rows, num_cols))"
   ]
  },
  {
   "cell_type": "markdown",
   "metadata": {},
   "source": [
    "### 3.2) Missing values <a class=\"anchor\" id=\"missing-vals\"></a>"
   ]
  },
  {
   "cell_type": "code",
   "execution_count": 16,
   "metadata": {},
   "outputs": [
    {
     "name": "stdout",
     "output_type": "stream",
     "text": [
      "Columns with no missiing values =  {'Respondent', 'University', 'EmploymentStatus', 'FormalEducation', 'Professional', 'ProgramHobby', 'Country'}\n"
     ]
    }
   ],
   "source": [
    "no_nulls = set(df.columns[df.isnull().mean()==0])\n",
    "print(\"Columns with no missiing values = \", no_nulls)"
   ]
  },
  {
   "cell_type": "code",
   "execution_count": 20,
   "metadata": {},
   "outputs": [
    {
     "name": "stdout",
     "output_type": "stream",
     "text": [
      "Columns more than 75% of values missing = \n",
      "{'ExCoderWillNotCode', 'ExCoderBalance', 'ExCoderBelonged', 'NonDeveloperType', 'MobileDeveloperType', 'TimeAfterBootcamp', 'ExpectedSalary', 'ExCoderNotForMe', 'YearsCodedJobPast', 'WebDeveloperType', 'ExCoderSkills', 'ExCoderReturn', 'ExCoder10Years', 'ExCoderActive'}\n"
     ]
    }
   ],
   "source": [
    "most_missing_cols = set(df.columns[df.isnull().mean()> 0.75])\n",
    "print(\"Columns more than 75% of values missing = \")\n",
    "print(most_missing_cols)"
   ]
  },
  {
   "cell_type": "markdown",
   "metadata": {},
   "source": [
    "### 3.3) Plots <a class=\"anchor\" id=\"plots\"></a>"
   ]
  },
  {
   "cell_type": "markdown",
   "metadata": {},
   "source": [
    "- Proportion of individuals in each professional status"
   ]
  },
  {
   "cell_type": "code",
   "execution_count": 29,
   "metadata": {},
   "outputs": [
    {
     "data": {
      "image/png": "[encoded data removed]",
      "text/plain": [
       "<Figure size 432x288 with 1 Axes>"
      ]
     },
     "metadata": {
      "needs_background": "light"
     },
     "output_type": "display_data"
    }
   ],
   "source": [
    "status_vals = df.Professional.value_counts()\n",
    "(status_vals/df.shape[0]).plot(kind=\"bar\");\n",
    "plt.title(\"What kind of developer are you?\");"
   ]
  },
  {
   "cell_type": "markdown",
   "metadata": {},
   "source": [
    "- Proportion of individual in each formal education status"
   ]
  },
  {
   "cell_type": "code",
   "execution_count": 28,
   "metadata": {},
   "outputs": [
    {
     "data": {
      "image/png": "[encoded data removed]",
      "text/plain": [
       "<Figure size 432x288 with 1 Axes>"
      ]
     },
     "metadata": {
      "needs_background": "light"
     },
     "output_type": "display_data"
    }
   ],
   "source": [
    "ed_vals = df.FormalEducation.value_counts()\n",
    "(ed_vals/df.shape[0]).plot(kind=\"bar\");\n",
    "plt.title(\"Formal Education\");"
   ]
  },
  {
   "cell_type": "markdown",
   "metadata": {},
   "source": [
    "- The proportion of individuals in each country (top 10 to make visualization easier)"
   ]
  },
  {
   "cell_type": "code",
   "execution_count": 33,
   "metadata": {},
   "outputs": [
    {
     "data": {
      "image/png": "[encoded data removed]",
      "text/plain": [
       "<Figure size 432x288 with 1 Axes>"
      ]
     },
     "metadata": {
      "needs_background": "light"
     },
     "output_type": "display_data"
    }
   ],
   "source": [
    "count_vals = df.Country.value_counts()\n",
    "(count_vals[:10]/df.shape[0]).plot(kind=\"bar\");\n",
    "plt.title(\"Country\");"
   ]
  },
  {
   "cell_type": "markdown",
   "metadata": {},
   "source": [
    "- Compare the gender and education effect in the salary mean"
   ]
  },
  {
   "cell_type": "code",
   "execution_count": 36,
   "metadata": {},
   "outputs": [
    {
     "data": {
      "text/plain": [
       "Gender  FormalEducation                                                  \n",
       "Female  Bachelor's degree                                                    60040.908291\n",
       "        Doctoral degree                                                      90623.768006\n",
       "        I never completed any formal education                                        NaN\n",
       "        I prefer not to answer                                               13255.786387\n",
       "        Master's degree                                                      56210.867588\n",
       "        Primary/elementary school                                            32258.064516\n",
       "        Professional degree                                                  45458.307618\n",
       "        Secondary school                                                     41110.162320\n",
       "        Some college/university study without earning a bachelor's degree    48116.699754\n",
       "Male    Bachelor's degree                                                    57413.518034\n",
       "        Doctoral degree                                                      76872.602904\n",
       "        I never completed any formal education                               43090.588914\n",
       "        I prefer not to answer                                               37629.362623\n",
       "        Master's degree                                                      59156.503938\n",
       "        Primary/elementary school                                            63777.121965\n",
       "        Professional degree                                                  40901.083005\n",
       "        Secondary school                                                     41353.206724\n",
       "        Some college/university study without earning a bachelor's degree    57262.911063\n",
       "Name: Salary, dtype: float64"
      ]
     },
     "execution_count": 36,
     "metadata": {},
     "output_type": "execute_result"
    }
   ],
   "source": [
    "pd.DataFrame(df.query(\"Professional == 'Professional developer' and (Gender == 'Male' or Gender == 'Female')\")).groupby(['Gender', 'FormalEducation']).mean()['Salary']"
   ]
  },
  {
   "cell_type": "markdown",
   "metadata": {},
   "source": [
    "## 4) Answer business questions <a class=\"anchor\" id=\"business-questions\"></a>\n",
    "- How to enter the field? *(CousinEducation column)*\n",
    "- What are job placement and salary rates for bootcamps? *(TimeAfterBootcamp column)*\n",
    "- What relates to job satisfaction? *(Many columns)*\n",
    "- What relates to salary? *(Many columns)*\n"
   ]
  },
  {
   "cell_type": "markdown",
   "metadata": {},
   "source": [
    "### 4.1) How to enter the field? <a class=\"anchor\" id=\"enter-field\"></a>"
   ]
  },
  {
   "cell_type": "markdown",
   "metadata": {},
   "source": [
    "- First we are going to understand which question generated the column CousinEducation that is going to help us to asnwer the question \"How to enter the field?\""
   ]
  },
  {
   "cell_type": "code",
   "execution_count": 62,
   "metadata": {},
   "outputs": [],
   "source": [
    "#Creating a function to return the question used to generate the survey's answers\n",
    "def get_description(column_name, df_schema = df_schema):\n",
    "    desc = list(df_schema[df_schema[\"Column\"]==column_name][\"Question\"])[0]\n",
    "    return desc"
   ]
  },
  {
   "cell_type": "code",
   "execution_count": 63,
   "metadata": {},
   "outputs": [
    {
     "data": {
      "text/plain": [
       "\"Let's pretend you have a distant cousin. They are 24 years old, have a college degree in a field not related to computer programming, and have been working a non-coding job for the last two years. They want your advice on how to switch to a career as a software developer. Which of the following options would you most strongly recommend to your cousin?\\nLet's pretend you have a distant cousin named Robert. He is 24 years old, has a college degree in a field not related to computer programming, and has been working a non-coding job for the last two years. He wants your advice on how to switch to a career as a software developer. Which of the following options would you most strongly recommend to Robert?\\nLet's pretend you have a distant cousin named Alice. She is 24 years old, has a college degree in a field not related to computer programming, and has been working a non-coding job for the last two years. She wants your advice on how to switch to a career as a software developer. Which of the following options would you most strongly recommend to Alice?\""
      ]
     },
     "execution_count": 63,
     "metadata": {},
     "output_type": "execute_result"
    }
   ],
   "source": [
    "get_description(\"CousinEducation\")"
   ]
  },
  {
   "cell_type": "code",
   "execution_count": 65,
   "metadata": {},
   "outputs": [
    {
     "data": {
      "text/plain": [
       "{'Are you currently enrolled in a formal, degree-granting college or university program?',\n",
       " 'Building things is very rewarding',\n",
       " 'Career satisfaction rating',\n",
       " 'Compared to your estimate of your own market value, do you think you are…?',\n",
       " 'Congratulations! The bosses at your new employer, E Corp, are allowing you to choose which metrics will be used to assess your individual performance in your role as a senior developer. Which metrics do you suggest to the E bosses?',\n",
       " \"Congratulations! You've just been put in charge of technical recruiting at Globex, a multinational high- tech firm. This job comes with a corner office, and you have an experienced staff of recruiters at your disposal. They want to know what they should prioritize when recruiting software developers. How important should each of the following be in Globex's hiring process? Communication skills\",\n",
       " \"Congratulations! You've just been put in charge of technical recruiting at Globex, a multinational high- tech firm. This job comes with a corner office, and you have an experienced staff of recruiters at your disposal. They want to know what they should prioritize when recruiting software developers. How important should each of the following be in Globex's hiring process? Contributions to open source projects\",\n",
       " \"Congratulations! You've just been put in charge of technical recruiting at Globex, a multinational high- tech firm. This job comes with a corner office, and you have an experienced staff of recruiters at your disposal. They want to know what they should prioritize when recruiting software developers. How important should each of the following be in Globex's hiring process? Educational credentials (e.g. schools attended, specific field of study, grades earned)\",\n",
       " \"Congratulations! You've just been put in charge of technical recruiting at Globex, a multinational high- tech firm. This job comes with a corner office, and you have an experienced staff of recruiters at your disposal. They want to know what they should prioritize when recruiting software developers. How important should each of the following be in Globex's hiring process? Experience with specific project management tools & techniques\",\n",
       " \"Congratulations! You've just been put in charge of technical recruiting at Globex, a multinational high- tech firm. This job comes with a corner office, and you have an experienced staff of recruiters at your disposal. They want to know what they should prioritize when recruiting software developers. How important should each of the following be in Globex's hiring process? Experience with specific tools (libraries, frameworks, etc.) used by the employer\",\n",
       " \"Congratulations! You've just been put in charge of technical recruiting at Globex, a multinational high- tech firm. This job comes with a corner office, and you have an experienced staff of recruiters at your disposal. They want to know what they should prioritize when recruiting software developers. How important should each of the following be in Globex's hiring process? Knowledge of algorithms and data structures\",\n",
       " \"Congratulations! You've just been put in charge of technical recruiting at Globex, a multinational high- tech firm. This job comes with a corner office, and you have an experienced staff of recruiters at your disposal. They want to know what they should prioritize when recruiting software developers. How important should each of the following be in Globex's hiring process? Previous companies worked at\",\n",
       " \"Congratulations! You've just been put in charge of technical recruiting at Globex, a multinational high- tech firm. This job comes with a corner office, and you have an experienced staff of recruiters at your disposal. They want to know what they should prioritize when recruiting software developers. How important should each of the following be in Globex's hiring process? Previous job titles held\",\n",
       " \"Congratulations! You've just been put in charge of technical recruiting at Globex, a multinational high- tech firm. This job comes with a corner office, and you have an experienced staff of recruiters at your disposal. They want to know what they should prioritize when recruiting software developers. How important should each of the following be in Globex's hiring process? Stack Overflow reputation\",\n",
       " \"Congratulations! You've just been put in charge of technical recruiting at Globex, a multinational high- tech firm. This job comes with a corner office, and you have an experienced staff of recruiters at your disposal. They want to know what they should prioritize when recruiting software developers. How important should each of the following be in Globex's hiring process? Track record of getting things done\",\n",
       " 'Diversity in the workplace is important',\n",
       " 'Do you program as a hobby or contribute to open source projects?',\n",
       " 'During a typical week, approximately how many hours do you spend on activities related to finding new job opportunities?Please adjust the slider to the appropriate number of hours. The box to the right will indicate the number of hours you have chosen.',\n",
       " 'For how many years did you code as part of your job?',\n",
       " 'For how many years have you coded as part of your job?',\n",
       " 'For which of the following platforms do you develop mobile applications?',\n",
       " \"Honestly, there's a lot about computers that I just don't understand\",\n",
       " 'How do you pronounce \"GIF\"?',\n",
       " 'How long has it been since you first learned how to program?',\n",
       " 'How much influence do you have on purchasing decisions within your organization for each of the following? Cloud or serverless back-end solutions',\n",
       " 'How much influence do you have on purchasing decisions within your organization for each of the following? Communication & collaboration tools',\n",
       " 'How much influence do you have on purchasing decisions within your organization for each of the following? Consultants',\n",
       " 'How much influence do you have on purchasing decisions within your organization for each of the following? Data analysis and visualization tools (e.g. Tableau, Looker)',\n",
       " 'How much influence do you have on purchasing decisions within your organization for each of the following? Database systems or solutions',\n",
       " 'How much influence do you have on purchasing decisions within your organization for each of the following? Internet bandwidth',\n",
       " 'How much influence do you have on purchasing decisions within your organization for each of the following? Main technical stack of the company',\n",
       " 'How much influence do you have on purchasing decisions within your organization for each of the following? Personal workstation hardware for others in the company',\n",
       " 'How much influence do you have on purchasing decisions within your organization for each of the following? Recruitment tools & platforms',\n",
       " 'How much influence do you have on purchasing decisions within your organization for each of the following? Servers',\n",
       " 'How much influence do you have on purchasing decisions within your organization for each of the following? Technical stack used in your department',\n",
       " 'How much influence do you have on purchasing decisions within your organization for each of the following? Your personal workstation hardware',\n",
       " 'How often do you work from home or remotely?',\n",
       " \"I don't know what I'd do without Stack Overflow\",\n",
       " \"I don't really care what I work on, so long as I'm paid well\",\n",
       " 'I enjoy debugging code',\n",
       " 'I feel a sense of kinship to other developers',\n",
       " 'I feel like a member of the Stack Overflow community',\n",
       " 'I have difficulty communicating my ideas to my peers',\n",
       " 'I invest a lot of time into the tools I use',\n",
       " 'I like to challenge myself',\n",
       " 'I love solving problems',\n",
       " \"I often get “into the zone” when I'm coding\",\n",
       " 'I take my work very seriously',\n",
       " 'I tend to get bored by implementation details',\n",
       " 'I think of myself as competing with my peers',\n",
       " 'I want to change the world',\n",
       " \"I'm interested in learning how other developers answered\",\n",
       " 'If two developers are sharing an office, is it OK for one of them to get a mechanical keyboard with loud \"clicky\" keys?',\n",
       " 'In terms of the number of employees, how large is the company or organization you work for?',\n",
       " 'In which country do you currently live?',\n",
       " 'It annoys me when software has a poor UI',\n",
       " \"It's better to ship now and optimize later\",\n",
       " \"It's harder to collaborate with remote peers than those on site\",\n",
       " 'Job satisfaction rating',\n",
       " 'Job security is important to me',\n",
       " 'Learning new technologies is fun',\n",
       " \"Let's pretend you have a distant cousin. They are 24 years old, have a college degree in a field not related to computer programming, and have been working a non-coding job for the last two years. They want your advice on how to switch to a career as a software developer. Which of the following options would you most strongly recommend to your cousin?\\nLet's pretend you have a distant cousin named Robert. He is 24 years old, has a college degree in a field not related to computer programming, and has been working a non-coding job for the last two years. He wants your advice on how to switch to a career as a software developer. Which of the following options would you most strongly recommend to Robert?\\nLet's pretend you have a distant cousin named Alice. She is 24 years old, has a college degree in a field not related to computer programming, and has been working a non-coding job for the last two years. She wants your advice on how to switch to a career as a software developer. Which of the following options would you most strongly recommend to Alice?\",\n",
       " \"Maintaining other people's code is a form of torture\",\n",
       " 'Most of my friends are developers, engineers, or scientists',\n",
       " 'Most project management techniques are useless',\n",
       " 'On which of the following sites do you maintain a profile, CV, or resumé?',\n",
       " 'Outside of your formal schooling and education, which of the following have you done?',\n",
       " 'Over the last three months, approximately how often have you done each of the following on Stack Overflow? Asked a new question',\n",
       " 'Over the last three months, approximately how often have you done each of the following on Stack Overflow? Copied a code example and pasted it into my codebase',\n",
       " 'Over the last three months, approximately how often have you done each of the following on Stack Overflow? Found an answer that solved my coding problem',\n",
       " 'Over the last three months, approximately how often have you done each of the following on Stack Overflow? Participated in community discussions on meta or in chat',\n",
       " 'Over the last three months, approximately how often have you done each of the following on Stack Overflow? Researched a potential employer by visiting its company page',\n",
       " 'Over the last three months, approximately how often have you done each of the following on Stack Overflow? Searched for jobs',\n",
       " 'Over the last three months, approximately how often have you done each of the following on Stack Overflow? Seen a job listing I was interested in',\n",
       " \"Over the last three months, approximately how often have you done each of the following on Stack Overflow? Written a new answer to someone else's question\",\n",
       " 'Over the last year, how often have you checked-in or committed code?',\n",
       " 'Overall, how important has your formal schooling and education been to your career success?',\n",
       " 'Respondent ID number',\n",
       " 'Stack Overflow makes the Internet a better place',\n",
       " 'Stack Overflow satisfaction',\n",
       " 'Suppose you could choose your own working hours for an 8-hour day. What time would you start work for the day? Please adjust the slider to the hour nearest your ideal start time. The box next to the slider will display your selection using a 24-hour clock',\n",
       " \"Suppose you're about to start a few hours of coding and have complete control over your auditory environment (music, background noise, etc.). What would you do?\",\n",
       " 'Tabs or spaces?',\n",
       " 'The ads on Stack Overflow are distracting',\n",
       " 'The ads on Stack Overflow are relevant to me',\n",
       " 'The answers and code examples I get on Stack Overflow are helpful',\n",
       " 'The moderation on Stack Overflow is unfair',\n",
       " 'The people who run Stack Overflow are just in it for the money',\n",
       " 'The questions were confusing',\n",
       " 'The questions were interesting',\n",
       " \"There's a right and a wrong way to do everything\",\n",
       " 'Think back to the last time you updated your resumé, CV, or an online profile on a job site. What prompted you to do so?',\n",
       " 'Think back to when you first applied to work for your current employer. Which of the following best describes how you learned that they were hiring for that particular job?',\n",
       " 'Thinking about your main coding workstation, how satisfied are you with each of the following? Amount of RAM',\n",
       " 'Thinking about your main coding workstation, how satisfied are you with each of the following? Monitors/screens (number of, size, resolution)',\n",
       " 'Thinking about your main coding workstation, how satisfied are you with each of the following? Processing power (CPU and/or GPU)',\n",
       " 'Thinking about your main coding workstation, how satisfied are you with each of the following? Storage capacity',\n",
       " 'Thinking about your main coding workstation, how satisfied are you with each of the following? Storage read/write speed',\n",
       " 'This survey was too long',\n",
       " 'What is the highest level of education received by either of your parents?',\n",
       " 'What is your current annual base salary, before taxes, and excluding bonuses, grants, or other compensation?',\n",
       " 'What version control system do you use? If you use several, please choose the one you use most often.',\n",
       " 'When it comes to compensation and benefits, other than base salary, which of the following are most important to you?',\n",
       " 'When was the last time that you took a job with a new employer?',\n",
       " \"When you're assessing potential jobs to apply to, how important are each of the following to you? How projects are managed at the company or organization\",\n",
       " \"When you're assessing potential jobs to apply to, how important are each of the following to you? How widely used or impactful the product or service I'd be working on is\",\n",
       " \"When you're assessing potential jobs to apply to, how important are each of the following to you? Opportunities for professional development\",\n",
       " \"When you're assessing potential jobs to apply to, how important are each of the following to you? The amount of time I'd have to spend commuting\",\n",
       " \"When you're assessing potential jobs to apply to, how important are each of the following to you? The compensation and benefits offered\",\n",
       " \"When you're assessing potential jobs to apply to, how important are each of the following to you? The diversity of the company or organization\",\n",
       " \"When you're assessing potential jobs to apply to, how important are each of the following to you? The experience level called for in the job description\",\n",
       " \"When you're assessing potential jobs to apply to, how important are each of the following to you? The financial performance or funding status of the company or organization\",\n",
       " \"When you're assessing potential jobs to apply to, how important are each of the following to you? The industry that I'd be working in\",\n",
       " \"When you're assessing potential jobs to apply to, how important are each of the following to you? The languages, frameworks, and other technologies I'd be working with\",\n",
       " \"When you're assessing potential jobs to apply to, how important are each of the following to you? The office environment I'd be working in\",\n",
       " \"When you're assessing potential jobs to apply to, how important are each of the following to you? The opportunity to work from home/remotely\",\n",
       " \"When you're assessing potential jobs to apply to, how important are each of the following to you? The reputations of the company's senior leaders\",\n",
       " \"When you're assessing potential jobs to apply to, how important are each of the following to you? The specific department or team I'd be working on\",\n",
       " \"When you're assessing potential jobs to apply to, how important are each of the following to you? The specific role or job title I'd be applying for\",\n",
       " \"Which currency do you use day-to-day? If you're a globe-trotting digital nomad and the answer is “it's complicated,” please pick the one you're most comfortable estimating in.\",\n",
       " 'Which development environment(s) do you use regularly?',\n",
       " 'Which of the following best describe you?',\n",
       " \"Which of the following best describes the highest level of formal education that you've completed?\",\n",
       " 'Which of the following best describes the type of company or organization you work for?',\n",
       " 'Which of the following best describes you as a Web developer?',\n",
       " 'Which of the following best describes you?',\n",
       " 'Which of the following best describes your current employment status?',\n",
       " 'Which of the following best describes your current job-seeking status?',\n",
       " \"Which of the following best describes your main field of study (aka 'major') in college or university/for your undergraduate studies?\",\n",
       " 'Which of the following database technologies have you done extensive development work in over the past year, and which do you want to work in over the next year?',\n",
       " 'Which of the following describe you?',\n",
       " 'Which of the following devices have you used to connect to Stack Overflow over the last three months?',\n",
       " 'Which of the following do you currently identify as?',\n",
       " 'Which of the following do you identify as?',\n",
       " 'Which of the following languages have you done extensive development work in over the past year, and which do you want to work in over the next year?',\n",
       " 'Which of the following libraries, frameworks, and tools have you done extensive development work in over the past year, and which do you want to work in over the next year?',\n",
       " 'Which of the following methodologies do you have experience working in?',\n",
       " 'Which of the following platforms have you done extensive development work for over the past year, and which do you want to work on over the next year?',\n",
       " 'You indicated previously that you went through a developer “bootcamp.” How long did it take you to get a full-time job as a developer after graduating?',\n",
       " \"You indicated that you had taught yourself a programming technology without taking a course. What resources did you use to do that? If you've done it more than once, please think about the most recent time you've done so.\",\n",
       " 'You said before that you are currently learning how to program. When you have completed your studies, what annual salary do you expect to earn in your first job after graduation?',\n",
       " \"You said before that you used to code as part of your job, but no longer do. To what extent do you agree or disagree with the following statements? I don't think my coding skills are up to date\",\n",
       " 'You said before that you used to code as part of your job, but no longer do. To what extent do you agree or disagree with the following statements? I have better work-life balance now than I did as a developer',\n",
       " \"You said before that you used to code as part of your job, but no longer do. To what extent do you agree or disagree with the following statements? I probably won't code for a living ever again\",\n",
       " \"You said before that you used to code as part of your job, but no longer do. To what extent do you agree or disagree with the following statements? I'm still active in the developer community\",\n",
       " \"You said before that you used to code as part of your job, but no longer do. To what extent do you agree or disagree with the following statements? If money weren't an issue, I would take a coding job again\",\n",
       " 'You said before that you used to code as part of your job, but no longer do. To what extent do you agree or disagree with the following statements? My career is going the way I thought it would 10 years ago',\n",
       " \"You said before that you used to code as part of your job, but no longer do. To what extent do you agree or disagree with the following statements? When I was a developer, I didn't feel like I belonged with my colleagues\",\n",
       " \"You said before that you used to code as part of your job, but no longer do. To what extent do you agree or disagree with the following statements? Working as a developer just wasn't for me\"}"
      ]
     },
     "execution_count": 65,
     "metadata": {},
     "output_type": "execute_result"
    }
   ],
   "source": [
    "#Get the questions used to generate all columns. Used to check if the funcion get_description is working well\n",
    "descrips = set(get_description(col) for col in df.columns)\n",
    "descrips"
   ]
  },
  {
   "cell_type": "markdown",
   "metadata": {},
   "source": [
    "- After, we want to understand the anwers given for this question in the column CousinEducation"
   ]
  },
  {
   "cell_type": "code",
   "execution_count": 67,
   "metadata": {},
   "outputs": [
    {
     "data": {
      "text/plain": [
       "Take online courses; Buy books and work through the exercises                                         711\n",
       "Take online courses                                                                                   551\n",
       "None of these                                                                                         523\n",
       "Take online courses; Part-time/evening courses; Buy books and work through the exercises              479\n",
       "Take online courses; Bootcamp; Part-time/evening courses; Buy books and work through the exercises    465\n",
       "                                                                                                     ... \n",
       "Master's degree; Contribute to open source; Part-time/evening courses; Participate in hackathons        1\n",
       "Return to college; Participate in online coding competitions; Conferences/meet-ups; Other               1\n",
       "Return to college; Get a job as a QA tester; Participate in hackathons; Other                           1\n",
       "Return to college; Participate in hackathons; Conferences/meet-ups; Other                               1\n",
       "Master's degree; Take online courses; Other                                                             1\n",
       "Name: CousinEducation, Length: 735, dtype: int64"
      ]
     },
     "execution_count": 67,
     "metadata": {},
     "output_type": "execute_result"
    }
   ],
   "source": [
    "#Check how the answers from the CousinEducation column look like\n",
    "cous_ed_vals = df.CousinEducation.value_counts()\n",
    "cous_ed_vals"
   ]
  },
  {
   "cell_type": "code",
   "execution_count": 68,
   "metadata": {},
   "outputs": [
    {
     "data": {
      "text/plain": [
       "Text(0.5, 1.0, 'Formal Education')"
      ]
     },
     "execution_count": 68,
     "metadata": {},
     "output_type": "execute_result"
    },
    {
     "data": {
      "image/png": "[encoded data removed]",
      "text/plain": [
       "<Figure size 432x288 with 1 Axes>"
      ]
     },
     "metadata": {
      "needs_background": "light"
     },
     "output_type": "display_data"
    }
   ],
   "source": [
    "(cous_ed_vals/df.shape[0]).plot(kind=\"bar\")\n",
    "plt.title(\"Formal Education\")"
   ]
  },
  {
   "cell_type": "markdown",
   "metadata": {},
   "source": [
    "- As we can observe, the develpers chose many different combinations of answers to suggest how to study and get into to the technology field. For this reason, it is necessary to treat the data in order to figure out the exact frequency of study methods chosen in this survey."
   ]
  },
  {
   "cell_type": "code",
   "execution_count": 113,
   "metadata": {},
   "outputs": [],
   "source": [
    "study_methods = []\n",
    "for i in range(study.shape[0]):\n",
    "    ans_study = study[\"method\"][i].split(\";\") #separating methods types in the answers\n",
    "    ans_study = [s.strip() for s in ans_study] #removing white spaces to avoid creating different study methods\n",
    "    study_methods = study_methods + ans_study"
   ]
  },
  {
   "cell_type": "code",
   "execution_count": 96,
   "metadata": {},
   "outputs": [
    {
     "data": {
      "text/plain": [
       "Counter({'Take online courses': 229,\n",
       "         'Buy books and work through the exercises': 226,\n",
       "         'None of these': 2,\n",
       "         'Part-time/evening courses': 220,\n",
       "         'Bootcamp': 212,\n",
       "         'Other': 187,\n",
       "         'Return to college': 216,\n",
       "         'Contribute to open source': 228,\n",
       "         'Conferences/meet-ups': 217,\n",
       "         'Get a job as a QA tester': 204,\n",
       "         'Participate in online coding competitions': 210,\n",
       "         'Participate in hackathons': 209,\n",
       "         \"Master's degree\": 201})"
      ]
     },
     "execution_count": 96,
     "metadata": {},
     "output_type": "execute_result"
    }
   ],
   "source": [
    "count_study = collections.Counter(study_methods) #Count the frequency of elements in a list\n",
    "count_study"
   ]
  },
  {
   "cell_type": "code",
   "execution_count": 133,
   "metadata": {},
   "outputs": [
    {
     "data": {
      "text/html": [
       "<div>\n",
       "<style scoped>\n",
       "    .dataframe tbody tr th:only-of-type {\n",
       "        vertical-align: middle;\n",
       "    }\n",
       "\n",
       "    .dataframe tbody tr th {\n",
       "        vertical-align: top;\n",
       "    }\n",
       "\n",
       "    .dataframe thead th {\n",
       "        text-align: right;\n",
       "    }\n",
       "</style>\n",
       "<table border=\"1\" class=\"dataframe\">\n",
       "  <thead>\n",
       "    <tr style=\"text-align: right;\">\n",
       "      <th></th>\n",
       "      <th>method</th>\n",
       "      <th>count</th>\n",
       "    </tr>\n",
       "  </thead>\n",
       "  <tbody>\n",
       "    <tr>\n",
       "      <th>0</th>\n",
       "      <td>Take online courses</td>\n",
       "      <td>229</td>\n",
       "    </tr>\n",
       "    <tr>\n",
       "      <th>1</th>\n",
       "      <td>Buy books and work through the exercises</td>\n",
       "      <td>226</td>\n",
       "    </tr>\n",
       "    <tr>\n",
       "      <th>2</th>\n",
       "      <td>None of these</td>\n",
       "      <td>2</td>\n",
       "    </tr>\n",
       "    <tr>\n",
       "      <th>3</th>\n",
       "      <td>Part-time/evening courses</td>\n",
       "      <td>220</td>\n",
       "    </tr>\n",
       "    <tr>\n",
       "      <th>4</th>\n",
       "      <td>Bootcamp</td>\n",
       "      <td>212</td>\n",
       "    </tr>\n",
       "    <tr>\n",
       "      <th>5</th>\n",
       "      <td>Other</td>\n",
       "      <td>187</td>\n",
       "    </tr>\n",
       "    <tr>\n",
       "      <th>6</th>\n",
       "      <td>Return to college</td>\n",
       "      <td>216</td>\n",
       "    </tr>\n",
       "    <tr>\n",
       "      <th>7</th>\n",
       "      <td>Contribute to open source</td>\n",
       "      <td>228</td>\n",
       "    </tr>\n",
       "    <tr>\n",
       "      <th>8</th>\n",
       "      <td>Conferences/meet-ups</td>\n",
       "      <td>217</td>\n",
       "    </tr>\n",
       "    <tr>\n",
       "      <th>9</th>\n",
       "      <td>Get a job as a QA tester</td>\n",
       "      <td>204</td>\n",
       "    </tr>\n",
       "    <tr>\n",
       "      <th>10</th>\n",
       "      <td>Participate in online coding competitions</td>\n",
       "      <td>210</td>\n",
       "    </tr>\n",
       "    <tr>\n",
       "      <th>11</th>\n",
       "      <td>Participate in hackathons</td>\n",
       "      <td>209</td>\n",
       "    </tr>\n",
       "    <tr>\n",
       "      <th>12</th>\n",
       "      <td>Master's degree</td>\n",
       "      <td>201</td>\n",
       "    </tr>\n",
       "  </tbody>\n",
       "</table>\n",
       "</div>"
      ],
      "text/plain": [
       "                                       method  count\n",
       "0                         Take online courses    229\n",
       "1    Buy books and work through the exercises    226\n",
       "2                               None of these      2\n",
       "3                   Part-time/evening courses    220\n",
       "4                                    Bootcamp    212\n",
       "5                                       Other    187\n",
       "6                           Return to college    216\n",
       "7                   Contribute to open source    228\n",
       "8                        Conferences/meet-ups    217\n",
       "9                    Get a job as a QA tester    204\n",
       "10  Participate in online coding competitions    210\n",
       "11                  Participate in hackathons    209\n",
       "12                            Master's degree    201"
      ]
     },
     "execution_count": 133,
     "metadata": {},
     "output_type": "execute_result"
    }
   ],
   "source": [
    "df_study = pd.DataFrame.from_dict(count_study, orient='index').reset_index() #transforms the collections.Counter() dictionary into a dataframe\n",
    "df_study.rename(columns={'index': 'method', 0: 'count'}, inplace=True) #rename columns dataframe\n",
    "df_study"
   ]
  },
  {
   "cell_type": "code",
   "execution_count": 135,
   "metadata": {},
   "outputs": [],
   "source": [
    "total_ans = df_study[\"count\"].sum()\n",
    "df_study[\"count\"] = df_study[\"count\"].apply(lambda x: x/total_ans) #generating percentage"
   ]
  },
  {
   "cell_type": "code",
   "execution_count": 144,
   "metadata": {},
   "outputs": [
    {
     "data": {
      "image/png": "[encoded data removed]",
      "text/plain": [
       "<Figure size 432x288 with 1 Axes>"
      ]
     },
     "metadata": {
      "needs_background": "light"
     },
     "output_type": "display_data"
    }
   ],
   "source": [
    "df_study.sort_values(\"count\", ascending=False, inplace = True) #order dataframe values to make the bar plot easier to understand\n",
    "df_study.plot(x = \"method\", y= \"count\", kind=\"bar\", legend=None);\n",
    "plt.title(\"Method of educating suggested\");"
   ]
  },
  {
   "cell_type": "markdown",
   "metadata": {},
   "source": [
    "- Now we can see the most recommended methods easily!"
   ]
  },
  {
   "cell_type": "markdown",
   "metadata": {},
   "source": [
    "### 4.2) What are job placement and salary rates for bootcamps? (TimeAfterBootcamp column) <a class=\"anchor\" id=\"job-placement\"></a>"
   ]
  },
  {
   "cell_type": "code",
   "execution_count": 154,
   "metadata": {},
   "outputs": [
    {
     "data": {
      "text/plain": [
       "'You indicated previously that you went through a developer “bootcamp.” How long did it take you to get a full-time job as a developer after graduating?'"
      ]
     },
     "execution_count": 154,
     "metadata": {},
     "output_type": "execute_result"
    }
   ],
   "source": [
    "#Check the question used to generate the column TimeAfterBootcamp\n",
    "list(df_schema[df_schema[\"Column\"]==\"TimeAfterBootcamp\"][\"Question\"])[0]"
   ]
  },
  {
   "cell_type": "code",
   "execution_count": 146,
   "metadata": {},
   "outputs": [
    {
     "data": {
      "text/plain": [
       "I already had a job as a developer when I started the program    1193\n",
       "Immediately upon graduating                                       294\n",
       "I got a job as a developer before completing the program          252\n",
       "One to three months                                               228\n",
       "I haven't gotten a job as a developer yet                         211\n",
       "Less than a month                                                 156\n",
       "Four to six months                                                105\n",
       "Longer than a year                                                 85\n",
       "Six months to a year                                               78\n",
       "Name: TimeAfterBootcamp, dtype: int64"
      ]
     },
     "execution_count": 146,
     "metadata": {},
     "output_type": "execute_result"
    }
   ],
   "source": [
    "#Verifying the types of answers chosen in the TimeAfterBootcamp Column\n",
    "df[\"TimeAfterBootcamp\"].value_counts()"
   ]
  },
  {
   "cell_type": "code",
   "execution_count": 147,
   "metadata": {},
   "outputs": [
    {
     "data": {
      "text/plain": [
       "True     48790\n",
       "False     2602\n",
       "Name: TimeAfterBootcamp, dtype: int64"
      ]
     },
     "execution_count": 147,
     "metadata": {},
     "output_type": "execute_result"
    }
   ],
   "source": [
    "#Checking if there is null data\n",
    "df[\"TimeAfterBootcamp\"].isnull().value_counts()\n",
    "#The null answers are probably the developers who did not indicate a bootcamp"
   ]
  },
  {
   "cell_type": "code",
   "execution_count": 158,
   "metadata": {},
   "outputs": [
    {
     "data": {
      "text/plain": [
       "I already had a job as a developer when I started the program    1193\n",
       "Immediately upon graduating                                       294\n",
       "I got a job as a developer before completing the program          252\n",
       "One to three months                                               228\n",
       "I haven't gotten a job as a developer yet                         211\n",
       "Less than a month                                                 156\n",
       "Four to six months                                                105\n",
       "Longer than a year                                                 85\n",
       "Six months to a year                                               78\n",
       "Name: TimeAfterBootcamp, dtype: int64"
      ]
     },
     "execution_count": 158,
     "metadata": {},
     "output_type": "execute_result"
    }
   ],
   "source": [
    "#Creating a dataframe only for the developers who HAVE answered this question\n",
    "bootcamp_df = df[df[\"TimeAfterBootcamp\"].isnull() == False]\n",
    "bootcamp_df[\"TimeAfterBootcamp\"].value_counts()"
   ]
  },
  {
   "cell_type": "code",
   "execution_count": 159,
   "metadata": {},
   "outputs": [
    {
     "name": "stdout",
     "output_type": "stream",
     "text": [
      "bootcamp_df.shape (2602, 154)\n"
     ]
    }
   ],
   "source": [
    "print(\"bootcamp_df.shape\",bootcamp_df.shape)"
   ]
  },
  {
   "cell_type": "code",
   "execution_count": 156,
   "metadata": {},
   "outputs": [
    {
     "data": {
      "text/plain": [
       "Series([], Name: TimeAfterBootcamp, dtype: int64)"
      ]
     },
     "execution_count": 156,
     "metadata": {},
     "output_type": "execute_result"
    }
   ],
   "source": [
    "#Creating a dataframe only for the developers who HAVE NOT answered this question\n",
    "not_bootcamp_df = df[df[\"TimeAfterBootcamp\"].isnull() == True]\n",
    "not_bootcamp_df[\"TimeAfterBootcamp\"].value_counts()"
   ]
  },
  {
   "cell_type": "code",
   "execution_count": 160,
   "metadata": {},
   "outputs": [
    {
     "name": "stdout",
     "output_type": "stream",
     "text": [
      "not_bootcamp_df.shape (48790, 154)\n"
     ]
    }
   ],
   "source": [
    "print(\"not_bootcamp_df.shape\",not_bootcamp_df.shape)"
   ]
  },
  {
   "cell_type": "markdown",
   "metadata": {},
   "source": [
    "- Some bootcamps say that they aim to benefit groups that are under represented in the technical community. We are going to explore that aspect bellow:"
   ]
  },
  {
   "cell_type": "code",
   "execution_count": 168,
   "metadata": {},
   "outputs": [
    {
     "data": {
      "text/plain": [
       "Male                                                       0.863071\n",
       "Female                                                     0.112494\n",
       "Other                                                      0.006455\n",
       "Gender non-conforming                                      0.005533\n",
       "Male; Other                                                0.002766\n",
       "Female; Gender non-conforming                              0.001383\n",
       "Male; Gender non-conforming                                0.001383\n",
       "Transgender; Gender non-conforming                         0.000922\n",
       "Transgender                                                0.000922\n",
       "Male; Female                                               0.000922\n",
       "Female; Transgender; Gender non-conforming                 0.000922\n",
       "Male; Female; Transgender; Gender non-conforming; Other    0.000922\n",
       "Male; Transgender                                          0.000922\n",
       "Male; Gender non-conforming; Other                         0.000461\n",
       "Female; Gender non-conforming; Other                       0.000461\n",
       "Male; Female; Transgender; Gender non-conforming           0.000461\n",
       "Name: Gender, dtype: float64"
      ]
     },
     "execution_count": 168,
     "metadata": {},
     "output_type": "execute_result"
    }
   ],
   "source": [
    "#check gender percentage removing people who did not answer\n",
    "bootcamp_df[\"Gender\"].value_counts()/(bootcamp_df.shape[0]-sum(bootcamp_df[\"Gender\"].isnull()))"
   ]
  },
  {
   "cell_type": "code",
   "execution_count": 169,
   "metadata": {},
   "outputs": [
    {
     "data": {
      "text/plain": [
       "Male                                                       0.903857\n",
       "Female                                                     0.071659\n",
       "Other                                                      0.006418\n",
       "Male; Other                                                0.005019\n",
       "Gender non-conforming                                      0.004501\n",
       "Male; Gender non-conforming                                0.001886\n",
       "Female; Transgender                                        0.001703\n",
       "Transgender                                                0.001612\n",
       "Female; Gender non-conforming                              0.000791\n",
       "Male; Female                                               0.000395\n",
       "Transgender; Gender non-conforming                         0.000395\n",
       "Male; Female; Transgender; Gender non-conforming; Other    0.000395\n",
       "Male; Transgender                                          0.000274\n",
       "Female; Transgender; Gender non-conforming                 0.000182\n",
       "Male; Female; Transgender; Gender non-conforming           0.000182\n",
       "Male; Female; Transgender                                  0.000122\n",
       "Gender non-conforming; Other                               0.000122\n",
       "Male; Transgender; Gender non-conforming                   0.000122\n",
       "Male; Female; Other                                        0.000061\n",
       "Male; Gender non-conforming; Other                         0.000061\n",
       "Male; Female; Gender non-conforming                        0.000030\n",
       "Female; Other                                              0.000030\n",
       "Transgender; Other                                         0.000030\n",
       "Male; Female; Gender non-conforming; Other                 0.000030\n",
       "Female; Transgender; Other                                 0.000030\n",
       "Female; Transgender; Gender non-conforming; Other          0.000030\n",
       "Male; Transgender; Other                                   0.000030\n",
       "Male; Female; Transgender; Other                           0.000030\n",
       "Name: Gender, dtype: float64"
      ]
     },
     "execution_count": 169,
     "metadata": {},
     "output_type": "execute_result"
    }
   ],
   "source": [
    "#check gender percentage removing people who did not answer\n",
    "not_bootcamp_df[\"Gender\"].value_counts()/(not_bootcamp_df.shape[0]-sum(not_bootcamp_df[\"Gender\"].isnull()))"
   ]
  },
  {
   "cell_type": "markdown",
   "metadata": {},
   "source": [
    "- There is a little bit of increase in women in bootcamps. Now we will look at the education column named Formal Education"
   ]
  },
  {
   "cell_type": "code",
   "execution_count": 170,
   "metadata": {},
   "outputs": [
    {
     "data": {
      "text/plain": [
       "Bachelor's degree                                                    0.475019\n",
       "Master's degree                                                      0.225211\n",
       "Some college/university study without earning a bachelor's degree    0.162567\n",
       "Secondary school                                                     0.069562\n",
       "Doctoral degree                                                      0.022291\n",
       "Professional degree                                                  0.016141\n",
       "I prefer not to answer                                               0.011914\n",
       "Primary/elementary school                                            0.009224\n",
       "I never completed any formal education                               0.008071\n",
       "Name: FormalEducation, dtype: float64"
      ]
     },
     "execution_count": 170,
     "metadata": {},
     "output_type": "execute_result"
    }
   ],
   "source": [
    "#check FormalEducation percentage removing people who did not answer\n",
    "bootcamp_df[\"FormalEducation\"].value_counts()/(bootcamp_df.shape[0]-sum(bootcamp_df[\"FormalEducation\"].isnull()))"
   ]
  },
  {
   "cell_type": "code",
   "execution_count": 171,
   "metadata": {},
   "outputs": [
    {
     "data": {
      "text/plain": [
       "Bachelor's degree                                                    0.417565\n",
       "Master's degree                                                      0.216335\n",
       "Some college/university study without earning a bachelor's degree    0.157942\n",
       "Secondary school                                                     0.117381\n",
       "Doctoral degree                                                      0.025620\n",
       "I prefer not to answer                                               0.022095\n",
       "Primary/elementary school                                            0.020967\n",
       "Professional degree                                                  0.013794\n",
       "I never completed any formal education                               0.008301\n",
       "Name: FormalEducation, dtype: float64"
      ]
     },
     "execution_count": 171,
     "metadata": {},
     "output_type": "execute_result"
    }
   ],
   "source": [
    "#check FormalEducation percentage removing people who did not answer\n",
    "not_bootcamp_df[\"FormalEducation\"].value_counts()/(not_bootcamp_df.shape[0]-sum(not_bootcamp_df[\"FormalEducation\"].isnull()))"
   ]
  },
  {
   "cell_type": "markdown",
   "metadata": {},
   "source": [
    "- There is more people who have a bachelors degree who participate in bootcamps. Now we are going to check the time that it takes for a person to find a job after finishing a bootcamp."
   ]
  },
  {
   "cell_type": "code",
   "execution_count": 172,
   "metadata": {},
   "outputs": [
    {
     "data": {
      "text/plain": [
       "I already had a job as a developer when I started the program    0.458493\n",
       "Immediately upon graduating                                      0.112990\n",
       "I got a job as a developer before completing the program         0.096849\n",
       "One to three months                                              0.087625\n",
       "I haven't gotten a job as a developer yet                        0.081091\n",
       "Less than a month                                                0.059954\n",
       "Four to six months                                               0.040354\n",
       "Longer than a year                                               0.032667\n",
       "Six months to a year                                             0.029977\n",
       "Name: TimeAfterBootcamp, dtype: float64"
      ]
     },
     "execution_count": 172,
     "metadata": {},
     "output_type": "execute_result"
    }
   ],
   "source": [
    "bootcamp_df[\"TimeAfterBootcamp\"].value_counts()/bootcamp_df.shape[0]"
   ]
  },
  {
   "cell_type": "markdown",
   "metadata": {},
   "source": [
    "- Some of the answers above do not let us know the timeframe clearly"
   ]
  },
  {
   "cell_type": "code",
   "execution_count": 174,
   "metadata": {},
   "outputs": [
    {
     "data": {
      "text/plain": [
       "<matplotlib.axes._subplots.AxesSubplot at 0x2529d454820>"
      ]
     },
     "execution_count": 174,
     "metadata": {},
     "output_type": "execute_result"
    },
    {
     "data": {
      "image/png": "[encoded data removed]",
      "text/plain": [
       "<Figure size 432x288 with 1 Axes>"
      ]
     },
     "metadata": {
      "needs_background": "light"
     },
     "output_type": "display_data"
    }
   ],
   "source": [
    "bootcamp_df[\"Salary\"].hist(bins=20)"
   ]
  },
  {
   "cell_type": "markdown",
   "metadata": {},
   "source": [
    "- By ploting the salary histogram, it is possible to observe that there are some spikes in different salaries range. Just the bootcamp info might not be enought to make a clear relationship with salary."
   ]
  },
  {
   "cell_type": "markdown",
   "metadata": {},
   "source": [
    "### 4.3) What relates to job satisfaction? *(Many columns)* <a class=\"anchor\" id=\"job-satisfaction\"></a>\n",
    "We are going to create some hipothesis and find descritive statistics that relates to them."
   ]
  },
  {
   "cell_type": "code",
   "execution_count": 202,
   "metadata": {},
   "outputs": [
    {
     "name": "stdout",
     "output_type": "stream",
     "text": [
      "The proportion of missing values in JobSatisfaction is  0.21435242839352428\n"
     ]
    }
   ],
   "source": [
    "#check the percentage of missing answers for job satisfaction\n",
    "print(\"The proportion of missing values in JobSatisfaction is \",df[\"JobSatisfaction\"].isnull().mean())"
   ]
  },
  {
   "cell_type": "code",
   "execution_count": 184,
   "metadata": {},
   "outputs": [
    {
     "data": {
      "text/plain": [
       "0.0"
      ]
     },
     "execution_count": 184,
     "metadata": {},
     "output_type": "execute_result"
    }
   ],
   "source": [
    "#check the percentage of missing answers for EmploymentStatus\n",
    "df[\"EmploymentStatus\"].value_counts().isnull().mean()"
   ]
  },
  {
   "cell_type": "code",
   "execution_count": 185,
   "metadata": {},
   "outputs": [
    {
     "data": {
      "text/plain": [
       "Employed full-time                                      36148\n",
       "Independent contractor, freelancer, or self-employed     5233\n",
       "Employed part-time                                       3180\n",
       "Not employed, and not looking for work                   2791\n",
       "Not employed, but looking for work                       2786\n",
       "I prefer not to say                                      1086\n",
       "Retired                                                   168\n",
       "Name: EmploymentStatus, dtype: int64"
      ]
     },
     "execution_count": 185,
     "metadata": {},
     "output_type": "execute_result"
    }
   ],
   "source": [
    "df[\"EmploymentStatus\"].value_counts()"
   ]
  },
  {
   "cell_type": "code",
   "execution_count": 189,
   "metadata": {},
   "outputs": [
    {
     "data": {
      "text/plain": [
       "EmploymentStatus\n",
       "Employed full-time                                      6.926805\n",
       "Employed part-time                                      6.821468\n",
       "I prefer not to say                                          NaN\n",
       "Independent contractor, freelancer, or self-employed    7.252823\n",
       "Not employed, and not looking for work                  7.000000\n",
       "Not employed, but looking for work                           NaN\n",
       "Retired                                                      NaN\n",
       "Name: JobSatisfaction, dtype: float64"
      ]
     },
     "execution_count": 189,
     "metadata": {},
     "output_type": "execute_result"
    }
   ],
   "source": [
    "df.groupby([\"EmploymentStatus\"]).mean()[\"JobSatisfaction\"]"
   ]
  },
  {
   "cell_type": "markdown",
   "metadata": {},
   "source": [
    "- The group which has the highest job satisfaction when we look into employment status is Independent contractor, freelancer, or self-employed."
   ]
  },
  {
   "cell_type": "code",
   "execution_count": 190,
   "metadata": {},
   "outputs": [
    {
     "data": {
      "text/plain": [
       "CompanySize\n",
       "1,000 to 4,999 employees    6.884509\n",
       "10 to 19 employees          7.000799\n",
       "10,000 or more employees    6.810345\n",
       "100 to 499 employees        6.937089\n",
       "20 to 99 employees          6.949092\n",
       "5,000 to 9,999 employees    6.748153\n",
       "500 to 999 employees        6.883661\n",
       "Fewer than 10 employees     7.008749\n",
       "I don't know                6.842679\n",
       "I prefer not to answer      7.280835\n",
       "Name: JobSatisfaction, dtype: float64"
      ]
     },
     "execution_count": 190,
     "metadata": {},
     "output_type": "execute_result"
    }
   ],
   "source": [
    "df.groupby([\"CompanySize\"]).mean()[\"JobSatisfaction\"]"
   ]
  },
  {
   "cell_type": "markdown",
   "metadata": {},
   "source": [
    "- Smaller comapanies seems to have the highest job satisfaction."
   ]
  },
  {
   "cell_type": "code",
   "execution_count": 199,
   "metadata": {},
   "outputs": [
    {
     "data": {
      "text/plain": [
       "ProgramHobby\n",
       "No                                           6.833825\n",
       "Yes, I program as a hobby                    6.913072\n",
       "Yes, I contribute to open source projects    7.041535\n",
       "Yes, both                                    7.108041\n",
       "Name: JobSatisfaction, dtype: float64"
      ]
     },
     "execution_count": 199,
     "metadata": {},
     "output_type": "execute_result"
    }
   ],
   "source": [
    "df.groupby([\"ProgramHobby\"]).mean()[\"JobSatisfaction\"].sort_values()"
   ]
  },
  {
   "cell_type": "code",
   "execution_count": 200,
   "metadata": {},
   "outputs": [
    {
     "data": {
      "text/plain": [
       "HomeRemote\n",
       "Never                                                      6.632502\n",
       "It's complicated                                           6.840830\n",
       "More than half, but not all, the time                      6.953184\n",
       "About half the time                                        6.973702\n",
       "A few days each month                                      7.077509\n",
       "Less than half the time, but at least one day each week    7.120125\n",
       "All or almost all the time (I'm full-time remote)          7.388430\n",
       "Name: JobSatisfaction, dtype: float64"
      ]
     },
     "execution_count": 200,
     "metadata": {},
     "output_type": "execute_result"
    }
   ],
   "source": [
    "df.groupby([\"HomeRemote\"]).mean()[\"JobSatisfaction\"].sort_values()"
   ]
  },
  {
   "cell_type": "code",
   "execution_count": 201,
   "metadata": {},
   "outputs": [
    {
     "data": {
      "text/plain": [
       "FormalEducation\n",
       "I never completed any formal education                               6.833333\n",
       "Bachelor's degree                                                    6.866363\n",
       "Master's degree                                                      6.953151\n",
       "Primary/elementary school                                            6.956897\n",
       "I prefer not to answer                                               7.005682\n",
       "Some college/university study without earning a bachelor's degree    7.081334\n",
       "Professional degree                                                  7.087459\n",
       "Secondary school                                                     7.143082\n",
       "Doctoral degree                                                      7.348857\n",
       "Name: JobSatisfaction, dtype: float64"
      ]
     },
     "execution_count": 201,
     "metadata": {},
     "output_type": "execute_result"
    }
   ],
   "source": [
    "df.groupby([\"FormalEducation\"]).mean()[\"JobSatisfaction\"].sort_values()"
   ]
  },
  {
   "cell_type": "markdown",
   "metadata": {},
   "source": [
    "- When people code for fun it is likely that the developer will enjoy their job.\n",
    "- When people can work remotely they are likely to enjoy their job.\n",
    "- Looks like people who have a doctoral degree are more satisfied with their jobs."
   ]
  },
  {
   "cell_type": "markdown",
   "metadata": {},
   "source": [
    "### 4.4) What relates to salary? *(Many columns)* <a class=\"anchor\" id=\"salary\"></a>\n",
    "Here we are going to use **supervised machine learning** to help us to predict the salaries.\n",
    "The supervised ML process can be divided into:\n",
    "- Instantiate\n",
    "- Fit\n",
    "- Predict\n",
    "- Score"
   ]
  },
  {
   "cell_type": "markdown",
   "metadata": {},
   "source": [
    "There are quantitative and qualitative variables that may help us to understand how salary can be predicted. E.g.:\n",
    "- **Quantitive variables:** number of hours/week worked, job satisfaction, career satisfaction\n",
    "- **Categorical variables:** Country, company size, formal education\n",
    "\n",
    "In supervised machine learning we want to take all of those variables to try to predict an individual salary value.\n",
    "Model will find structure in the data for this purpose."
   ]
  },
  {
   "cell_type": "code",
   "execution_count": 208,
   "metadata": {
    "scrolled": true
   },
   "outputs": [
    {
     "data": {
      "text/html": [
       "<div>\n",
       "<style scoped>\n",
       "    .dataframe tbody tr th:only-of-type {\n",
       "        vertical-align: middle;\n",
       "    }\n",
       "\n",
       "    .dataframe tbody tr th {\n",
       "        vertical-align: top;\n",
       "    }\n",
       "\n",
       "    .dataframe thead th {\n",
       "        text-align: right;\n",
       "    }\n",
       "</style>\n",
       "<table border=\"1\" class=\"dataframe\">\n",
       "  <thead>\n",
       "    <tr style=\"text-align: right;\">\n",
       "      <th></th>\n",
       "      <th>Respondent</th>\n",
       "      <th>CareerSatisfaction</th>\n",
       "      <th>JobSatisfaction</th>\n",
       "      <th>HoursPerWeek</th>\n",
       "      <th>StackOverflowSatisfaction</th>\n",
       "      <th>Salary</th>\n",
       "      <th>ExpectedSalary</th>\n",
       "    </tr>\n",
       "  </thead>\n",
       "  <tbody>\n",
       "    <tr>\n",
       "      <th>count</th>\n",
       "      <td>51392.000000</td>\n",
       "      <td>42695.000000</td>\n",
       "      <td>40376.000000</td>\n",
       "      <td>20600.000000</td>\n",
       "      <td>36592.000000</td>\n",
       "      <td>12891.000000</td>\n",
       "      <td>2566.000000</td>\n",
       "    </tr>\n",
       "    <tr>\n",
       "      <th>mean</th>\n",
       "      <td>25696.500000</td>\n",
       "      <td>7.300574</td>\n",
       "      <td>6.957078</td>\n",
       "      <td>3.952282</td>\n",
       "      <td>8.429875</td>\n",
       "      <td>56298.480641</td>\n",
       "      <td>33142.220468</td>\n",
       "    </tr>\n",
       "    <tr>\n",
       "      <th>std</th>\n",
       "      <td>14835.736854</td>\n",
       "      <td>1.955444</td>\n",
       "      <td>2.167652</td>\n",
       "      <td>7.564722</td>\n",
       "      <td>1.390635</td>\n",
       "      <td>39880.905277</td>\n",
       "      <td>30162.988829</td>\n",
       "    </tr>\n",
       "    <tr>\n",
       "      <th>min</th>\n",
       "      <td>1.000000</td>\n",
       "      <td>0.000000</td>\n",
       "      <td>0.000000</td>\n",
       "      <td>0.000000</td>\n",
       "      <td>0.000000</td>\n",
       "      <td>0.000000</td>\n",
       "      <td>0.000000</td>\n",
       "    </tr>\n",
       "    <tr>\n",
       "      <th>25%</th>\n",
       "      <td>12848.750000</td>\n",
       "      <td>6.000000</td>\n",
       "      <td>6.000000</td>\n",
       "      <td>1.000000</td>\n",
       "      <td>8.000000</td>\n",
       "      <td>26440.371839</td>\n",
       "      <td>4490.492484</td>\n",
       "    </tr>\n",
       "    <tr>\n",
       "      <th>50%</th>\n",
       "      <td>25696.500000</td>\n",
       "      <td>8.000000</td>\n",
       "      <td>7.000000</td>\n",
       "      <td>1.000000</td>\n",
       "      <td>9.000000</td>\n",
       "      <td>50000.000000</td>\n",
       "      <td>29364.263691</td>\n",
       "    </tr>\n",
       "    <tr>\n",
       "      <th>75%</th>\n",
       "      <td>38544.250000</td>\n",
       "      <td>9.000000</td>\n",
       "      <td>8.000000</td>\n",
       "      <td>4.000000</td>\n",
       "      <td>10.000000</td>\n",
       "      <td>80000.000000</td>\n",
       "      <td>50403.225806</td>\n",
       "    </tr>\n",
       "    <tr>\n",
       "      <th>max</th>\n",
       "      <td>51392.000000</td>\n",
       "      <td>10.000000</td>\n",
       "      <td>10.000000</td>\n",
       "      <td>40.000000</td>\n",
       "      <td>10.000000</td>\n",
       "      <td>197000.000000</td>\n",
       "      <td>187500.000000</td>\n",
       "    </tr>\n",
       "  </tbody>\n",
       "</table>\n",
       "</div>"
      ],
      "text/plain": [
       "         Respondent  CareerSatisfaction  JobSatisfaction  HoursPerWeek  \\\n",
       "count  51392.000000        42695.000000     40376.000000  20600.000000   \n",
       "mean   25696.500000            7.300574         6.957078      3.952282   \n",
       "std    14835.736854            1.955444         2.167652      7.564722   \n",
       "min        1.000000            0.000000         0.000000      0.000000   \n",
       "25%    12848.750000            6.000000         6.000000      1.000000   \n",
       "50%    25696.500000            8.000000         7.000000      1.000000   \n",
       "75%    38544.250000            9.000000         8.000000      4.000000   \n",
       "max    51392.000000           10.000000        10.000000     40.000000   \n",
       "\n",
       "       StackOverflowSatisfaction         Salary  ExpectedSalary  \n",
       "count               36592.000000   12891.000000     2566.000000  \n",
       "mean                    8.429875   56298.480641    33142.220468  \n",
       "std                     1.390635   39880.905277    30162.988829  \n",
       "min                     0.000000       0.000000        0.000000  \n",
       "25%                     8.000000   26440.371839     4490.492484  \n",
       "50%                     9.000000   50000.000000    29364.263691  \n",
       "75%                    10.000000   80000.000000    50403.225806  \n",
       "max                    10.000000  197000.000000   187500.000000  "
      ]
     },
     "execution_count": 208,
     "metadata": {},
     "output_type": "execute_result"
    }
   ],
   "source": [
    "#Take a look at continuous variables\n",
    "df.describe()\n",
    "#The count value can help us to check if there are columns missing values"
   ]
  },
  {
   "cell_type": "markdown",
   "metadata": {},
   "source": [
    "- The respondent column is just an index\n",
    "- The maximum satisfaction is 10 (checking Carrer, Job or StackOverflow)\n",
    "- Salary has the most missing values (check its count)\n",
    "- The variable with the highest spread (highest standar deviation) is Salary"
   ]
  },
  {
   "cell_type": "code",
   "execution_count": 210,
   "metadata": {},
   "outputs": [
    {
     "data": {
      "text/plain": [
       "(51392, 154)"
      ]
     },
     "execution_count": 210,
     "metadata": {},
     "output_type": "execute_result"
    }
   ],
   "source": [
    "df.shape"
   ]
  },
  {
   "cell_type": "code",
   "execution_count": 211,
   "metadata": {},
   "outputs": [
    {
     "data": {
      "image/png": "[encoded data removed]",
      "text/plain": [
       "<Figure size 432x288 with 9 Axes>"
      ]
     },
     "metadata": {
      "needs_background": "light"
     },
     "output_type": "display_data"
    }
   ],
   "source": [
    "#Histograms can also help to visualize continuous data\n",
    "df.hist();"
   ]
  },
  {
   "cell_type": "markdown",
   "metadata": {},
   "source": [
    "- The histogramas are right skewed or left skewed in theses cases\n",
    "- Except for the Respondent, because there is one asnwer for every id"
   ]
  },
  {
   "cell_type": "code",
   "execution_count": 213,
   "metadata": {},
   "outputs": [
    {
     "data": {
      "text/plain": [
       "<matplotlib.axes._subplots.AxesSubplot at 0x252b5722700>"
      ]
     },
     "execution_count": 213,
     "metadata": {},
     "output_type": "execute_result"
    },
    {
     "data": {
      "image/png": "[encoded data removed]",
      "text/plain": [
       "<Figure size 432x288 with 2 Axes>"
      ]
     },
     "metadata": {
      "needs_background": "light"
     },
     "output_type": "display_data"
    }
   ],
   "source": [
    "sns.heatmap(df.corr(), annot=True, fmt=\".2f\")"
   ]
  },
  {
   "cell_type": "markdown",
   "metadata": {},
   "source": [
    "- Dark color means there is a low correlation between the variables\n",
    "- The values above the diagonal are the same of the values below. Just check half of the plot\n",
    "- There is not a lot high correlation\n",
    "- Career satisfaction has the higher correlation with salary (but not very high)"
   ]
  },
  {
   "cell_type": "code",
   "execution_count": 216,
   "metadata": {},
   "outputs": [],
   "source": [
    "#Dataframe with all of the columns used to predict my response\n",
    "X = df[[\"CareerSatisfaction\", \"JobSatisfaction\", \"HoursPerWeek\", \"StackOverflowSatisfaction\"]]\n",
    "#Variable you are trying to predict\n",
    "y = df[\"Salary\"]\n",
    "\n",
    "#Split dataset into training and test randomly\n",
    "#X_train correspods to y_train\n",
    "#X_test corresponds to y_test\n",
    "#test_size=.3 means that the test set will be 30% of the all original set\n",
    "#setting the random_state enables us to run this code in another computer and split the dataset in the same way (no different splits)\n",
    "X_train, X_test, y_train, y_test = train_test_split(X, y, test_size=.3, random_state=42)"
   ]
  },
  {
   "cell_type": "code",
   "execution_count": 217,
   "metadata": {},
   "outputs": [
    {
     "data": {
      "text/html": [
       "<div>\n",
       "<style scoped>\n",
       "    .dataframe tbody tr th:only-of-type {\n",
       "        vertical-align: middle;\n",
       "    }\n",
       "\n",
       "    .dataframe tbody tr th {\n",
       "        vertical-align: top;\n",
       "    }\n",
       "\n",
       "    .dataframe thead th {\n",
       "        text-align: right;\n",
       "    }\n",
       "</style>\n",
       "<table border=\"1\" class=\"dataframe\">\n",
       "  <thead>\n",
       "    <tr style=\"text-align: right;\">\n",
       "      <th></th>\n",
       "      <th>CareerSatisfaction</th>\n",
       "      <th>JobSatisfaction</th>\n",
       "      <th>HoursPerWeek</th>\n",
       "      <th>StackOverflowSatisfaction</th>\n",
       "    </tr>\n",
       "  </thead>\n",
       "  <tbody>\n",
       "    <tr>\n",
       "      <th>0</th>\n",
       "      <td>NaN</td>\n",
       "      <td>NaN</td>\n",
       "      <td>0.0</td>\n",
       "      <td>9.0</td>\n",
       "    </tr>\n",
       "    <tr>\n",
       "      <th>1</th>\n",
       "      <td>NaN</td>\n",
       "      <td>NaN</td>\n",
       "      <td>NaN</td>\n",
       "      <td>8.0</td>\n",
       "    </tr>\n",
       "    <tr>\n",
       "      <th>2</th>\n",
       "      <td>8.0</td>\n",
       "      <td>9.0</td>\n",
       "      <td>NaN</td>\n",
       "      <td>8.0</td>\n",
       "    </tr>\n",
       "    <tr>\n",
       "      <th>3</th>\n",
       "      <td>6.0</td>\n",
       "      <td>3.0</td>\n",
       "      <td>5.0</td>\n",
       "      <td>10.0</td>\n",
       "    </tr>\n",
       "    <tr>\n",
       "      <th>4</th>\n",
       "      <td>6.0</td>\n",
       "      <td>8.0</td>\n",
       "      <td>NaN</td>\n",
       "      <td>NaN</td>\n",
       "    </tr>\n",
       "    <tr>\n",
       "      <th>...</th>\n",
       "      <td>...</td>\n",
       "      <td>...</td>\n",
       "      <td>...</td>\n",
       "      <td>...</td>\n",
       "    </tr>\n",
       "    <tr>\n",
       "      <th>51387</th>\n",
       "      <td>7.0</td>\n",
       "      <td>3.0</td>\n",
       "      <td>5.0</td>\n",
       "      <td>9.0</td>\n",
       "    </tr>\n",
       "    <tr>\n",
       "      <th>51388</th>\n",
       "      <td>NaN</td>\n",
       "      <td>NaN</td>\n",
       "      <td>NaN</td>\n",
       "      <td>7.0</td>\n",
       "    </tr>\n",
       "    <tr>\n",
       "      <th>51389</th>\n",
       "      <td>10.0</td>\n",
       "      <td>10.0</td>\n",
       "      <td>NaN</td>\n",
       "      <td>NaN</td>\n",
       "    </tr>\n",
       "    <tr>\n",
       "      <th>51390</th>\n",
       "      <td>6.0</td>\n",
       "      <td>7.0</td>\n",
       "      <td>1.0</td>\n",
       "      <td>9.0</td>\n",
       "    </tr>\n",
       "    <tr>\n",
       "      <th>51391</th>\n",
       "      <td>8.0</td>\n",
       "      <td>8.0</td>\n",
       "      <td>2.0</td>\n",
       "      <td>8.0</td>\n",
       "    </tr>\n",
       "  </tbody>\n",
       "</table>\n",
       "<p>51392 rows × 4 columns</p>\n",
       "</div>"
      ],
      "text/plain": [
       "       CareerSatisfaction  JobSatisfaction  HoursPerWeek  \\\n",
       "0                     NaN              NaN           0.0   \n",
       "1                     NaN              NaN           NaN   \n",
       "2                     8.0              9.0           NaN   \n",
       "3                     6.0              3.0           5.0   \n",
       "4                     6.0              8.0           NaN   \n",
       "...                   ...              ...           ...   \n",
       "51387                 7.0              3.0           5.0   \n",
       "51388                 NaN              NaN           NaN   \n",
       "51389                10.0             10.0           NaN   \n",
       "51390                 6.0              7.0           1.0   \n",
       "51391                 8.0              8.0           2.0   \n",
       "\n",
       "       StackOverflowSatisfaction  \n",
       "0                            9.0  \n",
       "1                            8.0  \n",
       "2                            8.0  \n",
       "3                           10.0  \n",
       "4                            NaN  \n",
       "...                          ...  \n",
       "51387                        9.0  \n",
       "51388                        7.0  \n",
       "51389                        NaN  \n",
       "51390                        9.0  \n",
       "51391                        8.0  \n",
       "\n",
       "[51392 rows x 4 columns]"
      ]
     },
     "execution_count": 217,
     "metadata": {},
     "output_type": "execute_result"
    }
   ],
   "source": [
    "X"
   ]
  },
  {
   "cell_type": "code",
   "execution_count": 218,
   "metadata": {},
   "outputs": [
    {
     "data": {
      "text/plain": [
       "0             NaN\n",
       "1             NaN\n",
       "2        113750.0\n",
       "3             NaN\n",
       "4             NaN\n",
       "           ...   \n",
       "51387     58000.0\n",
       "51388         NaN\n",
       "51389         NaN\n",
       "51390     40000.0\n",
       "51391         NaN\n",
       "Name: Salary, Length: 51392, dtype: float64"
      ]
     },
     "execution_count": 218,
     "metadata": {},
     "output_type": "execute_result"
    }
   ],
   "source": [
    "y"
   ]
  },
  {
   "cell_type": "code",
   "execution_count": 219,
   "metadata": {},
   "outputs": [
    {
     "name": "stdout",
     "output_type": "stream",
     "text": [
      "X.shape =  (51392, 4)\n",
      "y.shape =  (51392,)\n",
      "X_train.shape =  (35974, 4)\n",
      "y_train.shape =  (35974,)\n",
      "X_test.shape =  (15418, 4)\n",
      "y_test.shape =  (15418,)\n"
     ]
    }
   ],
   "source": [
    "#Looking into the dataframes shape\n",
    "print(\"X.shape = \",X.shape)\n",
    "print(\"y.shape = \",y.shape)\n",
    "print(\"X_train.shape = \",X_train.shape)\n",
    "print(\"y_train.shape = \",y_train.shape)\n",
    "print(\"X_test.shape = \",X_test.shape)\n",
    "print(\"y_test.shape = \",y_test.shape)"
   ]
  },
  {
   "cell_type": "code",
   "execution_count": 220,
   "metadata": {},
   "outputs": [],
   "source": [
    "#instantiate\n",
    "lm_model = LinearRegression(normalize=True) #you want to normalize your data"
   ]
  },
  {
   "cell_type": "code",
   "execution_count": 221,
   "metadata": {},
   "outputs": [
    {
     "ename": "ValueError",
     "evalue": "Input contains NaN, infinity or a value too large for dtype('float64').",
     "output_type": "error",
     "traceback": [
      "\u001b[1;31m---------------------------------------------------------------------------\u001b[0m",
      "\u001b[1;31mValueError\u001b[0m                                Traceback (most recent call last)",
      "\u001b[1;32m<ipython-input-221-0ed116c54683>\u001b[0m in \u001b[0;36m<module>\u001b[1;34m\u001b[0m\n\u001b[0;32m      1\u001b[0m \u001b[1;31m#fit train\u001b[0m\u001b[1;33m\u001b[0m\u001b[1;33m\u001b[0m\u001b[1;33m\u001b[0m\u001b[0m\n\u001b[1;32m----> 2\u001b[1;33m \u001b[0mlm_model\u001b[0m\u001b[1;33m.\u001b[0m\u001b[0mfit\u001b[0m\u001b[1;33m(\u001b[0m\u001b[0mX_train\u001b[0m\u001b[1;33m,\u001b[0m \u001b[0my_train\u001b[0m\u001b[1;33m)\u001b[0m\u001b[1;33m\u001b[0m\u001b[1;33m\u001b[0m\u001b[0m\n\u001b[0m",
      "\u001b[1;32m~\\anaconda3\\lib\\site-packages\\sklearn\\linear_model\\_base.py\u001b[0m in \u001b[0;36mfit\u001b[1;34m(self, X, y, sample_weight)\u001b[0m\n\u001b[0;32m    516\u001b[0m         \u001b[0maccept_sparse\u001b[0m \u001b[1;33m=\u001b[0m \u001b[1;32mFalse\u001b[0m \u001b[1;32mif\u001b[0m \u001b[0mself\u001b[0m\u001b[1;33m.\u001b[0m\u001b[0mpositive\u001b[0m \u001b[1;32melse\u001b[0m \u001b[1;33m[\u001b[0m\u001b[1;34m'csr'\u001b[0m\u001b[1;33m,\u001b[0m \u001b[1;34m'csc'\u001b[0m\u001b[1;33m,\u001b[0m \u001b[1;34m'coo'\u001b[0m\u001b[1;33m]\u001b[0m\u001b[1;33m\u001b[0m\u001b[1;33m\u001b[0m\u001b[0m\n\u001b[0;32m    517\u001b[0m \u001b[1;33m\u001b[0m\u001b[0m\n\u001b[1;32m--> 518\u001b[1;33m         X, y = self._validate_data(X, y, accept_sparse=accept_sparse,\n\u001b[0m\u001b[0;32m    519\u001b[0m                                    y_numeric=True, multi_output=True)\n\u001b[0;32m    520\u001b[0m \u001b[1;33m\u001b[0m\u001b[0m\n",
      "\u001b[1;32m~\\anaconda3\\lib\\site-packages\\sklearn\\base.py\u001b[0m in \u001b[0;36m_validate_data\u001b[1;34m(self, X, y, reset, validate_separately, **check_params)\u001b[0m\n\u001b[0;32m    431\u001b[0m                 \u001b[0my\u001b[0m \u001b[1;33m=\u001b[0m \u001b[0mcheck_array\u001b[0m\u001b[1;33m(\u001b[0m\u001b[0my\u001b[0m\u001b[1;33m,\u001b[0m \u001b[1;33m**\u001b[0m\u001b[0mcheck_y_params\u001b[0m\u001b[1;33m)\u001b[0m\u001b[1;33m\u001b[0m\u001b[1;33m\u001b[0m\u001b[0m\n\u001b[0;32m    432\u001b[0m             \u001b[1;32melse\u001b[0m\u001b[1;33m:\u001b[0m\u001b[1;33m\u001b[0m\u001b[1;33m\u001b[0m\u001b[0m\n\u001b[1;32m--> 433\u001b[1;33m                 \u001b[0mX\u001b[0m\u001b[1;33m,\u001b[0m \u001b[0my\u001b[0m \u001b[1;33m=\u001b[0m \u001b[0mcheck_X_y\u001b[0m\u001b[1;33m(\u001b[0m\u001b[0mX\u001b[0m\u001b[1;33m,\u001b[0m \u001b[0my\u001b[0m\u001b[1;33m,\u001b[0m \u001b[1;33m**\u001b[0m\u001b[0mcheck_params\u001b[0m\u001b[1;33m)\u001b[0m\u001b[1;33m\u001b[0m\u001b[1;33m\u001b[0m\u001b[0m\n\u001b[0m\u001b[0;32m    434\u001b[0m             \u001b[0mout\u001b[0m \u001b[1;33m=\u001b[0m \u001b[0mX\u001b[0m\u001b[1;33m,\u001b[0m \u001b[0my\u001b[0m\u001b[1;33m\u001b[0m\u001b[1;33m\u001b[0m\u001b[0m\n\u001b[0;32m    435\u001b[0m \u001b[1;33m\u001b[0m\u001b[0m\n",
      "\u001b[1;32m~\\anaconda3\\lib\\site-packages\\sklearn\\utils\\validation.py\u001b[0m in \u001b[0;36minner_f\u001b[1;34m(*args, **kwargs)\u001b[0m\n\u001b[0;32m     61\u001b[0m             \u001b[0mextra_args\u001b[0m \u001b[1;33m=\u001b[0m \u001b[0mlen\u001b[0m\u001b[1;33m(\u001b[0m\u001b[0margs\u001b[0m\u001b[1;33m)\u001b[0m \u001b[1;33m-\u001b[0m \u001b[0mlen\u001b[0m\u001b[1;33m(\u001b[0m\u001b[0mall_args\u001b[0m\u001b[1;33m)\u001b[0m\u001b[1;33m\u001b[0m\u001b[1;33m\u001b[0m\u001b[0m\n\u001b[0;32m     62\u001b[0m             \u001b[1;32mif\u001b[0m \u001b[0mextra_args\u001b[0m \u001b[1;33m<=\u001b[0m \u001b[1;36m0\u001b[0m\u001b[1;33m:\u001b[0m\u001b[1;33m\u001b[0m\u001b[1;33m\u001b[0m\u001b[0m\n\u001b[1;32m---> 63\u001b[1;33m                 \u001b[1;32mreturn\u001b[0m \u001b[0mf\u001b[0m\u001b[1;33m(\u001b[0m\u001b[1;33m*\u001b[0m\u001b[0margs\u001b[0m\u001b[1;33m,\u001b[0m \u001b[1;33m**\u001b[0m\u001b[0mkwargs\u001b[0m\u001b[1;33m)\u001b[0m\u001b[1;33m\u001b[0m\u001b[1;33m\u001b[0m\u001b[0m\n\u001b[0m\u001b[0;32m     64\u001b[0m \u001b[1;33m\u001b[0m\u001b[0m\n\u001b[0;32m     65\u001b[0m             \u001b[1;31m# extra_args > 0\u001b[0m\u001b[1;33m\u001b[0m\u001b[1;33m\u001b[0m\u001b[1;33m\u001b[0m\u001b[0m\n",
      "\u001b[1;32m~\\anaconda3\\lib\\site-packages\\sklearn\\utils\\validation.py\u001b[0m in \u001b[0;36mcheck_X_y\u001b[1;34m(X, y, accept_sparse, accept_large_sparse, dtype, order, copy, force_all_finite, ensure_2d, allow_nd, multi_output, ensure_min_samples, ensure_min_features, y_numeric, estimator)\u001b[0m\n\u001b[0;32m    869\u001b[0m         \u001b[1;32mraise\u001b[0m \u001b[0mValueError\u001b[0m\u001b[1;33m(\u001b[0m\u001b[1;34m\"y cannot be None\"\u001b[0m\u001b[1;33m)\u001b[0m\u001b[1;33m\u001b[0m\u001b[1;33m\u001b[0m\u001b[0m\n\u001b[0;32m    870\u001b[0m \u001b[1;33m\u001b[0m\u001b[0m\n\u001b[1;32m--> 871\u001b[1;33m     X = check_array(X, accept_sparse=accept_sparse,\n\u001b[0m\u001b[0;32m    872\u001b[0m                     \u001b[0maccept_large_sparse\u001b[0m\u001b[1;33m=\u001b[0m\u001b[0maccept_large_sparse\u001b[0m\u001b[1;33m,\u001b[0m\u001b[1;33m\u001b[0m\u001b[1;33m\u001b[0m\u001b[0m\n\u001b[0;32m    873\u001b[0m                     \u001b[0mdtype\u001b[0m\u001b[1;33m=\u001b[0m\u001b[0mdtype\u001b[0m\u001b[1;33m,\u001b[0m \u001b[0morder\u001b[0m\u001b[1;33m=\u001b[0m\u001b[0morder\u001b[0m\u001b[1;33m,\u001b[0m \u001b[0mcopy\u001b[0m\u001b[1;33m=\u001b[0m\u001b[0mcopy\u001b[0m\u001b[1;33m,\u001b[0m\u001b[1;33m\u001b[0m\u001b[1;33m\u001b[0m\u001b[0m\n",
      "\u001b[1;32m~\\anaconda3\\lib\\site-packages\\sklearn\\utils\\validation.py\u001b[0m in \u001b[0;36minner_f\u001b[1;34m(*args, **kwargs)\u001b[0m\n\u001b[0;32m     61\u001b[0m             \u001b[0mextra_args\u001b[0m \u001b[1;33m=\u001b[0m \u001b[0mlen\u001b[0m\u001b[1;33m(\u001b[0m\u001b[0margs\u001b[0m\u001b[1;33m)\u001b[0m \u001b[1;33m-\u001b[0m \u001b[0mlen\u001b[0m\u001b[1;33m(\u001b[0m\u001b[0mall_args\u001b[0m\u001b[1;33m)\u001b[0m\u001b[1;33m\u001b[0m\u001b[1;33m\u001b[0m\u001b[0m\n\u001b[0;32m     62\u001b[0m             \u001b[1;32mif\u001b[0m \u001b[0mextra_args\u001b[0m \u001b[1;33m<=\u001b[0m \u001b[1;36m0\u001b[0m\u001b[1;33m:\u001b[0m\u001b[1;33m\u001b[0m\u001b[1;33m\u001b[0m\u001b[0m\n\u001b[1;32m---> 63\u001b[1;33m                 \u001b[1;32mreturn\u001b[0m \u001b[0mf\u001b[0m\u001b[1;33m(\u001b[0m\u001b[1;33m*\u001b[0m\u001b[0margs\u001b[0m\u001b[1;33m,\u001b[0m \u001b[1;33m**\u001b[0m\u001b[0mkwargs\u001b[0m\u001b[1;33m)\u001b[0m\u001b[1;33m\u001b[0m\u001b[1;33m\u001b[0m\u001b[0m\n\u001b[0m\u001b[0;32m     64\u001b[0m \u001b[1;33m\u001b[0m\u001b[0m\n\u001b[0;32m     65\u001b[0m             \u001b[1;31m# extra_args > 0\u001b[0m\u001b[1;33m\u001b[0m\u001b[1;33m\u001b[0m\u001b[1;33m\u001b[0m\u001b[0m\n",
      "\u001b[1;32m~\\anaconda3\\lib\\site-packages\\sklearn\\utils\\validation.py\u001b[0m in \u001b[0;36mcheck_array\u001b[1;34m(array, accept_sparse, accept_large_sparse, dtype, order, copy, force_all_finite, ensure_2d, allow_nd, ensure_min_samples, ensure_min_features, estimator)\u001b[0m\n\u001b[0;32m    718\u001b[0m \u001b[1;33m\u001b[0m\u001b[0m\n\u001b[0;32m    719\u001b[0m         \u001b[1;32mif\u001b[0m \u001b[0mforce_all_finite\u001b[0m\u001b[1;33m:\u001b[0m\u001b[1;33m\u001b[0m\u001b[1;33m\u001b[0m\u001b[0m\n\u001b[1;32m--> 720\u001b[1;33m             _assert_all_finite(array,\n\u001b[0m\u001b[0;32m    721\u001b[0m                                allow_nan=force_all_finite == 'allow-nan')\n\u001b[0;32m    722\u001b[0m \u001b[1;33m\u001b[0m\u001b[0m\n",
      "\u001b[1;32m~\\anaconda3\\lib\\site-packages\\sklearn\\utils\\validation.py\u001b[0m in \u001b[0;36m_assert_all_finite\u001b[1;34m(X, allow_nan, msg_dtype)\u001b[0m\n\u001b[0;32m    101\u001b[0m                 not allow_nan and not np.isfinite(X).all()):\n\u001b[0;32m    102\u001b[0m             \u001b[0mtype_err\u001b[0m \u001b[1;33m=\u001b[0m \u001b[1;34m'infinity'\u001b[0m \u001b[1;32mif\u001b[0m \u001b[0mallow_nan\u001b[0m \u001b[1;32melse\u001b[0m \u001b[1;34m'NaN, infinity'\u001b[0m\u001b[1;33m\u001b[0m\u001b[1;33m\u001b[0m\u001b[0m\n\u001b[1;32m--> 103\u001b[1;33m             raise ValueError(\n\u001b[0m\u001b[0;32m    104\u001b[0m                     \u001b[0mmsg_err\u001b[0m\u001b[1;33m.\u001b[0m\u001b[0mformat\u001b[0m\u001b[1;33m\u001b[0m\u001b[1;33m\u001b[0m\u001b[0m\n\u001b[0;32m    105\u001b[0m                     (type_err,\n",
      "\u001b[1;31mValueError\u001b[0m: Input contains NaN, infinity or a value too large for dtype('float64')."
     ]
    }
   ],
   "source": [
    "#fit train\n",
    "lm_model.fit(X_train, y_train)"
   ]
  },
  {
   "cell_type": "markdown",
   "metadata": {},
   "source": [
    "- The method broke because we have Nan values in the X matrix\n",
    "- Split the set into train and test make the model to make sure it is going to fit well for unseen data"
   ]
  },
  {
   "cell_type": "markdown",
   "metadata": {},
   "source": [
    "#### 4.4.1) Working with missing values <a class=\"anchor\" id=\"working-missing-vals\"></a>\n",
    "- *Remove*\n",
    "    - Why are the values missing? Removing data might add biad to your model, also data inputation;\n",
    "    - It is possible to generate a column to compute the amount of missing data, for example;\n",
    "    - It can be useful to drop missing data when we have:\n",
    "        - Data entry error\n",
    "        - Mechanical erros\n",
    "        - We did not neet the data\n",
    "    - If 90% of the data is missing for example, maybe it is better to just drop the column\n",
    "    - If 50% of the data is missing for example, we can create a column to indicate missing values\n",
    "- *Input*\n",
    "    - Methods:\n",
    "        - Mean\n",
    "        - Median\n",
    "        - Mode\n",
    "        - Predict using other columns in the dataset with supervised learning\n",
    "        - Find rows that are similar and fill with this values\n",
    "    - Pro: You are not removing missing values\n",
    "    - Con: You are diluting the power of your features to predict by reduving the features variabily\n",
    "- *Work around*"
   ]
  },
  {
   "cell_type": "markdown",
   "metadata": {},
   "source": [
    "##### 4.4.1.1) Removing values - Solution <a class=\"anchor\" id=\"removing-vals\"></a>"
   ]
  },
  {
   "cell_type": "code",
   "execution_count": 223,
   "metadata": {},
   "outputs": [
    {
     "data": {
      "text/html": [
       "<div>\n",
       "<style scoped>\n",
       "    .dataframe tbody tr th:only-of-type {\n",
       "        vertical-align: middle;\n",
       "    }\n",
       "\n",
       "    .dataframe tbody tr th {\n",
       "        vertical-align: top;\n",
       "    }\n",
       "\n",
       "    .dataframe thead th {\n",
       "        text-align: right;\n",
       "    }\n",
       "</style>\n",
       "<table border=\"1\" class=\"dataframe\">\n",
       "  <thead>\n",
       "    <tr style=\"text-align: right;\">\n",
       "      <th></th>\n",
       "      <th>Salary</th>\n",
       "      <th>CareerSatisfaction</th>\n",
       "      <th>HoursPerWeek</th>\n",
       "      <th>JobSatisfaction</th>\n",
       "      <th>StackOverflowSatisfaction</th>\n",
       "    </tr>\n",
       "  </thead>\n",
       "  <tbody>\n",
       "    <tr>\n",
       "      <th>0</th>\n",
       "      <td>NaN</td>\n",
       "      <td>NaN</td>\n",
       "      <td>0.0</td>\n",
       "      <td>NaN</td>\n",
       "      <td>9.0</td>\n",
       "    </tr>\n",
       "    <tr>\n",
       "      <th>1</th>\n",
       "      <td>NaN</td>\n",
       "      <td>NaN</td>\n",
       "      <td>NaN</td>\n",
       "      <td>NaN</td>\n",
       "      <td>8.0</td>\n",
       "    </tr>\n",
       "    <tr>\n",
       "      <th>2</th>\n",
       "      <td>113750.0</td>\n",
       "      <td>8.0</td>\n",
       "      <td>NaN</td>\n",
       "      <td>9.0</td>\n",
       "      <td>8.0</td>\n",
       "    </tr>\n",
       "    <tr>\n",
       "      <th>3</th>\n",
       "      <td>NaN</td>\n",
       "      <td>6.0</td>\n",
       "      <td>5.0</td>\n",
       "      <td>3.0</td>\n",
       "      <td>10.0</td>\n",
       "    </tr>\n",
       "    <tr>\n",
       "      <th>4</th>\n",
       "      <td>NaN</td>\n",
       "      <td>6.0</td>\n",
       "      <td>NaN</td>\n",
       "      <td>8.0</td>\n",
       "      <td>NaN</td>\n",
       "    </tr>\n",
       "  </tbody>\n",
       "</table>\n",
       "</div>"
      ],
      "text/plain": [
       "     Salary  CareerSatisfaction  HoursPerWeek  JobSatisfaction  \\\n",
       "0       NaN                 NaN           0.0              NaN   \n",
       "1       NaN                 NaN           NaN              NaN   \n",
       "2  113750.0                 8.0           NaN              9.0   \n",
       "3       NaN                 6.0           5.0              3.0   \n",
       "4       NaN                 6.0           NaN              8.0   \n",
       "\n",
       "   StackOverflowSatisfaction  \n",
       "0                        9.0  \n",
       "1                        8.0  \n",
       "2                        8.0  \n",
       "3                       10.0  \n",
       "4                        NaN  "
      ]
     },
     "execution_count": 223,
     "metadata": {},
     "output_type": "execute_result"
    }
   ],
   "source": [
    "num_vars = df[[\"Salary\", \"CareerSatisfaction\", \"HoursPerWeek\", \"JobSatisfaction\", \"StackOverflowSatisfaction\"]]\n",
    "num_vars.head()"
   ]
  },
  {
   "cell_type": "code",
   "execution_count": 227,
   "metadata": {},
   "outputs": [
    {
     "name": "stdout",
     "output_type": "stream",
     "text": [
      "Proportion of people who filled the salary information =  0.25083670610211706\n"
     ]
    }
   ],
   "source": [
    "prop_sals = 1- num_vars[\"Salary\"].isnull().mean()\n",
    "print(\"Proportion of people who filled the salary information = \",prop_sals)"
   ]
  },
  {
   "cell_type": "code",
   "execution_count": 228,
   "metadata": {},
   "outputs": [
    {
     "data": {
      "text/html": [
       "<div>\n",
       "<style scoped>\n",
       "    .dataframe tbody tr th:only-of-type {\n",
       "        vertical-align: middle;\n",
       "    }\n",
       "\n",
       "    .dataframe tbody tr th {\n",
       "        vertical-align: top;\n",
       "    }\n",
       "\n",
       "    .dataframe thead th {\n",
       "        text-align: right;\n",
       "    }\n",
       "</style>\n",
       "<table border=\"1\" class=\"dataframe\">\n",
       "  <thead>\n",
       "    <tr style=\"text-align: right;\">\n",
       "      <th></th>\n",
       "      <th>Salary</th>\n",
       "      <th>CareerSatisfaction</th>\n",
       "      <th>HoursPerWeek</th>\n",
       "      <th>JobSatisfaction</th>\n",
       "      <th>StackOverflowSatisfaction</th>\n",
       "    </tr>\n",
       "  </thead>\n",
       "  <tbody>\n",
       "    <tr>\n",
       "      <th>2</th>\n",
       "      <td>113750.0</td>\n",
       "      <td>8.0</td>\n",
       "      <td>NaN</td>\n",
       "      <td>9.0</td>\n",
       "      <td>8.0</td>\n",
       "    </tr>\n",
       "    <tr>\n",
       "      <th>14</th>\n",
       "      <td>100000.0</td>\n",
       "      <td>8.0</td>\n",
       "      <td>NaN</td>\n",
       "      <td>8.0</td>\n",
       "      <td>8.0</td>\n",
       "    </tr>\n",
       "    <tr>\n",
       "      <th>17</th>\n",
       "      <td>130000.0</td>\n",
       "      <td>9.0</td>\n",
       "      <td>NaN</td>\n",
       "      <td>8.0</td>\n",
       "      <td>8.0</td>\n",
       "    </tr>\n",
       "    <tr>\n",
       "      <th>18</th>\n",
       "      <td>82500.0</td>\n",
       "      <td>5.0</td>\n",
       "      <td>NaN</td>\n",
       "      <td>3.0</td>\n",
       "      <td>NaN</td>\n",
       "    </tr>\n",
       "    <tr>\n",
       "      <th>22</th>\n",
       "      <td>100764.0</td>\n",
       "      <td>8.0</td>\n",
       "      <td>NaN</td>\n",
       "      <td>9.0</td>\n",
       "      <td>8.0</td>\n",
       "    </tr>\n",
       "  </tbody>\n",
       "</table>\n",
       "</div>"
      ],
      "text/plain": [
       "      Salary  CareerSatisfaction  HoursPerWeek  JobSatisfaction  \\\n",
       "2   113750.0                 8.0           NaN              9.0   \n",
       "14  100000.0                 8.0           NaN              8.0   \n",
       "17  130000.0                 9.0           NaN              8.0   \n",
       "18   82500.0                 5.0           NaN              3.0   \n",
       "22  100764.0                 8.0           NaN              9.0   \n",
       "\n",
       "    StackOverflowSatisfaction  \n",
       "2                         8.0  \n",
       "14                        8.0  \n",
       "17                        8.0  \n",
       "18                        NaN  \n",
       "22                        8.0  "
      ]
     },
     "execution_count": 228,
     "metadata": {},
     "output_type": "execute_result"
    }
   ],
   "source": [
    "#Removing rows associated with nan values in Salary (only Salary)\n",
    "sal_rm = num_vars.dropna(subset=[\"Salary\"], axis=0)\n",
    "sal_rm.head()"
   ]
  },
  {
   "cell_type": "code",
   "execution_count": 238,
   "metadata": {},
   "outputs": [
    {
     "name": "stdout",
     "output_type": "stream",
     "text": [
      "Oh no! It doesn't work!!!\n"
     ]
    }
   ],
   "source": [
    "#creating X and y using sal_rm\n",
    "X_1 = sal_rm[[\"CareerSatisfaction\", \"JobSatisfaction\", \"HoursPerWeek\", \"StackOverflowSatisfaction\"]]\n",
    "y_1 = sal_rm[\"Salary\"]\n",
    "\n",
    "X_1_train, X_1_test, y_1_train, y_1_test = train_test_split(X_1, y_1, test_size=.3, random_state=42)\n",
    "\n",
    "lm_1_model = LinearRegression(normalize=True) #you want to normalize your data\n",
    "\n",
    "try:\n",
    "    lm_1_model.fit(X_1_train, y_1_train)\n",
    "except:\n",
    "    print(\"Oh no! It doesn't work!!!\")"
   ]
  },
  {
   "cell_type": "markdown",
   "metadata": {},
   "source": [
    "- It did not work because there are still some missing values in X"
   ]
  },
  {
   "cell_type": "code",
   "execution_count": 230,
   "metadata": {},
   "outputs": [
    {
     "data": {
      "text/html": [
       "<div>\n",
       "<style scoped>\n",
       "    .dataframe tbody tr th:only-of-type {\n",
       "        vertical-align: middle;\n",
       "    }\n",
       "\n",
       "    .dataframe tbody tr th {\n",
       "        vertical-align: top;\n",
       "    }\n",
       "\n",
       "    .dataframe thead th {\n",
       "        text-align: right;\n",
       "    }\n",
       "</style>\n",
       "<table border=\"1\" class=\"dataframe\">\n",
       "  <thead>\n",
       "    <tr style=\"text-align: right;\">\n",
       "      <th></th>\n",
       "      <th>Salary</th>\n",
       "      <th>CareerSatisfaction</th>\n",
       "      <th>HoursPerWeek</th>\n",
       "      <th>JobSatisfaction</th>\n",
       "      <th>StackOverflowSatisfaction</th>\n",
       "    </tr>\n",
       "  </thead>\n",
       "  <tbody>\n",
       "    <tr>\n",
       "      <th>25</th>\n",
       "      <td>175000.000000</td>\n",
       "      <td>7.0</td>\n",
       "      <td>0.0</td>\n",
       "      <td>7.0</td>\n",
       "      <td>9.0</td>\n",
       "    </tr>\n",
       "    <tr>\n",
       "      <th>34</th>\n",
       "      <td>14838.709677</td>\n",
       "      <td>10.0</td>\n",
       "      <td>1.0</td>\n",
       "      <td>8.0</td>\n",
       "      <td>10.0</td>\n",
       "    </tr>\n",
       "    <tr>\n",
       "      <th>52</th>\n",
       "      <td>15674.203822</td>\n",
       "      <td>6.0</td>\n",
       "      <td>4.0</td>\n",
       "      <td>5.0</td>\n",
       "      <td>8.0</td>\n",
       "    </tr>\n",
       "    <tr>\n",
       "      <th>57</th>\n",
       "      <td>43010.752688</td>\n",
       "      <td>10.0</td>\n",
       "      <td>2.0</td>\n",
       "      <td>6.0</td>\n",
       "      <td>10.0</td>\n",
       "    </tr>\n",
       "    <tr>\n",
       "      <th>70</th>\n",
       "      <td>65000.000000</td>\n",
       "      <td>8.0</td>\n",
       "      <td>2.0</td>\n",
       "      <td>5.0</td>\n",
       "      <td>7.0</td>\n",
       "    </tr>\n",
       "  </tbody>\n",
       "</table>\n",
       "</div>"
      ],
      "text/plain": [
       "           Salary  CareerSatisfaction  HoursPerWeek  JobSatisfaction  \\\n",
       "25  175000.000000                 7.0           0.0              7.0   \n",
       "34   14838.709677                10.0           1.0              8.0   \n",
       "52   15674.203822                 6.0           4.0              5.0   \n",
       "57   43010.752688                10.0           2.0              6.0   \n",
       "70   65000.000000                 8.0           2.0              5.0   \n",
       "\n",
       "    StackOverflowSatisfaction  \n",
       "25                        9.0  \n",
       "34                       10.0  \n",
       "52                        8.0  \n",
       "57                       10.0  \n",
       "70                        7.0  "
      ]
     },
     "execution_count": 230,
     "metadata": {},
     "output_type": "execute_result"
    }
   ],
   "source": [
    "#Remove all rows with nan values\n",
    "all_rm = num_vars.dropna(axis=0)\n",
    "all_rm.head()"
   ]
  },
  {
   "cell_type": "code",
   "execution_count": 236,
   "metadata": {},
   "outputs": [],
   "source": [
    "#creating X and y using all_rm\n",
    "X_2 = all_rm[[\"CareerSatisfaction\", \"JobSatisfaction\", \"HoursPerWeek\", \"StackOverflowSatisfaction\"]]\n",
    "y_2 = all_rm[\"Salary\"]\n",
    "\n",
    "X_2_train, X_2_test, y_2_train, y_2_test = train_test_split(X_2, y_2, test_size=.3, random_state=42)\n",
    "\n",
    "lm_2_model = LinearRegression(normalize=True) #you want to normalize your data\n",
    "\n",
    "try:\n",
    "    lm_2_model.fit(X_2_train, y_2_train)\n",
    "except:\n",
    "    print(\"Oh no! It doesn't work!!!\")"
   ]
  },
  {
   "cell_type": "code",
   "execution_count": 237,
   "metadata": {},
   "outputs": [
    {
     "data": {
      "text/plain": [
       "0.030994664959115625"
      ]
     },
     "execution_count": 237,
     "metadata": {},
     "output_type": "execute_result"
    }
   ],
   "source": [
    "#predict test data\n",
    "y_test_preds = lm_2_model.predict(X_2_test)\n",
    "\n",
    "#score your model on the test\n",
    "r2_test = r2_score(y_2_test, y_test_preds)\n",
    "r2_test"
   ]
  },
  {
   "cell_type": "markdown",
   "metadata": {},
   "source": [
    "##### 4.4.1.2) Inputing values - Solution <a class=\"anchor\" id=\"inputing-vals\"></a>"
   ]
  },
  {
   "cell_type": "code",
   "execution_count": 241,
   "metadata": {},
   "outputs": [
    {
     "data": {
      "text/html": [
       "<div>\n",
       "<style scoped>\n",
       "    .dataframe tbody tr th:only-of-type {\n",
       "        vertical-align: middle;\n",
       "    }\n",
       "\n",
       "    .dataframe tbody tr th {\n",
       "        vertical-align: top;\n",
       "    }\n",
       "\n",
       "    .dataframe thead th {\n",
       "        text-align: right;\n",
       "    }\n",
       "</style>\n",
       "<table border=\"1\" class=\"dataframe\">\n",
       "  <thead>\n",
       "    <tr style=\"text-align: right;\">\n",
       "      <th></th>\n",
       "      <th>Salary</th>\n",
       "      <th>CareerSatisfaction</th>\n",
       "      <th>HoursPerWeek</th>\n",
       "      <th>JobSatisfaction</th>\n",
       "      <th>StackOverflowSatisfaction</th>\n",
       "    </tr>\n",
       "  </thead>\n",
       "  <tbody>\n",
       "    <tr>\n",
       "      <th>0</th>\n",
       "      <td>NaN</td>\n",
       "      <td>NaN</td>\n",
       "      <td>0.0</td>\n",
       "      <td>NaN</td>\n",
       "      <td>9.0</td>\n",
       "    </tr>\n",
       "    <tr>\n",
       "      <th>1</th>\n",
       "      <td>NaN</td>\n",
       "      <td>NaN</td>\n",
       "      <td>NaN</td>\n",
       "      <td>NaN</td>\n",
       "      <td>8.0</td>\n",
       "    </tr>\n",
       "    <tr>\n",
       "      <th>2</th>\n",
       "      <td>113750.0</td>\n",
       "      <td>8.0</td>\n",
       "      <td>NaN</td>\n",
       "      <td>9.0</td>\n",
       "      <td>8.0</td>\n",
       "    </tr>\n",
       "    <tr>\n",
       "      <th>3</th>\n",
       "      <td>NaN</td>\n",
       "      <td>6.0</td>\n",
       "      <td>5.0</td>\n",
       "      <td>3.0</td>\n",
       "      <td>10.0</td>\n",
       "    </tr>\n",
       "    <tr>\n",
       "      <th>4</th>\n",
       "      <td>NaN</td>\n",
       "      <td>6.0</td>\n",
       "      <td>NaN</td>\n",
       "      <td>8.0</td>\n",
       "      <td>NaN</td>\n",
       "    </tr>\n",
       "    <tr>\n",
       "      <th>...</th>\n",
       "      <td>...</td>\n",
       "      <td>...</td>\n",
       "      <td>...</td>\n",
       "      <td>...</td>\n",
       "      <td>...</td>\n",
       "    </tr>\n",
       "    <tr>\n",
       "      <th>51387</th>\n",
       "      <td>58000.0</td>\n",
       "      <td>7.0</td>\n",
       "      <td>5.0</td>\n",
       "      <td>3.0</td>\n",
       "      <td>9.0</td>\n",
       "    </tr>\n",
       "    <tr>\n",
       "      <th>51388</th>\n",
       "      <td>NaN</td>\n",
       "      <td>NaN</td>\n",
       "      <td>NaN</td>\n",
       "      <td>NaN</td>\n",
       "      <td>7.0</td>\n",
       "    </tr>\n",
       "    <tr>\n",
       "      <th>51389</th>\n",
       "      <td>NaN</td>\n",
       "      <td>10.0</td>\n",
       "      <td>NaN</td>\n",
       "      <td>10.0</td>\n",
       "      <td>NaN</td>\n",
       "    </tr>\n",
       "    <tr>\n",
       "      <th>51390</th>\n",
       "      <td>40000.0</td>\n",
       "      <td>6.0</td>\n",
       "      <td>1.0</td>\n",
       "      <td>7.0</td>\n",
       "      <td>9.0</td>\n",
       "    </tr>\n",
       "    <tr>\n",
       "      <th>51391</th>\n",
       "      <td>NaN</td>\n",
       "      <td>8.0</td>\n",
       "      <td>2.0</td>\n",
       "      <td>8.0</td>\n",
       "      <td>8.0</td>\n",
       "    </tr>\n",
       "  </tbody>\n",
       "</table>\n",
       "<p>51392 rows × 5 columns</p>\n",
       "</div>"
      ],
      "text/plain": [
       "         Salary  CareerSatisfaction  HoursPerWeek  JobSatisfaction  \\\n",
       "0           NaN                 NaN           0.0              NaN   \n",
       "1           NaN                 NaN           NaN              NaN   \n",
       "2      113750.0                 8.0           NaN              9.0   \n",
       "3           NaN                 6.0           5.0              3.0   \n",
       "4           NaN                 6.0           NaN              8.0   \n",
       "...         ...                 ...           ...              ...   \n",
       "51387   58000.0                 7.0           5.0              3.0   \n",
       "51388       NaN                 NaN           NaN              NaN   \n",
       "51389       NaN                10.0           NaN             10.0   \n",
       "51390   40000.0                 6.0           1.0              7.0   \n",
       "51391       NaN                 8.0           2.0              8.0   \n",
       "\n",
       "       StackOverflowSatisfaction  \n",
       "0                            9.0  \n",
       "1                            8.0  \n",
       "2                            8.0  \n",
       "3                           10.0  \n",
       "4                            NaN  \n",
       "...                          ...  \n",
       "51387                        9.0  \n",
       "51388                        7.0  \n",
       "51389                        NaN  \n",
       "51390                        9.0  \n",
       "51391                        8.0  \n",
       "\n",
       "[51392 rows x 5 columns]"
      ]
     },
     "execution_count": 241,
     "metadata": {},
     "output_type": "execute_result"
    }
   ],
   "source": [
    "num_vars"
   ]
  },
  {
   "cell_type": "code",
   "execution_count": 243,
   "metadata": {},
   "outputs": [
    {
     "data": {
      "text/html": [
       "<div>\n",
       "<style scoped>\n",
       "    .dataframe tbody tr th:only-of-type {\n",
       "        vertical-align: middle;\n",
       "    }\n",
       "\n",
       "    .dataframe tbody tr th {\n",
       "        vertical-align: top;\n",
       "    }\n",
       "\n",
       "    .dataframe thead th {\n",
       "        text-align: right;\n",
       "    }\n",
       "</style>\n",
       "<table border=\"1\" class=\"dataframe\">\n",
       "  <thead>\n",
       "    <tr style=\"text-align: right;\">\n",
       "      <th></th>\n",
       "      <th>Salary</th>\n",
       "      <th>CareerSatisfaction</th>\n",
       "      <th>HoursPerWeek</th>\n",
       "      <th>JobSatisfaction</th>\n",
       "      <th>StackOverflowSatisfaction</th>\n",
       "    </tr>\n",
       "  </thead>\n",
       "  <tbody>\n",
       "    <tr>\n",
       "      <th>2</th>\n",
       "      <td>113750.000000</td>\n",
       "      <td>8.0</td>\n",
       "      <td>NaN</td>\n",
       "      <td>9.0</td>\n",
       "      <td>8.0</td>\n",
       "    </tr>\n",
       "    <tr>\n",
       "      <th>14</th>\n",
       "      <td>100000.000000</td>\n",
       "      <td>8.0</td>\n",
       "      <td>NaN</td>\n",
       "      <td>8.0</td>\n",
       "      <td>8.0</td>\n",
       "    </tr>\n",
       "    <tr>\n",
       "      <th>17</th>\n",
       "      <td>130000.000000</td>\n",
       "      <td>9.0</td>\n",
       "      <td>NaN</td>\n",
       "      <td>8.0</td>\n",
       "      <td>8.0</td>\n",
       "    </tr>\n",
       "    <tr>\n",
       "      <th>18</th>\n",
       "      <td>82500.000000</td>\n",
       "      <td>5.0</td>\n",
       "      <td>NaN</td>\n",
       "      <td>3.0</td>\n",
       "      <td>NaN</td>\n",
       "    </tr>\n",
       "    <tr>\n",
       "      <th>22</th>\n",
       "      <td>100764.000000</td>\n",
       "      <td>8.0</td>\n",
       "      <td>NaN</td>\n",
       "      <td>9.0</td>\n",
       "      <td>8.0</td>\n",
       "    </tr>\n",
       "    <tr>\n",
       "      <th>...</th>\n",
       "      <td>...</td>\n",
       "      <td>...</td>\n",
       "      <td>...</td>\n",
       "      <td>...</td>\n",
       "      <td>...</td>\n",
       "    </tr>\n",
       "    <tr>\n",
       "      <th>51371</th>\n",
       "      <td>74193.548387</td>\n",
       "      <td>7.0</td>\n",
       "      <td>NaN</td>\n",
       "      <td>7.0</td>\n",
       "      <td>8.0</td>\n",
       "    </tr>\n",
       "    <tr>\n",
       "      <th>51378</th>\n",
       "      <td>107526.881720</td>\n",
       "      <td>10.0</td>\n",
       "      <td>NaN</td>\n",
       "      <td>10.0</td>\n",
       "      <td>10.0</td>\n",
       "    </tr>\n",
       "    <tr>\n",
       "      <th>51382</th>\n",
       "      <td>32258.064516</td>\n",
       "      <td>9.0</td>\n",
       "      <td>0.0</td>\n",
       "      <td>5.0</td>\n",
       "      <td>7.0</td>\n",
       "    </tr>\n",
       "    <tr>\n",
       "      <th>51387</th>\n",
       "      <td>58000.000000</td>\n",
       "      <td>7.0</td>\n",
       "      <td>5.0</td>\n",
       "      <td>3.0</td>\n",
       "      <td>9.0</td>\n",
       "    </tr>\n",
       "    <tr>\n",
       "      <th>51390</th>\n",
       "      <td>40000.000000</td>\n",
       "      <td>6.0</td>\n",
       "      <td>1.0</td>\n",
       "      <td>7.0</td>\n",
       "      <td>9.0</td>\n",
       "    </tr>\n",
       "  </tbody>\n",
       "</table>\n",
       "<p>12891 rows × 5 columns</p>\n",
       "</div>"
      ],
      "text/plain": [
       "              Salary  CareerSatisfaction  HoursPerWeek  JobSatisfaction  \\\n",
       "2      113750.000000                 8.0           NaN              9.0   \n",
       "14     100000.000000                 8.0           NaN              8.0   \n",
       "17     130000.000000                 9.0           NaN              8.0   \n",
       "18      82500.000000                 5.0           NaN              3.0   \n",
       "22     100764.000000                 8.0           NaN              9.0   \n",
       "...              ...                 ...           ...              ...   \n",
       "51371   74193.548387                 7.0           NaN              7.0   \n",
       "51378  107526.881720                10.0           NaN             10.0   \n",
       "51382   32258.064516                 9.0           0.0              5.0   \n",
       "51387   58000.000000                 7.0           5.0              3.0   \n",
       "51390   40000.000000                 6.0           1.0              7.0   \n",
       "\n",
       "       StackOverflowSatisfaction  \n",
       "2                            8.0  \n",
       "14                           8.0  \n",
       "17                           8.0  \n",
       "18                           NaN  \n",
       "22                           8.0  \n",
       "...                          ...  \n",
       "51371                        8.0  \n",
       "51378                       10.0  \n",
       "51382                        7.0  \n",
       "51387                        9.0  \n",
       "51390                        9.0  \n",
       "\n",
       "[12891 rows x 5 columns]"
      ]
     },
     "execution_count": 243,
     "metadata": {},
     "output_type": "execute_result"
    }
   ],
   "source": [
    "#drop the rows with missing values of the response Salary\n",
    "drop_sal_df = num_vars.dropna(subset=[\"Salary\"], axis=0)\n",
    "drop_sal_df"
   ]
  },
  {
   "cell_type": "code",
   "execution_count": 247,
   "metadata": {
    "scrolled": true
   },
   "outputs": [
    {
     "data": {
      "text/html": [
       "<div>\n",
       "<style scoped>\n",
       "    .dataframe tbody tr th:only-of-type {\n",
       "        vertical-align: middle;\n",
       "    }\n",
       "\n",
       "    .dataframe tbody tr th {\n",
       "        vertical-align: top;\n",
       "    }\n",
       "\n",
       "    .dataframe thead th {\n",
       "        text-align: right;\n",
       "    }\n",
       "</style>\n",
       "<table border=\"1\" class=\"dataframe\">\n",
       "  <thead>\n",
       "    <tr style=\"text-align: right;\">\n",
       "      <th></th>\n",
       "      <th>Salary</th>\n",
       "      <th>CareerSatisfaction</th>\n",
       "      <th>HoursPerWeek</th>\n",
       "      <th>JobSatisfaction</th>\n",
       "      <th>StackOverflowSatisfaction</th>\n",
       "    </tr>\n",
       "  </thead>\n",
       "  <tbody>\n",
       "    <tr>\n",
       "      <th>2</th>\n",
       "      <td>113750.000000</td>\n",
       "      <td>8.0</td>\n",
       "      <td>2.64292</td>\n",
       "      <td>9.0</td>\n",
       "      <td>8.000000</td>\n",
       "    </tr>\n",
       "    <tr>\n",
       "      <th>14</th>\n",
       "      <td>100000.000000</td>\n",
       "      <td>8.0</td>\n",
       "      <td>2.64292</td>\n",
       "      <td>8.0</td>\n",
       "      <td>8.000000</td>\n",
       "    </tr>\n",
       "    <tr>\n",
       "      <th>17</th>\n",
       "      <td>130000.000000</td>\n",
       "      <td>9.0</td>\n",
       "      <td>2.64292</td>\n",
       "      <td>8.0</td>\n",
       "      <td>8.000000</td>\n",
       "    </tr>\n",
       "    <tr>\n",
       "      <th>18</th>\n",
       "      <td>82500.000000</td>\n",
       "      <td>5.0</td>\n",
       "      <td>2.64292</td>\n",
       "      <td>3.0</td>\n",
       "      <td>8.511858</td>\n",
       "    </tr>\n",
       "    <tr>\n",
       "      <th>22</th>\n",
       "      <td>100764.000000</td>\n",
       "      <td>8.0</td>\n",
       "      <td>2.64292</td>\n",
       "      <td>9.0</td>\n",
       "      <td>8.000000</td>\n",
       "    </tr>\n",
       "    <tr>\n",
       "      <th>...</th>\n",
       "      <td>...</td>\n",
       "      <td>...</td>\n",
       "      <td>...</td>\n",
       "      <td>...</td>\n",
       "      <td>...</td>\n",
       "    </tr>\n",
       "    <tr>\n",
       "      <th>51371</th>\n",
       "      <td>74193.548387</td>\n",
       "      <td>7.0</td>\n",
       "      <td>2.64292</td>\n",
       "      <td>7.0</td>\n",
       "      <td>8.000000</td>\n",
       "    </tr>\n",
       "    <tr>\n",
       "      <th>51378</th>\n",
       "      <td>107526.881720</td>\n",
       "      <td>10.0</td>\n",
       "      <td>2.64292</td>\n",
       "      <td>10.0</td>\n",
       "      <td>10.000000</td>\n",
       "    </tr>\n",
       "    <tr>\n",
       "      <th>51382</th>\n",
       "      <td>32258.064516</td>\n",
       "      <td>9.0</td>\n",
       "      <td>0.00000</td>\n",
       "      <td>5.0</td>\n",
       "      <td>7.000000</td>\n",
       "    </tr>\n",
       "    <tr>\n",
       "      <th>51387</th>\n",
       "      <td>58000.000000</td>\n",
       "      <td>7.0</td>\n",
       "      <td>5.00000</td>\n",
       "      <td>3.0</td>\n",
       "      <td>9.000000</td>\n",
       "    </tr>\n",
       "    <tr>\n",
       "      <th>51390</th>\n",
       "      <td>40000.000000</td>\n",
       "      <td>6.0</td>\n",
       "      <td>1.00000</td>\n",
       "      <td>7.0</td>\n",
       "      <td>9.000000</td>\n",
       "    </tr>\n",
       "  </tbody>\n",
       "</table>\n",
       "<p>12891 rows × 5 columns</p>\n",
       "</div>"
      ],
      "text/plain": [
       "              Salary  CareerSatisfaction  HoursPerWeek  JobSatisfaction  \\\n",
       "2      113750.000000                 8.0       2.64292              9.0   \n",
       "14     100000.000000                 8.0       2.64292              8.0   \n",
       "17     130000.000000                 9.0       2.64292              8.0   \n",
       "18      82500.000000                 5.0       2.64292              3.0   \n",
       "22     100764.000000                 8.0       2.64292              9.0   \n",
       "...              ...                 ...           ...              ...   \n",
       "51371   74193.548387                 7.0       2.64292              7.0   \n",
       "51378  107526.881720                10.0       2.64292             10.0   \n",
       "51382   32258.064516                 9.0       0.00000              5.0   \n",
       "51387   58000.000000                 7.0       5.00000              3.0   \n",
       "51390   40000.000000                 6.0       1.00000              7.0   \n",
       "\n",
       "       StackOverflowSatisfaction  \n",
       "2                       8.000000  \n",
       "14                      8.000000  \n",
       "17                      8.000000  \n",
       "18                      8.511858  \n",
       "22                      8.000000  \n",
       "...                          ...  \n",
       "51371                   8.000000  \n",
       "51378                  10.000000  \n",
       "51382                   7.000000  \n",
       "51387                   9.000000  \n",
       "51390                   9.000000  \n",
       "\n",
       "[12891 rows x 5 columns]"
      ]
     },
     "execution_count": 247,
     "metadata": {},
     "output_type": "execute_result"
    }
   ],
   "source": [
    "#fill columns dataframe with the mean\n",
    "fill_mean = lambda col:col.fillna(col.mean())\n",
    "fill_df = drop_sal_df.apply(fill_mean, axis=0)\n",
    "fill_df"
   ]
  },
  {
   "cell_type": "code",
   "execution_count": 249,
   "metadata": {},
   "outputs": [
    {
     "name": "stdout",
     "output_type": "stream",
     "text": [
      "The r-squared score for your model was 0.04072431792894737 on 3868 values.\n"
     ]
    }
   ],
   "source": [
    "#using fill_df to predict the salary using the continuous variables\n",
    "\n",
    "#Split into explanatory and response variables\n",
    "X = fill_df[[\"CareerSatisfaction\", \"HoursPerWeek\", \"JobSatisfaction\", \"StackOverflowSatisfaction\"]]\n",
    "y = fill_df[\"Salary\"]\n",
    "\n",
    "#Split into train and test\n",
    "X_train, X_test, y_train, y_test = train_test_split(X, y, test_size=.30, random_state=42)\n",
    "\n",
    "#Instantiate model\n",
    "lm_model = LinearRegression(normalize=True)\n",
    "\n",
    "#Fit\n",
    "lm_model.fit(X_train, y_train)\n",
    "\n",
    "#Predict and score the model\n",
    "y_test_preds = lm_model.predict(X_test)\n",
    "rsquared_score = r2_score(y_test, y_test_preds)\n",
    "\n",
    "#Rsquared and y_test\n",
    "length_y_test = len(y_test_preds)\n",
    "print(\"The r-squared score for your model was {} on {} values.\".format(rsquared_score, length_y_test))\n"
   ]
  },
  {
   "cell_type": "markdown",
   "metadata": {},
   "source": [
    "## 5) Categorical variables <a class=\"anchor\" id=\"categorical-variables\"></a>"
   ]
  },
  {
   "cell_type": "code",
   "execution_count": 251,
   "metadata": {},
   "outputs": [
    {
     "name": "stdout",
     "output_type": "stream",
     "text": [
      "cat_df.shape =  (51392, 147)\n"
     ]
    },
    {
     "data": {
      "text/html": [
       "<div>\n",
       "<style scoped>\n",
       "    .dataframe tbody tr th:only-of-type {\n",
       "        vertical-align: middle;\n",
       "    }\n",
       "\n",
       "    .dataframe tbody tr th {\n",
       "        vertical-align: top;\n",
       "    }\n",
       "\n",
       "    .dataframe thead th {\n",
       "        text-align: right;\n",
       "    }\n",
       "</style>\n",
       "<table border=\"1\" class=\"dataframe\">\n",
       "  <thead>\n",
       "    <tr style=\"text-align: right;\">\n",
       "      <th></th>\n",
       "      <th>Professional</th>\n",
       "      <th>ProgramHobby</th>\n",
       "      <th>Country</th>\n",
       "      <th>University</th>\n",
       "      <th>EmploymentStatus</th>\n",
       "      <th>FormalEducation</th>\n",
       "      <th>MajorUndergrad</th>\n",
       "      <th>HomeRemote</th>\n",
       "      <th>CompanySize</th>\n",
       "      <th>CompanyType</th>\n",
       "      <th>...</th>\n",
       "      <th>StackOverflowBetter</th>\n",
       "      <th>StackOverflowWhatDo</th>\n",
       "      <th>StackOverflowMakeMoney</th>\n",
       "      <th>Gender</th>\n",
       "      <th>HighestEducationParents</th>\n",
       "      <th>Race</th>\n",
       "      <th>SurveyLong</th>\n",
       "      <th>QuestionsInteresting</th>\n",
       "      <th>QuestionsConfusing</th>\n",
       "      <th>InterestedAnswers</th>\n",
       "    </tr>\n",
       "  </thead>\n",
       "  <tbody>\n",
       "    <tr>\n",
       "      <th>0</th>\n",
       "      <td>Student</td>\n",
       "      <td>Yes, both</td>\n",
       "      <td>United States</td>\n",
       "      <td>No</td>\n",
       "      <td>Not employed, and not looking for work</td>\n",
       "      <td>Secondary school</td>\n",
       "      <td>NaN</td>\n",
       "      <td>NaN</td>\n",
       "      <td>NaN</td>\n",
       "      <td>NaN</td>\n",
       "      <td>...</td>\n",
       "      <td>Strongly agree</td>\n",
       "      <td>Strongly agree</td>\n",
       "      <td>Strongly disagree</td>\n",
       "      <td>Male</td>\n",
       "      <td>High school</td>\n",
       "      <td>White or of European descent</td>\n",
       "      <td>Strongly disagree</td>\n",
       "      <td>Strongly agree</td>\n",
       "      <td>Disagree</td>\n",
       "      <td>Strongly agree</td>\n",
       "    </tr>\n",
       "    <tr>\n",
       "      <th>1</th>\n",
       "      <td>Student</td>\n",
       "      <td>Yes, both</td>\n",
       "      <td>United Kingdom</td>\n",
       "      <td>Yes, full-time</td>\n",
       "      <td>Employed part-time</td>\n",
       "      <td>Some college/university study without earning ...</td>\n",
       "      <td>Computer science or software engineering</td>\n",
       "      <td>More than half, but not all, the time</td>\n",
       "      <td>20 to 99 employees</td>\n",
       "      <td>Privately-held limited company, not in startup...</td>\n",
       "      <td>...</td>\n",
       "      <td>Strongly agree</td>\n",
       "      <td>Strongly agree</td>\n",
       "      <td>Strongly disagree</td>\n",
       "      <td>Male</td>\n",
       "      <td>A master's degree</td>\n",
       "      <td>White or of European descent</td>\n",
       "      <td>Somewhat agree</td>\n",
       "      <td>Somewhat agree</td>\n",
       "      <td>Disagree</td>\n",
       "      <td>Strongly agree</td>\n",
       "    </tr>\n",
       "    <tr>\n",
       "      <th>2</th>\n",
       "      <td>Professional developer</td>\n",
       "      <td>Yes, both</td>\n",
       "      <td>United Kingdom</td>\n",
       "      <td>No</td>\n",
       "      <td>Employed full-time</td>\n",
       "      <td>Bachelor's degree</td>\n",
       "      <td>Computer science or software engineering</td>\n",
       "      <td>Less than half the time, but at least one day ...</td>\n",
       "      <td>10,000 or more employees</td>\n",
       "      <td>Publicly-traded corporation</td>\n",
       "      <td>...</td>\n",
       "      <td>Agree</td>\n",
       "      <td>Agree</td>\n",
       "      <td>Disagree</td>\n",
       "      <td>Male</td>\n",
       "      <td>A professional degree</td>\n",
       "      <td>White or of European descent</td>\n",
       "      <td>Somewhat agree</td>\n",
       "      <td>Agree</td>\n",
       "      <td>Disagree</td>\n",
       "      <td>Agree</td>\n",
       "    </tr>\n",
       "    <tr>\n",
       "      <th>3</th>\n",
       "      <td>Professional non-developer who sometimes write...</td>\n",
       "      <td>Yes, both</td>\n",
       "      <td>United States</td>\n",
       "      <td>No</td>\n",
       "      <td>Employed full-time</td>\n",
       "      <td>Doctoral degree</td>\n",
       "      <td>A non-computer-focused engineering discipline</td>\n",
       "      <td>Less than half the time, but at least one day ...</td>\n",
       "      <td>10,000 or more employees</td>\n",
       "      <td>Non-profit/non-governmental organization or pr...</td>\n",
       "      <td>...</td>\n",
       "      <td>Agree</td>\n",
       "      <td>Strongly agree</td>\n",
       "      <td>Disagree</td>\n",
       "      <td>Male</td>\n",
       "      <td>A doctoral degree</td>\n",
       "      <td>White or of European descent</td>\n",
       "      <td>Agree</td>\n",
       "      <td>Agree</td>\n",
       "      <td>Somewhat agree</td>\n",
       "      <td>Strongly agree</td>\n",
       "    </tr>\n",
       "    <tr>\n",
       "      <th>4</th>\n",
       "      <td>Professional developer</td>\n",
       "      <td>Yes, I program as a hobby</td>\n",
       "      <td>Switzerland</td>\n",
       "      <td>No</td>\n",
       "      <td>Employed full-time</td>\n",
       "      <td>Master's degree</td>\n",
       "      <td>Computer science or software engineering</td>\n",
       "      <td>Never</td>\n",
       "      <td>10 to 19 employees</td>\n",
       "      <td>Privately-held limited company, not in startup...</td>\n",
       "      <td>...</td>\n",
       "      <td>NaN</td>\n",
       "      <td>NaN</td>\n",
       "      <td>NaN</td>\n",
       "      <td>NaN</td>\n",
       "      <td>NaN</td>\n",
       "      <td>NaN</td>\n",
       "      <td>NaN</td>\n",
       "      <td>NaN</td>\n",
       "      <td>NaN</td>\n",
       "      <td>NaN</td>\n",
       "    </tr>\n",
       "  </tbody>\n",
       "</table>\n",
       "<p>5 rows × 147 columns</p>\n",
       "</div>"
      ],
      "text/plain": [
       "                                        Professional  \\\n",
       "0                                            Student   \n",
       "1                                            Student   \n",
       "2                             Professional developer   \n",
       "3  Professional non-developer who sometimes write...   \n",
       "4                             Professional developer   \n",
       "\n",
       "                ProgramHobby         Country      University  \\\n",
       "0                  Yes, both   United States              No   \n",
       "1                  Yes, both  United Kingdom  Yes, full-time   \n",
       "2                  Yes, both  United Kingdom              No   \n",
       "3                  Yes, both   United States              No   \n",
       "4  Yes, I program as a hobby     Switzerland              No   \n",
       "\n",
       "                         EmploymentStatus  \\\n",
       "0  Not employed, and not looking for work   \n",
       "1                      Employed part-time   \n",
       "2                      Employed full-time   \n",
       "3                      Employed full-time   \n",
       "4                      Employed full-time   \n",
       "\n",
       "                                     FormalEducation  \\\n",
       "0                                   Secondary school   \n",
       "1  Some college/university study without earning ...   \n",
       "2                                  Bachelor's degree   \n",
       "3                                    Doctoral degree   \n",
       "4                                    Master's degree   \n",
       "\n",
       "                                  MajorUndergrad  \\\n",
       "0                                            NaN   \n",
       "1       Computer science or software engineering   \n",
       "2       Computer science or software engineering   \n",
       "3  A non-computer-focused engineering discipline   \n",
       "4       Computer science or software engineering   \n",
       "\n",
       "                                          HomeRemote  \\\n",
       "0                                                NaN   \n",
       "1              More than half, but not all, the time   \n",
       "2  Less than half the time, but at least one day ...   \n",
       "3  Less than half the time, but at least one day ...   \n",
       "4                                              Never   \n",
       "\n",
       "                CompanySize  \\\n",
       "0                       NaN   \n",
       "1        20 to 99 employees   \n",
       "2  10,000 or more employees   \n",
       "3  10,000 or more employees   \n",
       "4        10 to 19 employees   \n",
       "\n",
       "                                         CompanyType  ... StackOverflowBetter  \\\n",
       "0                                                NaN  ...      Strongly agree   \n",
       "1  Privately-held limited company, not in startup...  ...      Strongly agree   \n",
       "2                        Publicly-traded corporation  ...               Agree   \n",
       "3  Non-profit/non-governmental organization or pr...  ...               Agree   \n",
       "4  Privately-held limited company, not in startup...  ...                 NaN   \n",
       "\n",
       "  StackOverflowWhatDo StackOverflowMakeMoney Gender HighestEducationParents  \\\n",
       "0      Strongly agree      Strongly disagree   Male             High school   \n",
       "1      Strongly agree      Strongly disagree   Male       A master's degree   \n",
       "2               Agree               Disagree   Male   A professional degree   \n",
       "3      Strongly agree               Disagree   Male       A doctoral degree   \n",
       "4                 NaN                    NaN    NaN                     NaN   \n",
       "\n",
       "                           Race         SurveyLong QuestionsInteresting  \\\n",
       "0  White or of European descent  Strongly disagree       Strongly agree   \n",
       "1  White or of European descent     Somewhat agree       Somewhat agree   \n",
       "2  White or of European descent     Somewhat agree                Agree   \n",
       "3  White or of European descent              Agree                Agree   \n",
       "4                           NaN                NaN                  NaN   \n",
       "\n",
       "  QuestionsConfusing InterestedAnswers  \n",
       "0           Disagree    Strongly agree  \n",
       "1           Disagree    Strongly agree  \n",
       "2           Disagree             Agree  \n",
       "3     Somewhat agree    Strongly agree  \n",
       "4                NaN               NaN  \n",
       "\n",
       "[5 rows x 147 columns]"
      ]
     },
     "execution_count": 251,
     "metadata": {},
     "output_type": "execute_result"
    }
   ],
   "source": [
    "#Identify the categorical variables using df and save them in another dataframe\n",
    "cat_df = df.select_dtypes(include=[\"object\"])\n",
    "print(\"cat_df.shape = \",cat_df.shape)\n",
    "cat_df.head()"
   ]
  },
  {
   "cell_type": "code",
   "execution_count": 256,
   "metadata": {},
   "outputs": [
    {
     "name": "stdout",
     "output_type": "stream",
     "text": [
      "Number of columns with NO missing values =  6\n"
     ]
    }
   ],
   "source": [
    "#Number of columns with NO missing values\n",
    "print(\"Number of columns with NO missing values = \", np.sum(np.sum(cat_df.isnull()) ==0))"
   ]
  },
  {
   "cell_type": "code",
   "execution_count": 258,
   "metadata": {},
   "outputs": [
    {
     "name": "stdout",
     "output_type": "stream",
     "text": [
      "Number of columns with more than half of the column missing =  50\n"
     ]
    }
   ],
   "source": [
    "#Number of columns with more than half of the column missing\n",
    "print(\"Number of columns with more than half of the column missing = \", np.sum(np.sum(cat_df.isnull()/cat_df.shape[0]) >0.5))"
   ]
  },
  {
   "cell_type": "code",
   "execution_count": 259,
   "metadata": {},
   "outputs": [
    {
     "name": "stdout",
     "output_type": "stream",
     "text": [
      "Number of columns with more than 75% of the column missing =  13\n"
     ]
    }
   ],
   "source": [
    "#Number of columns with more than 75% of the column missing\n",
    "print(\"Number of columns with more than 75% of the column missing = \", np.sum(np.sum(cat_df.isnull()/cat_df.shape[0]) >0.75))"
   ]
  },
  {
   "cell_type": "code",
   "execution_count": 265,
   "metadata": {},
   "outputs": [],
   "source": [
    "def clean_data(df):\n",
    "    \n",
    "    #Drop rows with missing salary values\n",
    "    df = df.dropna(subset=[\"Salary\"], axis=0)\n",
    "    y = df[\"Salary\"]\n",
    "    \n",
    "    #Drop respondent and expected salary columns\n",
    "    df = df.drop([\"Respondent\", \"ExpectedSalary\", \"Salary\"], axis=1)\n",
    "    \n",
    "    #Fill numeric columns with the mean\n",
    "    num_vars = df.select_dtypes(include=[\"float\", \"int\"]).columns\n",
    "    for col in num_vars:\n",
    "        df[col].fillna((df[col].mean()), inplace=True)\n",
    "    \n",
    "    #Dummy the categorical variables\n",
    "    cat_vars = df.select_dtypes(include=[\"object\"]).columns\n",
    "    for var in cat_vars:\n",
    "        #for each cat add dummy var, drop original column\n",
    "        df = pd.concat([df.drop(var, axis=1), pd.get_dummies(df[var], prefix=var, prefix_sep=\"_\", drop_first=True)], axis=1)\n",
    "    X = df\n",
    "    return X, y\n",
    "\n",
    "#Use the function to create X and y\n",
    "X, y = clean_data(df)"
   ]
  },
  {
   "cell_type": "code",
   "execution_count": 266,
   "metadata": {},
   "outputs": [
    {
     "data": {
      "text/html": [
       "<div>\n",
       "<style scoped>\n",
       "    .dataframe tbody tr th:only-of-type {\n",
       "        vertical-align: middle;\n",
       "    }\n",
       "\n",
       "    .dataframe tbody tr th {\n",
       "        vertical-align: top;\n",
       "    }\n",
       "\n",
       "    .dataframe thead th {\n",
       "        text-align: right;\n",
       "    }\n",
       "</style>\n",
       "<table border=\"1\" class=\"dataframe\">\n",
       "  <thead>\n",
       "    <tr style=\"text-align: right;\">\n",
       "      <th></th>\n",
       "      <th>CareerSatisfaction</th>\n",
       "      <th>JobSatisfaction</th>\n",
       "      <th>HoursPerWeek</th>\n",
       "      <th>StackOverflowSatisfaction</th>\n",
       "      <th>ProgramHobby_Yes, I contribute to open source projects</th>\n",
       "      <th>ProgramHobby_Yes, I program as a hobby</th>\n",
       "      <th>ProgramHobby_Yes, both</th>\n",
       "      <th>Country_Albania</th>\n",
       "      <th>Country_Anguilla</th>\n",
       "      <th>Country_Argentina</th>\n",
       "      <th>...</th>\n",
       "      <th>QuestionsInteresting_Strongly agree</th>\n",
       "      <th>QuestionsInteresting_Strongly disagree</th>\n",
       "      <th>QuestionsConfusing_Disagree</th>\n",
       "      <th>QuestionsConfusing_Somewhat agree</th>\n",
       "      <th>QuestionsConfusing_Strongly agree</th>\n",
       "      <th>QuestionsConfusing_Strongly disagree</th>\n",
       "      <th>InterestedAnswers_Disagree</th>\n",
       "      <th>InterestedAnswers_Somewhat agree</th>\n",
       "      <th>InterestedAnswers_Strongly agree</th>\n",
       "      <th>InterestedAnswers_Strongly disagree</th>\n",
       "    </tr>\n",
       "  </thead>\n",
       "  <tbody>\n",
       "    <tr>\n",
       "      <th>2</th>\n",
       "      <td>8.0</td>\n",
       "      <td>9.0</td>\n",
       "      <td>2.64292</td>\n",
       "      <td>8.000000</td>\n",
       "      <td>0</td>\n",
       "      <td>0</td>\n",
       "      <td>1</td>\n",
       "      <td>0</td>\n",
       "      <td>0</td>\n",
       "      <td>0</td>\n",
       "      <td>...</td>\n",
       "      <td>0</td>\n",
       "      <td>0</td>\n",
       "      <td>1</td>\n",
       "      <td>0</td>\n",
       "      <td>0</td>\n",
       "      <td>0</td>\n",
       "      <td>0</td>\n",
       "      <td>0</td>\n",
       "      <td>0</td>\n",
       "      <td>0</td>\n",
       "    </tr>\n",
       "    <tr>\n",
       "      <th>14</th>\n",
       "      <td>8.0</td>\n",
       "      <td>8.0</td>\n",
       "      <td>2.64292</td>\n",
       "      <td>8.000000</td>\n",
       "      <td>0</td>\n",
       "      <td>1</td>\n",
       "      <td>0</td>\n",
       "      <td>0</td>\n",
       "      <td>0</td>\n",
       "      <td>0</td>\n",
       "      <td>...</td>\n",
       "      <td>0</td>\n",
       "      <td>0</td>\n",
       "      <td>1</td>\n",
       "      <td>0</td>\n",
       "      <td>0</td>\n",
       "      <td>0</td>\n",
       "      <td>0</td>\n",
       "      <td>0</td>\n",
       "      <td>0</td>\n",
       "      <td>0</td>\n",
       "    </tr>\n",
       "    <tr>\n",
       "      <th>17</th>\n",
       "      <td>9.0</td>\n",
       "      <td>8.0</td>\n",
       "      <td>2.64292</td>\n",
       "      <td>8.000000</td>\n",
       "      <td>0</td>\n",
       "      <td>0</td>\n",
       "      <td>1</td>\n",
       "      <td>0</td>\n",
       "      <td>0</td>\n",
       "      <td>0</td>\n",
       "      <td>...</td>\n",
       "      <td>0</td>\n",
       "      <td>0</td>\n",
       "      <td>1</td>\n",
       "      <td>0</td>\n",
       "      <td>0</td>\n",
       "      <td>0</td>\n",
       "      <td>0</td>\n",
       "      <td>0</td>\n",
       "      <td>0</td>\n",
       "      <td>0</td>\n",
       "    </tr>\n",
       "    <tr>\n",
       "      <th>18</th>\n",
       "      <td>5.0</td>\n",
       "      <td>3.0</td>\n",
       "      <td>2.64292</td>\n",
       "      <td>8.511858</td>\n",
       "      <td>0</td>\n",
       "      <td>1</td>\n",
       "      <td>0</td>\n",
       "      <td>0</td>\n",
       "      <td>0</td>\n",
       "      <td>0</td>\n",
       "      <td>...</td>\n",
       "      <td>0</td>\n",
       "      <td>0</td>\n",
       "      <td>0</td>\n",
       "      <td>0</td>\n",
       "      <td>0</td>\n",
       "      <td>0</td>\n",
       "      <td>0</td>\n",
       "      <td>0</td>\n",
       "      <td>0</td>\n",
       "      <td>0</td>\n",
       "    </tr>\n",
       "    <tr>\n",
       "      <th>22</th>\n",
       "      <td>8.0</td>\n",
       "      <td>9.0</td>\n",
       "      <td>2.64292</td>\n",
       "      <td>8.000000</td>\n",
       "      <td>0</td>\n",
       "      <td>0</td>\n",
       "      <td>0</td>\n",
       "      <td>0</td>\n",
       "      <td>0</td>\n",
       "      <td>0</td>\n",
       "      <td>...</td>\n",
       "      <td>0</td>\n",
       "      <td>0</td>\n",
       "      <td>0</td>\n",
       "      <td>1</td>\n",
       "      <td>0</td>\n",
       "      <td>0</td>\n",
       "      <td>0</td>\n",
       "      <td>0</td>\n",
       "      <td>0</td>\n",
       "      <td>0</td>\n",
       "    </tr>\n",
       "    <tr>\n",
       "      <th>...</th>\n",
       "      <td>...</td>\n",
       "      <td>...</td>\n",
       "      <td>...</td>\n",
       "      <td>...</td>\n",
       "      <td>...</td>\n",
       "      <td>...</td>\n",
       "      <td>...</td>\n",
       "      <td>...</td>\n",
       "      <td>...</td>\n",
       "      <td>...</td>\n",
       "      <td>...</td>\n",
       "      <td>...</td>\n",
       "      <td>...</td>\n",
       "      <td>...</td>\n",
       "      <td>...</td>\n",
       "      <td>...</td>\n",
       "      <td>...</td>\n",
       "      <td>...</td>\n",
       "      <td>...</td>\n",
       "      <td>...</td>\n",
       "      <td>...</td>\n",
       "    </tr>\n",
       "    <tr>\n",
       "      <th>51371</th>\n",
       "      <td>7.0</td>\n",
       "      <td>7.0</td>\n",
       "      <td>2.64292</td>\n",
       "      <td>8.000000</td>\n",
       "      <td>0</td>\n",
       "      <td>0</td>\n",
       "      <td>0</td>\n",
       "      <td>0</td>\n",
       "      <td>0</td>\n",
       "      <td>0</td>\n",
       "      <td>...</td>\n",
       "      <td>0</td>\n",
       "      <td>0</td>\n",
       "      <td>0</td>\n",
       "      <td>0</td>\n",
       "      <td>0</td>\n",
       "      <td>1</td>\n",
       "      <td>0</td>\n",
       "      <td>0</td>\n",
       "      <td>0</td>\n",
       "      <td>0</td>\n",
       "    </tr>\n",
       "    <tr>\n",
       "      <th>51378</th>\n",
       "      <td>10.0</td>\n",
       "      <td>10.0</td>\n",
       "      <td>2.64292</td>\n",
       "      <td>10.000000</td>\n",
       "      <td>1</td>\n",
       "      <td>0</td>\n",
       "      <td>0</td>\n",
       "      <td>0</td>\n",
       "      <td>0</td>\n",
       "      <td>0</td>\n",
       "      <td>...</td>\n",
       "      <td>1</td>\n",
       "      <td>0</td>\n",
       "      <td>0</td>\n",
       "      <td>0</td>\n",
       "      <td>0</td>\n",
       "      <td>1</td>\n",
       "      <td>0</td>\n",
       "      <td>0</td>\n",
       "      <td>1</td>\n",
       "      <td>0</td>\n",
       "    </tr>\n",
       "    <tr>\n",
       "      <th>51382</th>\n",
       "      <td>9.0</td>\n",
       "      <td>5.0</td>\n",
       "      <td>0.00000</td>\n",
       "      <td>7.000000</td>\n",
       "      <td>0</td>\n",
       "      <td>1</td>\n",
       "      <td>0</td>\n",
       "      <td>0</td>\n",
       "      <td>0</td>\n",
       "      <td>0</td>\n",
       "      <td>...</td>\n",
       "      <td>0</td>\n",
       "      <td>0</td>\n",
       "      <td>1</td>\n",
       "      <td>0</td>\n",
       "      <td>0</td>\n",
       "      <td>0</td>\n",
       "      <td>0</td>\n",
       "      <td>1</td>\n",
       "      <td>0</td>\n",
       "      <td>0</td>\n",
       "    </tr>\n",
       "    <tr>\n",
       "      <th>51387</th>\n",
       "      <td>7.0</td>\n",
       "      <td>3.0</td>\n",
       "      <td>5.00000</td>\n",
       "      <td>9.000000</td>\n",
       "      <td>0</td>\n",
       "      <td>1</td>\n",
       "      <td>0</td>\n",
       "      <td>0</td>\n",
       "      <td>0</td>\n",
       "      <td>0</td>\n",
       "      <td>...</td>\n",
       "      <td>0</td>\n",
       "      <td>0</td>\n",
       "      <td>0</td>\n",
       "      <td>0</td>\n",
       "      <td>0</td>\n",
       "      <td>1</td>\n",
       "      <td>0</td>\n",
       "      <td>0</td>\n",
       "      <td>1</td>\n",
       "      <td>0</td>\n",
       "    </tr>\n",
       "    <tr>\n",
       "      <th>51390</th>\n",
       "      <td>6.0</td>\n",
       "      <td>7.0</td>\n",
       "      <td>1.00000</td>\n",
       "      <td>9.000000</td>\n",
       "      <td>0</td>\n",
       "      <td>1</td>\n",
       "      <td>0</td>\n",
       "      <td>0</td>\n",
       "      <td>0</td>\n",
       "      <td>0</td>\n",
       "      <td>...</td>\n",
       "      <td>0</td>\n",
       "      <td>0</td>\n",
       "      <td>1</td>\n",
       "      <td>0</td>\n",
       "      <td>0</td>\n",
       "      <td>0</td>\n",
       "      <td>0</td>\n",
       "      <td>0</td>\n",
       "      <td>1</td>\n",
       "      <td>0</td>\n",
       "    </tr>\n",
       "  </tbody>\n",
       "</table>\n",
       "<p>12891 rows × 21107 columns</p>\n",
       "</div>"
      ],
      "text/plain": [
       "       CareerSatisfaction  JobSatisfaction  HoursPerWeek  \\\n",
       "2                     8.0              9.0       2.64292   \n",
       "14                    8.0              8.0       2.64292   \n",
       "17                    9.0              8.0       2.64292   \n",
       "18                    5.0              3.0       2.64292   \n",
       "22                    8.0              9.0       2.64292   \n",
       "...                   ...              ...           ...   \n",
       "51371                 7.0              7.0       2.64292   \n",
       "51378                10.0             10.0       2.64292   \n",
       "51382                 9.0              5.0       0.00000   \n",
       "51387                 7.0              3.0       5.00000   \n",
       "51390                 6.0              7.0       1.00000   \n",
       "\n",
       "       StackOverflowSatisfaction  \\\n",
       "2                       8.000000   \n",
       "14                      8.000000   \n",
       "17                      8.000000   \n",
       "18                      8.511858   \n",
       "22                      8.000000   \n",
       "...                          ...   \n",
       "51371                   8.000000   \n",
       "51378                  10.000000   \n",
       "51382                   7.000000   \n",
       "51387                   9.000000   \n",
       "51390                   9.000000   \n",
       "\n",
       "       ProgramHobby_Yes, I contribute to open source projects  \\\n",
       "2                                                      0        \n",
       "14                                                     0        \n",
       "17                                                     0        \n",
       "18                                                     0        \n",
       "22                                                     0        \n",
       "...                                                  ...        \n",
       "51371                                                  0        \n",
       "51378                                                  1        \n",
       "51382                                                  0        \n",
       "51387                                                  0        \n",
       "51390                                                  0        \n",
       "\n",
       "       ProgramHobby_Yes, I program as a hobby  ProgramHobby_Yes, both  \\\n",
       "2                                           0                       1   \n",
       "14                                          1                       0   \n",
       "17                                          0                       1   \n",
       "18                                          1                       0   \n",
       "22                                          0                       0   \n",
       "...                                       ...                     ...   \n",
       "51371                                       0                       0   \n",
       "51378                                       0                       0   \n",
       "51382                                       1                       0   \n",
       "51387                                       1                       0   \n",
       "51390                                       1                       0   \n",
       "\n",
       "       Country_Albania  Country_Anguilla  Country_Argentina  ...  \\\n",
       "2                    0                 0                  0  ...   \n",
       "14                   0                 0                  0  ...   \n",
       "17                   0                 0                  0  ...   \n",
       "18                   0                 0                  0  ...   \n",
       "22                   0                 0                  0  ...   \n",
       "...                ...               ...                ...  ...   \n",
       "51371                0                 0                  0  ...   \n",
       "51378                0                 0                  0  ...   \n",
       "51382                0                 0                  0  ...   \n",
       "51387                0                 0                  0  ...   \n",
       "51390                0                 0                  0  ...   \n",
       "\n",
       "       QuestionsInteresting_Strongly agree  \\\n",
       "2                                        0   \n",
       "14                                       0   \n",
       "17                                       0   \n",
       "18                                       0   \n",
       "22                                       0   \n",
       "...                                    ...   \n",
       "51371                                    0   \n",
       "51378                                    1   \n",
       "51382                                    0   \n",
       "51387                                    0   \n",
       "51390                                    0   \n",
       "\n",
       "       QuestionsInteresting_Strongly disagree  QuestionsConfusing_Disagree  \\\n",
       "2                                           0                            1   \n",
       "14                                          0                            1   \n",
       "17                                          0                            1   \n",
       "18                                          0                            0   \n",
       "22                                          0                            0   \n",
       "...                                       ...                          ...   \n",
       "51371                                       0                            0   \n",
       "51378                                       0                            0   \n",
       "51382                                       0                            1   \n",
       "51387                                       0                            0   \n",
       "51390                                       0                            1   \n",
       "\n",
       "       QuestionsConfusing_Somewhat agree  QuestionsConfusing_Strongly agree  \\\n",
       "2                                      0                                  0   \n",
       "14                                     0                                  0   \n",
       "17                                     0                                  0   \n",
       "18                                     0                                  0   \n",
       "22                                     1                                  0   \n",
       "...                                  ...                                ...   \n",
       "51371                                  0                                  0   \n",
       "51378                                  0                                  0   \n",
       "51382                                  0                                  0   \n",
       "51387                                  0                                  0   \n",
       "51390                                  0                                  0   \n",
       "\n",
       "       QuestionsConfusing_Strongly disagree  InterestedAnswers_Disagree  \\\n",
       "2                                         0                           0   \n",
       "14                                        0                           0   \n",
       "17                                        0                           0   \n",
       "18                                        0                           0   \n",
       "22                                        0                           0   \n",
       "...                                     ...                         ...   \n",
       "51371                                     1                           0   \n",
       "51378                                     1                           0   \n",
       "51382                                     0                           0   \n",
       "51387                                     1                           0   \n",
       "51390                                     0                           0   \n",
       "\n",
       "       InterestedAnswers_Somewhat agree  InterestedAnswers_Strongly agree  \\\n",
       "2                                     0                                 0   \n",
       "14                                    0                                 0   \n",
       "17                                    0                                 0   \n",
       "18                                    0                                 0   \n",
       "22                                    0                                 0   \n",
       "...                                 ...                               ...   \n",
       "51371                                 0                                 0   \n",
       "51378                                 0                                 1   \n",
       "51382                                 1                                 0   \n",
       "51387                                 0                                 1   \n",
       "51390                                 0                                 1   \n",
       "\n",
       "       InterestedAnswers_Strongly disagree  \n",
       "2                                        0  \n",
       "14                                       0  \n",
       "17                                       0  \n",
       "18                                       0  \n",
       "22                                       0  \n",
       "...                                    ...  \n",
       "51371                                    0  \n",
       "51378                                    0  \n",
       "51382                                    0  \n",
       "51387                                    0  \n",
       "51390                                    0  \n",
       "\n",
       "[12891 rows x 21107 columns]"
      ]
     },
     "execution_count": 266,
     "metadata": {},
     "output_type": "execute_result"
    }
   ],
   "source": [
    "X"
   ]
  },
  {
   "cell_type": "code",
   "execution_count": 267,
   "metadata": {},
   "outputs": [
    {
     "data": {
      "text/plain": [
       "2        113750.000000\n",
       "14       100000.000000\n",
       "17       130000.000000\n",
       "18        82500.000000\n",
       "22       100764.000000\n",
       "             ...      \n",
       "51371     74193.548387\n",
       "51378    107526.881720\n",
       "51382     32258.064516\n",
       "51387     58000.000000\n",
       "51390     40000.000000\n",
       "Name: Salary, Length: 12891, dtype: float64"
      ]
     },
     "execution_count": 267,
     "metadata": {},
     "output_type": "execute_result"
    }
   ],
   "source": [
    "y"
   ]
  },
  {
   "cell_type": "code",
   "execution_count": 268,
   "metadata": {},
   "outputs": [
    {
     "name": "stdout",
     "output_type": "stream",
     "text": [
      "The r-squared score for your model was -0.6045589968469434 on 3868 values.\n"
     ]
    }
   ],
   "source": [
    "#Split into train and test\n",
    "X_train, X_test, y_train, y_test = train_test_split(X, y, test_size=.30, random_state=42)\n",
    "\n",
    "#Instantiate model\n",
    "lm_model = LinearRegression(normalize=True)\n",
    "\n",
    "#Fit\n",
    "lm_model.fit(X_train, y_train)\n",
    "\n",
    "#Predict and score the model\n",
    "y_test_preds = lm_model.predict(X_test)\n",
    "rsquared_score = r2_score(y_test, y_test_preds)\n",
    "\n",
    "#Rsquared and y_test\n",
    "length_y_test = len(y_test_preds)\n",
    "print(\"The r-squared score for your model was {} on {} values.\".format(rsquared_score, length_y_test))"
   ]
  },
  {
   "cell_type": "markdown",
   "metadata": {},
   "source": [
    "- If there are too many features in the model, r-squared decreases"
   ]
  },
  {
   "cell_type": "code",
   "execution_count": 270,
   "metadata": {},
   "outputs": [],
   "source": [
    "def coef_weights(coefficients, X_train):\n",
    "    '''\n",
    "    INPUT:\n",
    "    coefficients - the coefficients of the linear model \n",
    "    X_train - the training data, so the column names can be used\n",
    "    OUTPUT:\n",
    "    coefs_df - a dataframe holding the coefficient, estimate, and abs(estimate)\n",
    "    \n",
    "    Provides a dataframe that can be used to understand the most influential coefficients\n",
    "    in a linear model by providing the coefficient estimates along with the name of the \n",
    "    variable attached to the coefficient.\n",
    "    '''\n",
    "    coefs_df = pd.DataFrame()\n",
    "    coefs_df['est_int'] = X_train.columns\n",
    "    coefs_df['coefs'] = lm_model.coef_\n",
    "    coefs_df['abs_coefs'] = np.abs(lm_model.coef_)\n",
    "    coefs_df = coefs_df.sort_values('abs_coefs', ascending=False)\n",
    "    return coefs_df"
   ]
  },
  {
   "cell_type": "code",
   "execution_count": 271,
   "metadata": {},
   "outputs": [
    {
     "data": {
      "text/html": [
       "<div>\n",
       "<style scoped>\n",
       "    .dataframe tbody tr th:only-of-type {\n",
       "        vertical-align: middle;\n",
       "    }\n",
       "\n",
       "    .dataframe tbody tr th {\n",
       "        vertical-align: top;\n",
       "    }\n",
       "\n",
       "    .dataframe thead th {\n",
       "        text-align: right;\n",
       "    }\n",
       "</style>\n",
       "<table border=\"1\" class=\"dataframe\">\n",
       "  <thead>\n",
       "    <tr style=\"text-align: right;\">\n",
       "      <th></th>\n",
       "      <th>est_int</th>\n",
       "      <th>coefs</th>\n",
       "      <th>abs_coefs</th>\n",
       "    </tr>\n",
       "  </thead>\n",
       "  <tbody>\n",
       "    <tr>\n",
       "      <th>8858</th>\n",
       "      <td>HaveWorkedLanguage_Perl</td>\n",
       "      <td>-141495.243337</td>\n",
       "      <td>141495.243337</td>\n",
       "    </tr>\n",
       "    <tr>\n",
       "      <th>577</th>\n",
       "      <td>DeveloperType_Systems administrator; Quality a...</td>\n",
       "      <td>135826.542487</td>\n",
       "      <td>135826.542487</td>\n",
       "    </tr>\n",
       "    <tr>\n",
       "      <th>4251</th>\n",
       "      <td>SelfTaughtTypes_Official documentation; Stack ...</td>\n",
       "      <td>131081.833059</td>\n",
       "      <td>131081.833059</td>\n",
       "    </tr>\n",
       "    <tr>\n",
       "      <th>18236</th>\n",
       "      <td>IDE_Notepad++; Sublime Text; PyCharm; Visual S...</td>\n",
       "      <td>130549.833507</td>\n",
       "      <td>130549.833507</td>\n",
       "    </tr>\n",
       "    <tr>\n",
       "      <th>8565</th>\n",
       "      <td>HaveWorkedLanguage_Java; Perl; Python; Visual ...</td>\n",
       "      <td>-128110.658812</td>\n",
       "      <td>128110.658812</td>\n",
       "    </tr>\n",
       "    <tr>\n",
       "      <th>8082</th>\n",
       "      <td>HaveWorkedLanguage_F#; Haskell</td>\n",
       "      <td>127290.511448</td>\n",
       "      <td>127290.511448</td>\n",
       "    </tr>\n",
       "    <tr>\n",
       "      <th>6859</th>\n",
       "      <td>HaveWorkedLanguage_C++; Java; JavaScript; Pyth...</td>\n",
       "      <td>-124322.485261</td>\n",
       "      <td>124322.485261</td>\n",
       "    </tr>\n",
       "    <tr>\n",
       "      <th>11453</th>\n",
       "      <td>WantWorkLanguage_C; Haskell; Python; Rust</td>\n",
       "      <td>-123940.570135</td>\n",
       "      <td>123940.570135</td>\n",
       "    </tr>\n",
       "    <tr>\n",
       "      <th>2162</th>\n",
       "      <td>ImportantBenefits_Retirement; Annual bonus; Pr...</td>\n",
       "      <td>121090.125758</td>\n",
       "      <td>121090.125758</td>\n",
       "    </tr>\n",
       "    <tr>\n",
       "      <th>11713</th>\n",
       "      <td>WantWorkLanguage_Clojure; Java; JavaScript; Ruby</td>\n",
       "      <td>-115500.138836</td>\n",
       "      <td>115500.138836</td>\n",
       "    </tr>\n",
       "    <tr>\n",
       "      <th>1486</th>\n",
       "      <td>ImportantBenefits_Annual bonus; Health benefit...</td>\n",
       "      <td>114003.480797</td>\n",
       "      <td>114003.480797</td>\n",
       "    </tr>\n",
       "    <tr>\n",
       "      <th>19329</th>\n",
       "      <td>Methodology_Waterfall; Agile; Lean; PRINCE2; S...</td>\n",
       "      <td>113603.322981</td>\n",
       "      <td>113603.322981</td>\n",
       "    </tr>\n",
       "    <tr>\n",
       "      <th>3144</th>\n",
       "      <td>ImportantBenefits_Vacation/days off; Equipment...</td>\n",
       "      <td>-112637.684763</td>\n",
       "      <td>112637.684763</td>\n",
       "    </tr>\n",
       "    <tr>\n",
       "      <th>10600</th>\n",
       "      <td>WantWorkLanguage_C++; Go; Groovy; Java; Ruby</td>\n",
       "      <td>109618.304893</td>\n",
       "      <td>109618.304893</td>\n",
       "    </tr>\n",
       "    <tr>\n",
       "      <th>18031</th>\n",
       "      <td>IDE_Notepad++; IPython / Jupyter; Komodo; Visu...</td>\n",
       "      <td>-108170.983187</td>\n",
       "      <td>108170.983187</td>\n",
       "    </tr>\n",
       "    <tr>\n",
       "      <th>7761</th>\n",
       "      <td>HaveWorkedLanguage_C; SQL</td>\n",
       "      <td>-107956.422787</td>\n",
       "      <td>107956.422787</td>\n",
       "    </tr>\n",
       "    <tr>\n",
       "      <th>19165</th>\n",
       "      <td>Methodology_Agile; Pair; Mob; Kanban; Domain-d...</td>\n",
       "      <td>-106765.064379</td>\n",
       "      <td>106765.064379</td>\n",
       "    </tr>\n",
       "    <tr>\n",
       "      <th>8065</th>\n",
       "      <td>HaveWorkedLanguage_Erlang</td>\n",
       "      <td>-105573.878325</td>\n",
       "      <td>105573.878325</td>\n",
       "    </tr>\n",
       "    <tr>\n",
       "      <th>20576</th>\n",
       "      <td>MetricAssess_Lines of code; Bugs found; Releas...</td>\n",
       "      <td>105377.251492</td>\n",
       "      <td>105377.251492</td>\n",
       "    </tr>\n",
       "    <tr>\n",
       "      <th>4677</th>\n",
       "      <td>SelfTaughtTypes_Textbook; Stack Overflow Q&amp;A; ...</td>\n",
       "      <td>-104550.419779</td>\n",
       "      <td>104550.419779</td>\n",
       "    </tr>\n",
       "  </tbody>\n",
       "</table>\n",
       "</div>"
      ],
      "text/plain": [
       "                                                 est_int          coefs  \\\n",
       "8858                             HaveWorkedLanguage_Perl -141495.243337   \n",
       "577    DeveloperType_Systems administrator; Quality a...  135826.542487   \n",
       "4251   SelfTaughtTypes_Official documentation; Stack ...  131081.833059   \n",
       "18236  IDE_Notepad++; Sublime Text; PyCharm; Visual S...  130549.833507   \n",
       "8565   HaveWorkedLanguage_Java; Perl; Python; Visual ... -128110.658812   \n",
       "8082                      HaveWorkedLanguage_F#; Haskell  127290.511448   \n",
       "6859   HaveWorkedLanguage_C++; Java; JavaScript; Pyth... -124322.485261   \n",
       "11453          WantWorkLanguage_C; Haskell; Python; Rust -123940.570135   \n",
       "2162   ImportantBenefits_Retirement; Annual bonus; Pr...  121090.125758   \n",
       "11713   WantWorkLanguage_Clojure; Java; JavaScript; Ruby -115500.138836   \n",
       "1486   ImportantBenefits_Annual bonus; Health benefit...  114003.480797   \n",
       "19329  Methodology_Waterfall; Agile; Lean; PRINCE2; S...  113603.322981   \n",
       "3144   ImportantBenefits_Vacation/days off; Equipment... -112637.684763   \n",
       "10600       WantWorkLanguage_C++; Go; Groovy; Java; Ruby  109618.304893   \n",
       "18031  IDE_Notepad++; IPython / Jupyter; Komodo; Visu... -108170.983187   \n",
       "7761                           HaveWorkedLanguage_C; SQL -107956.422787   \n",
       "19165  Methodology_Agile; Pair; Mob; Kanban; Domain-d... -106765.064379   \n",
       "8065                           HaveWorkedLanguage_Erlang -105573.878325   \n",
       "20576  MetricAssess_Lines of code; Bugs found; Releas...  105377.251492   \n",
       "4677   SelfTaughtTypes_Textbook; Stack Overflow Q&A; ... -104550.419779   \n",
       "\n",
       "           abs_coefs  \n",
       "8858   141495.243337  \n",
       "577    135826.542487  \n",
       "4251   131081.833059  \n",
       "18236  130549.833507  \n",
       "8565   128110.658812  \n",
       "8082   127290.511448  \n",
       "6859   124322.485261  \n",
       "11453  123940.570135  \n",
       "2162   121090.125758  \n",
       "11713  115500.138836  \n",
       "1486   114003.480797  \n",
       "19329  113603.322981  \n",
       "3144   112637.684763  \n",
       "10600  109618.304893  \n",
       "18031  108170.983187  \n",
       "7761   107956.422787  \n",
       "19165  106765.064379  \n",
       "8065   105573.878325  \n",
       "20576  105377.251492  \n",
       "4677   104550.419779  "
      ]
     },
     "execution_count": 271,
     "metadata": {},
     "output_type": "execute_result"
    }
   ],
   "source": [
    "#To check which features matter in the model, check the weight of the coeficients\n",
    "#Because the features are normalized we can look at how large the coeficient is\n",
    "coef_df = coef_weights(lm_model.coef_, X_train)\n",
    "coef_df.head(20)"
   ]
  }
 ],
 "metadata": {
  "kernelspec": {
   "display_name": "Python 3",
   "language": "python",
   "name": "python3"
  },
  "language_info": {
   "codemirror_mode": {
    "name": "ipython",
    "version": 3
   },
   "file_extension": ".py",
   "mimetype": "text/x-python",
   "name": "python",
   "nbconvert_exporter": "python",
   "pygments_lexer": "ipython3",
   "version": "3.8.3"
  }
 },
 "nbformat": 4,
 "nbformat_minor": 4
}
