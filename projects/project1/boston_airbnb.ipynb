{
 "cells": [
  {
   "cell_type": "markdown",
   "metadata": {},
   "source": [
    "# Project 1 - Write A Data Science Blog\n",
    "\n",
    "## Key steps for the project\n",
    "\n",
    "**1) Pick a Dataset**\n",
    "\n",
    "* [Boston Airbnb Open Data](https://www.kaggle.com/airbnb/boston)\n",
    "\n",
    "**2) Pose at least three questions related to business or real-world applications of how the data could be used.**\n",
    "\n",
    "* [Q1)](#q1) Is there a big difference of price between the available and rented airbnb?\n",
    "    * **Ans.:** There is no price information for the rented airbnb, just for the ones available.\n",
    "* [Q2)](#q2) Which months have more rented airbnb? And the months that have less rented properties?\n",
    "    * **Ans.:** The busiest months are Jan/Feb and Nov/Dec. When we evaluate the rented airbnb it is also possible to identify a peak in Sep/Oct. Curiously, there are fewer airbnb available in Sep/Oct.\n",
    "* [Q3)](#q3) The price of the aribnb vary according to the month?\n",
    "    * **Ans.:** Yes, and it is possible to observe there is an increase in the prices in April and after May it keeps increasing until August, however this data is not enough to predict if the same will happen in the next years because we just have data of some months from 2016 and 2017.\n",
    "* [Q4)](#q4) Which factors impact in the airbnb prices?\n",
    "    * **Ans.:** The neighborhood, the property type, and the room type impact the most in pricing.\n",
    "\n",
    "**3) Create a Jupyter Notebook**\n",
    "  \n",
    "    3.1) Prepare data\n",
    "    3.2) Analyze, model, and visualize\n",
    "    \n",
    "* This notebook contains the steps specified above detailed in the [table of content](#table).\n",
    "\n",
    "**4) Communicate your business insights**\n",
    "\n",
    "    4.1) Create a GitHub repository\n",
    "    4.2) Create a blog post\n",
    "    \n",
    "<hr />\n",
    "    \n",
    "## Table of content <a class=\"anchor\" id=\"table\"></a>\n",
    "* [1) Import libraries](#import-lib)\n",
    "* [2) Read dataset](#read-dataset)\n",
    "* [3) Exploratory data analysis](#eda)\n",
    "    * [3.1) Listings](#listings)\n",
    "    * [3.2) Calendar](#calendar)"
   ]
  },
  {
   "cell_type": "markdown",
   "metadata": {},
   "source": [
    "## 1) Import libraries <a class=\"anchor\" id=\"import-lib\"></a>"
   ]
  },
  {
   "cell_type": "code",
   "execution_count": 1,
   "metadata": {},
   "outputs": [],
   "source": [
    "import numpy as np\n",
    "import pandas as pd\n",
    "import collections #used to count frequency of elements in a list\n",
    "\n",
    "#displays the output inline\n",
    "%matplotlib inline\n",
    "\n",
    "#visualization libraries\n",
    "import matplotlib.pyplot as plt\n",
    "import seaborn as sns\n",
    "\n",
    "#modeling\n",
    "from sklearn.linear_model import LinearRegression\n",
    "from sklearn.model_selection import train_test_split\n",
    "from sklearn.metrics import r2_score, mean_squared_error"
   ]
  },
  {
   "cell_type": "markdown",
   "metadata": {},
   "source": [
    "## 2) Read the dataset <a class=\"anchor\" id=\"read-dataset\"></a>"
   ]
  },
  {
   "cell_type": "markdown",
   "metadata": {},
   "source": [
    "This dataset consists of 3 tables:\n",
    "- **Calendar:** including listing id and the price and availability for that day\n",
    "- **Listings:** including full descriptions and average review score\n",
    "- **Reviews:** including unique id for each reviewer and detailed comments\n",
    "\n",
    "The Reviews table consists of text data. A sentiment analysis could be interesting to evaluate the comments of reviers. However, **we are going to focus only on table *Calendar* and *Listings*** to answer the business questions."
   ]
  },
  {
   "cell_type": "code",
   "execution_count": 2,
   "metadata": {},
   "outputs": [
    {
     "data": {
      "text/html": [
       "<div>\n",
       "<style scoped>\n",
       "    .dataframe tbody tr th:only-of-type {\n",
       "        vertical-align: middle;\n",
       "    }\n",
       "\n",
       "    .dataframe tbody tr th {\n",
       "        vertical-align: top;\n",
       "    }\n",
       "\n",
       "    .dataframe thead th {\n",
       "        text-align: right;\n",
       "    }\n",
       "</style>\n",
       "<table border=\"1\" class=\"dataframe\">\n",
       "  <thead>\n",
       "    <tr style=\"text-align: right;\">\n",
       "      <th></th>\n",
       "      <th>listing_id</th>\n",
       "      <th>date</th>\n",
       "      <th>available</th>\n",
       "      <th>price</th>\n",
       "    </tr>\n",
       "  </thead>\n",
       "  <tbody>\n",
       "    <tr>\n",
       "      <th>0</th>\n",
       "      <td>12147973</td>\n",
       "      <td>2017-09-05</td>\n",
       "      <td>f</td>\n",
       "      <td>NaN</td>\n",
       "    </tr>\n",
       "    <tr>\n",
       "      <th>1</th>\n",
       "      <td>12147973</td>\n",
       "      <td>2017-09-04</td>\n",
       "      <td>f</td>\n",
       "      <td>NaN</td>\n",
       "    </tr>\n",
       "    <tr>\n",
       "      <th>2</th>\n",
       "      <td>12147973</td>\n",
       "      <td>2017-09-03</td>\n",
       "      <td>f</td>\n",
       "      <td>NaN</td>\n",
       "    </tr>\n",
       "    <tr>\n",
       "      <th>3</th>\n",
       "      <td>12147973</td>\n",
       "      <td>2017-09-02</td>\n",
       "      <td>f</td>\n",
       "      <td>NaN</td>\n",
       "    </tr>\n",
       "    <tr>\n",
       "      <th>4</th>\n",
       "      <td>12147973</td>\n",
       "      <td>2017-09-01</td>\n",
       "      <td>f</td>\n",
       "      <td>NaN</td>\n",
       "    </tr>\n",
       "    <tr>\n",
       "      <th>...</th>\n",
       "      <td>...</td>\n",
       "      <td>...</td>\n",
       "      <td>...</td>\n",
       "      <td>...</td>\n",
       "    </tr>\n",
       "    <tr>\n",
       "      <th>1308885</th>\n",
       "      <td>14504422</td>\n",
       "      <td>2016-09-10</td>\n",
       "      <td>f</td>\n",
       "      <td>NaN</td>\n",
       "    </tr>\n",
       "    <tr>\n",
       "      <th>1308886</th>\n",
       "      <td>14504422</td>\n",
       "      <td>2016-09-09</td>\n",
       "      <td>f</td>\n",
       "      <td>NaN</td>\n",
       "    </tr>\n",
       "    <tr>\n",
       "      <th>1308887</th>\n",
       "      <td>14504422</td>\n",
       "      <td>2016-09-08</td>\n",
       "      <td>f</td>\n",
       "      <td>NaN</td>\n",
       "    </tr>\n",
       "    <tr>\n",
       "      <th>1308888</th>\n",
       "      <td>14504422</td>\n",
       "      <td>2016-09-07</td>\n",
       "      <td>f</td>\n",
       "      <td>NaN</td>\n",
       "    </tr>\n",
       "    <tr>\n",
       "      <th>1308889</th>\n",
       "      <td>14504422</td>\n",
       "      <td>2016-09-06</td>\n",
       "      <td>f</td>\n",
       "      <td>NaN</td>\n",
       "    </tr>\n",
       "  </tbody>\n",
       "</table>\n",
       "<p>1308890 rows × 4 columns</p>\n",
       "</div>"
      ],
      "text/plain": [
       "         listing_id        date available price\n",
       "0          12147973  2017-09-05         f   NaN\n",
       "1          12147973  2017-09-04         f   NaN\n",
       "2          12147973  2017-09-03         f   NaN\n",
       "3          12147973  2017-09-02         f   NaN\n",
       "4          12147973  2017-09-01         f   NaN\n",
       "...             ...         ...       ...   ...\n",
       "1308885    14504422  2016-09-10         f   NaN\n",
       "1308886    14504422  2016-09-09         f   NaN\n",
       "1308887    14504422  2016-09-08         f   NaN\n",
       "1308888    14504422  2016-09-07         f   NaN\n",
       "1308889    14504422  2016-09-06         f   NaN\n",
       "\n",
       "[1308890 rows x 4 columns]"
      ]
     },
     "execution_count": 2,
     "metadata": {},
     "output_type": "execute_result"
    }
   ],
   "source": [
    "#Calendar, including listing id and the price and availability for that day\n",
    "df_calendar = pd.read_csv(\"./dataset/calendar.csv\")\n",
    "df_calendar"
   ]
  },
  {
   "cell_type": "code",
   "execution_count": 3,
   "metadata": {
    "scrolled": true
   },
   "outputs": [
    {
     "data": {
      "text/html": [
       "<div>\n",
       "<style scoped>\n",
       "    .dataframe tbody tr th:only-of-type {\n",
       "        vertical-align: middle;\n",
       "    }\n",
       "\n",
       "    .dataframe tbody tr th {\n",
       "        vertical-align: top;\n",
       "    }\n",
       "\n",
       "    .dataframe thead th {\n",
       "        text-align: right;\n",
       "    }\n",
       "</style>\n",
       "<table border=\"1\" class=\"dataframe\">\n",
       "  <thead>\n",
       "    <tr style=\"text-align: right;\">\n",
       "      <th></th>\n",
       "      <th>id</th>\n",
       "      <th>listing_url</th>\n",
       "      <th>scrape_id</th>\n",
       "      <th>last_scraped</th>\n",
       "      <th>name</th>\n",
       "      <th>summary</th>\n",
       "      <th>space</th>\n",
       "      <th>description</th>\n",
       "      <th>experiences_offered</th>\n",
       "      <th>neighborhood_overview</th>\n",
       "      <th>...</th>\n",
       "      <th>review_scores_value</th>\n",
       "      <th>requires_license</th>\n",
       "      <th>license</th>\n",
       "      <th>jurisdiction_names</th>\n",
       "      <th>instant_bookable</th>\n",
       "      <th>cancellation_policy</th>\n",
       "      <th>require_guest_profile_picture</th>\n",
       "      <th>require_guest_phone_verification</th>\n",
       "      <th>calculated_host_listings_count</th>\n",
       "      <th>reviews_per_month</th>\n",
       "    </tr>\n",
       "  </thead>\n",
       "  <tbody>\n",
       "    <tr>\n",
       "      <th>0</th>\n",
       "      <td>12147973</td>\n",
       "      <td>https://www.airbnb.com/rooms/12147973</td>\n",
       "      <td>20160906204935</td>\n",
       "      <td>2016-09-07</td>\n",
       "      <td>Sunny Bungalow in the City</td>\n",
       "      <td>Cozy, sunny, family home.  Master bedroom high...</td>\n",
       "      <td>The house has an open and cozy feel at the sam...</td>\n",
       "      <td>Cozy, sunny, family home.  Master bedroom high...</td>\n",
       "      <td>none</td>\n",
       "      <td>Roslindale is quiet, convenient and friendly. ...</td>\n",
       "      <td>...</td>\n",
       "      <td>NaN</td>\n",
       "      <td>f</td>\n",
       "      <td>NaN</td>\n",
       "      <td>NaN</td>\n",
       "      <td>f</td>\n",
       "      <td>moderate</td>\n",
       "      <td>f</td>\n",
       "      <td>f</td>\n",
       "      <td>1</td>\n",
       "      <td>NaN</td>\n",
       "    </tr>\n",
       "    <tr>\n",
       "      <th>1</th>\n",
       "      <td>3075044</td>\n",
       "      <td>https://www.airbnb.com/rooms/3075044</td>\n",
       "      <td>20160906204935</td>\n",
       "      <td>2016-09-07</td>\n",
       "      <td>Charming room in pet friendly apt</td>\n",
       "      <td>Charming and quiet room in a second floor 1910...</td>\n",
       "      <td>Small but cozy and quite room with a full size...</td>\n",
       "      <td>Charming and quiet room in a second floor 1910...</td>\n",
       "      <td>none</td>\n",
       "      <td>The room is in Roslindale, a diverse and prima...</td>\n",
       "      <td>...</td>\n",
       "      <td>9.0</td>\n",
       "      <td>f</td>\n",
       "      <td>NaN</td>\n",
       "      <td>NaN</td>\n",
       "      <td>t</td>\n",
       "      <td>moderate</td>\n",
       "      <td>f</td>\n",
       "      <td>f</td>\n",
       "      <td>1</td>\n",
       "      <td>1.30</td>\n",
       "    </tr>\n",
       "    <tr>\n",
       "      <th>2</th>\n",
       "      <td>6976</td>\n",
       "      <td>https://www.airbnb.com/rooms/6976</td>\n",
       "      <td>20160906204935</td>\n",
       "      <td>2016-09-07</td>\n",
       "      <td>Mexican Folk Art Haven in Boston</td>\n",
       "      <td>Come stay with a friendly, middle-aged guy in ...</td>\n",
       "      <td>Come stay with a friendly, middle-aged guy in ...</td>\n",
       "      <td>Come stay with a friendly, middle-aged guy in ...</td>\n",
       "      <td>none</td>\n",
       "      <td>The LOCATION: Roslindale is a safe and diverse...</td>\n",
       "      <td>...</td>\n",
       "      <td>10.0</td>\n",
       "      <td>f</td>\n",
       "      <td>NaN</td>\n",
       "      <td>NaN</td>\n",
       "      <td>f</td>\n",
       "      <td>moderate</td>\n",
       "      <td>t</td>\n",
       "      <td>f</td>\n",
       "      <td>1</td>\n",
       "      <td>0.47</td>\n",
       "    </tr>\n",
       "    <tr>\n",
       "      <th>3</th>\n",
       "      <td>1436513</td>\n",
       "      <td>https://www.airbnb.com/rooms/1436513</td>\n",
       "      <td>20160906204935</td>\n",
       "      <td>2016-09-07</td>\n",
       "      <td>Spacious Sunny Bedroom Suite in Historic Home</td>\n",
       "      <td>Come experience the comforts of home away from...</td>\n",
       "      <td>Most places you find in Boston are small howev...</td>\n",
       "      <td>Come experience the comforts of home away from...</td>\n",
       "      <td>none</td>\n",
       "      <td>Roslindale is a lovely little neighborhood loc...</td>\n",
       "      <td>...</td>\n",
       "      <td>10.0</td>\n",
       "      <td>f</td>\n",
       "      <td>NaN</td>\n",
       "      <td>NaN</td>\n",
       "      <td>f</td>\n",
       "      <td>moderate</td>\n",
       "      <td>f</td>\n",
       "      <td>f</td>\n",
       "      <td>1</td>\n",
       "      <td>1.00</td>\n",
       "    </tr>\n",
       "    <tr>\n",
       "      <th>4</th>\n",
       "      <td>7651065</td>\n",
       "      <td>https://www.airbnb.com/rooms/7651065</td>\n",
       "      <td>20160906204935</td>\n",
       "      <td>2016-09-07</td>\n",
       "      <td>Come Home to Boston</td>\n",
       "      <td>My comfy, clean and relaxing home is one block...</td>\n",
       "      <td>Clean, attractive, private room, one block fro...</td>\n",
       "      <td>My comfy, clean and relaxing home is one block...</td>\n",
       "      <td>none</td>\n",
       "      <td>I love the proximity to downtown, the neighbor...</td>\n",
       "      <td>...</td>\n",
       "      <td>10.0</td>\n",
       "      <td>f</td>\n",
       "      <td>NaN</td>\n",
       "      <td>NaN</td>\n",
       "      <td>f</td>\n",
       "      <td>flexible</td>\n",
       "      <td>f</td>\n",
       "      <td>f</td>\n",
       "      <td>1</td>\n",
       "      <td>2.25</td>\n",
       "    </tr>\n",
       "    <tr>\n",
       "      <th>...</th>\n",
       "      <td>...</td>\n",
       "      <td>...</td>\n",
       "      <td>...</td>\n",
       "      <td>...</td>\n",
       "      <td>...</td>\n",
       "      <td>...</td>\n",
       "      <td>...</td>\n",
       "      <td>...</td>\n",
       "      <td>...</td>\n",
       "      <td>...</td>\n",
       "      <td>...</td>\n",
       "      <td>...</td>\n",
       "      <td>...</td>\n",
       "      <td>...</td>\n",
       "      <td>...</td>\n",
       "      <td>...</td>\n",
       "      <td>...</td>\n",
       "      <td>...</td>\n",
       "      <td>...</td>\n",
       "      <td>...</td>\n",
       "      <td>...</td>\n",
       "    </tr>\n",
       "    <tr>\n",
       "      <th>3580</th>\n",
       "      <td>8373729</td>\n",
       "      <td>https://www.airbnb.com/rooms/8373729</td>\n",
       "      <td>20160906204935</td>\n",
       "      <td>2016-09-07</td>\n",
       "      <td>Big cozy room near T</td>\n",
       "      <td>5 min walking to Orange Line subway with 2 sto...</td>\n",
       "      <td>NaN</td>\n",
       "      <td>5 min walking to Orange Line subway with 2 sto...</td>\n",
       "      <td>none</td>\n",
       "      <td>NaN</td>\n",
       "      <td>...</td>\n",
       "      <td>9.0</td>\n",
       "      <td>f</td>\n",
       "      <td>NaN</td>\n",
       "      <td>NaN</td>\n",
       "      <td>t</td>\n",
       "      <td>strict</td>\n",
       "      <td>f</td>\n",
       "      <td>f</td>\n",
       "      <td>8</td>\n",
       "      <td>0.34</td>\n",
       "    </tr>\n",
       "    <tr>\n",
       "      <th>3581</th>\n",
       "      <td>14844274</td>\n",
       "      <td>https://www.airbnb.com/rooms/14844274</td>\n",
       "      <td>20160906204935</td>\n",
       "      <td>2016-09-07</td>\n",
       "      <td>BU Apartment DexterPark Bright room</td>\n",
       "      <td>Most popular apartment in BU, best located in ...</td>\n",
       "      <td>Best location in BU</td>\n",
       "      <td>Most popular apartment in BU, best located in ...</td>\n",
       "      <td>none</td>\n",
       "      <td>NaN</td>\n",
       "      <td>...</td>\n",
       "      <td>NaN</td>\n",
       "      <td>f</td>\n",
       "      <td>NaN</td>\n",
       "      <td>NaN</td>\n",
       "      <td>f</td>\n",
       "      <td>strict</td>\n",
       "      <td>f</td>\n",
       "      <td>f</td>\n",
       "      <td>2</td>\n",
       "      <td>NaN</td>\n",
       "    </tr>\n",
       "    <tr>\n",
       "      <th>3582</th>\n",
       "      <td>14585486</td>\n",
       "      <td>https://www.airbnb.com/rooms/14585486</td>\n",
       "      <td>20160906204935</td>\n",
       "      <td>2016-09-07</td>\n",
       "      <td>Gorgeous funky apartment</td>\n",
       "      <td>Funky little apartment close to public transpo...</td>\n",
       "      <td>Modern and relaxed space with many facilities ...</td>\n",
       "      <td>Funky little apartment close to public transpo...</td>\n",
       "      <td>none</td>\n",
       "      <td>Cambridge is a short walk into Boston, and set...</td>\n",
       "      <td>...</td>\n",
       "      <td>NaN</td>\n",
       "      <td>f</td>\n",
       "      <td>NaN</td>\n",
       "      <td>NaN</td>\n",
       "      <td>f</td>\n",
       "      <td>flexible</td>\n",
       "      <td>f</td>\n",
       "      <td>f</td>\n",
       "      <td>1</td>\n",
       "      <td>NaN</td>\n",
       "    </tr>\n",
       "    <tr>\n",
       "      <th>3583</th>\n",
       "      <td>14603878</td>\n",
       "      <td>https://www.airbnb.com/rooms/14603878</td>\n",
       "      <td>20160906204935</td>\n",
       "      <td>2016-09-07</td>\n",
       "      <td>Great Location; Train and Restaurants</td>\n",
       "      <td>My place is close to Taco Loco Mexican Grill, ...</td>\n",
       "      <td>NaN</td>\n",
       "      <td>My place is close to Taco Loco Mexican Grill, ...</td>\n",
       "      <td>none</td>\n",
       "      <td>NaN</td>\n",
       "      <td>...</td>\n",
       "      <td>7.0</td>\n",
       "      <td>f</td>\n",
       "      <td>NaN</td>\n",
       "      <td>NaN</td>\n",
       "      <td>f</td>\n",
       "      <td>strict</td>\n",
       "      <td>f</td>\n",
       "      <td>f</td>\n",
       "      <td>1</td>\n",
       "      <td>2.00</td>\n",
       "    </tr>\n",
       "    <tr>\n",
       "      <th>3584</th>\n",
       "      <td>14504422</td>\n",
       "      <td>https://www.airbnb.com/rooms/14504422</td>\n",
       "      <td>20160906204935</td>\n",
       "      <td>2016-09-07</td>\n",
       "      <td>(K1) Private Room near Harvard/MIT</td>\n",
       "      <td>My place is close to My home is a warm and fri...</td>\n",
       "      <td>To ensure a smooth check in: 1. You MUST have ...</td>\n",
       "      <td>My place is close to My home is a warm and fri...</td>\n",
       "      <td>none</td>\n",
       "      <td>NaN</td>\n",
       "      <td>...</td>\n",
       "      <td>NaN</td>\n",
       "      <td>f</td>\n",
       "      <td>NaN</td>\n",
       "      <td>NaN</td>\n",
       "      <td>t</td>\n",
       "      <td>flexible</td>\n",
       "      <td>f</td>\n",
       "      <td>f</td>\n",
       "      <td>3</td>\n",
       "      <td>NaN</td>\n",
       "    </tr>\n",
       "  </tbody>\n",
       "</table>\n",
       "<p>3585 rows × 95 columns</p>\n",
       "</div>"
      ],
      "text/plain": [
       "            id                            listing_url       scrape_id  \\\n",
       "0     12147973  https://www.airbnb.com/rooms/12147973  20160906204935   \n",
       "1      3075044   https://www.airbnb.com/rooms/3075044  20160906204935   \n",
       "2         6976      https://www.airbnb.com/rooms/6976  20160906204935   \n",
       "3      1436513   https://www.airbnb.com/rooms/1436513  20160906204935   \n",
       "4      7651065   https://www.airbnb.com/rooms/7651065  20160906204935   \n",
       "...        ...                                    ...             ...   \n",
       "3580   8373729   https://www.airbnb.com/rooms/8373729  20160906204935   \n",
       "3581  14844274  https://www.airbnb.com/rooms/14844274  20160906204935   \n",
       "3582  14585486  https://www.airbnb.com/rooms/14585486  20160906204935   \n",
       "3583  14603878  https://www.airbnb.com/rooms/14603878  20160906204935   \n",
       "3584  14504422  https://www.airbnb.com/rooms/14504422  20160906204935   \n",
       "\n",
       "     last_scraped                                           name  \\\n",
       "0      2016-09-07                     Sunny Bungalow in the City   \n",
       "1      2016-09-07              Charming room in pet friendly apt   \n",
       "2      2016-09-07               Mexican Folk Art Haven in Boston   \n",
       "3      2016-09-07  Spacious Sunny Bedroom Suite in Historic Home   \n",
       "4      2016-09-07                            Come Home to Boston   \n",
       "...           ...                                            ...   \n",
       "3580   2016-09-07                           Big cozy room near T   \n",
       "3581   2016-09-07            BU Apartment DexterPark Bright room   \n",
       "3582   2016-09-07                       Gorgeous funky apartment   \n",
       "3583   2016-09-07          Great Location; Train and Restaurants   \n",
       "3584   2016-09-07             (K1) Private Room near Harvard/MIT   \n",
       "\n",
       "                                                summary  \\\n",
       "0     Cozy, sunny, family home.  Master bedroom high...   \n",
       "1     Charming and quiet room in a second floor 1910...   \n",
       "2     Come stay with a friendly, middle-aged guy in ...   \n",
       "3     Come experience the comforts of home away from...   \n",
       "4     My comfy, clean and relaxing home is one block...   \n",
       "...                                                 ...   \n",
       "3580  5 min walking to Orange Line subway with 2 sto...   \n",
       "3581  Most popular apartment in BU, best located in ...   \n",
       "3582  Funky little apartment close to public transpo...   \n",
       "3583  My place is close to Taco Loco Mexican Grill, ...   \n",
       "3584  My place is close to My home is a warm and fri...   \n",
       "\n",
       "                                                  space  \\\n",
       "0     The house has an open and cozy feel at the sam...   \n",
       "1     Small but cozy and quite room with a full size...   \n",
       "2     Come stay with a friendly, middle-aged guy in ...   \n",
       "3     Most places you find in Boston are small howev...   \n",
       "4     Clean, attractive, private room, one block fro...   \n",
       "...                                                 ...   \n",
       "3580                                                NaN   \n",
       "3581                                Best location in BU   \n",
       "3582  Modern and relaxed space with many facilities ...   \n",
       "3583                                                NaN   \n",
       "3584  To ensure a smooth check in: 1. You MUST have ...   \n",
       "\n",
       "                                            description experiences_offered  \\\n",
       "0     Cozy, sunny, family home.  Master bedroom high...                none   \n",
       "1     Charming and quiet room in a second floor 1910...                none   \n",
       "2     Come stay with a friendly, middle-aged guy in ...                none   \n",
       "3     Come experience the comforts of home away from...                none   \n",
       "4     My comfy, clean and relaxing home is one block...                none   \n",
       "...                                                 ...                 ...   \n",
       "3580  5 min walking to Orange Line subway with 2 sto...                none   \n",
       "3581  Most popular apartment in BU, best located in ...                none   \n",
       "3582  Funky little apartment close to public transpo...                none   \n",
       "3583  My place is close to Taco Loco Mexican Grill, ...                none   \n",
       "3584  My place is close to My home is a warm and fri...                none   \n",
       "\n",
       "                                  neighborhood_overview  ...  \\\n",
       "0     Roslindale is quiet, convenient and friendly. ...  ...   \n",
       "1     The room is in Roslindale, a diverse and prima...  ...   \n",
       "2     The LOCATION: Roslindale is a safe and diverse...  ...   \n",
       "3     Roslindale is a lovely little neighborhood loc...  ...   \n",
       "4     I love the proximity to downtown, the neighbor...  ...   \n",
       "...                                                 ...  ...   \n",
       "3580                                                NaN  ...   \n",
       "3581                                                NaN  ...   \n",
       "3582  Cambridge is a short walk into Boston, and set...  ...   \n",
       "3583                                                NaN  ...   \n",
       "3584                                                NaN  ...   \n",
       "\n",
       "     review_scores_value requires_license license jurisdiction_names  \\\n",
       "0                    NaN                f     NaN                NaN   \n",
       "1                    9.0                f     NaN                NaN   \n",
       "2                   10.0                f     NaN                NaN   \n",
       "3                   10.0                f     NaN                NaN   \n",
       "4                   10.0                f     NaN                NaN   \n",
       "...                  ...              ...     ...                ...   \n",
       "3580                 9.0                f     NaN                NaN   \n",
       "3581                 NaN                f     NaN                NaN   \n",
       "3582                 NaN                f     NaN                NaN   \n",
       "3583                 7.0                f     NaN                NaN   \n",
       "3584                 NaN                f     NaN                NaN   \n",
       "\n",
       "     instant_bookable cancellation_policy require_guest_profile_picture  \\\n",
       "0                   f            moderate                             f   \n",
       "1                   t            moderate                             f   \n",
       "2                   f            moderate                             t   \n",
       "3                   f            moderate                             f   \n",
       "4                   f            flexible                             f   \n",
       "...               ...                 ...                           ...   \n",
       "3580                t              strict                             f   \n",
       "3581                f              strict                             f   \n",
       "3582                f            flexible                             f   \n",
       "3583                f              strict                             f   \n",
       "3584                t            flexible                             f   \n",
       "\n",
       "     require_guest_phone_verification calculated_host_listings_count  \\\n",
       "0                                   f                              1   \n",
       "1                                   f                              1   \n",
       "2                                   f                              1   \n",
       "3                                   f                              1   \n",
       "4                                   f                              1   \n",
       "...                               ...                            ...   \n",
       "3580                                f                              8   \n",
       "3581                                f                              2   \n",
       "3582                                f                              1   \n",
       "3583                                f                              1   \n",
       "3584                                f                              3   \n",
       "\n",
       "      reviews_per_month  \n",
       "0                   NaN  \n",
       "1                  1.30  \n",
       "2                  0.47  \n",
       "3                  1.00  \n",
       "4                  2.25  \n",
       "...                 ...  \n",
       "3580               0.34  \n",
       "3581                NaN  \n",
       "3582                NaN  \n",
       "3583               2.00  \n",
       "3584                NaN  \n",
       "\n",
       "[3585 rows x 95 columns]"
      ]
     },
     "execution_count": 3,
     "metadata": {},
     "output_type": "execute_result"
    }
   ],
   "source": [
    "#Listings, including full descriptions and average review score\n",
    "df_listings = pd.read_csv(\"./dataset/listings.csv\")\n",
    "df_listings"
   ]
  },
  {
   "cell_type": "code",
   "execution_count": 4,
   "metadata": {},
   "outputs": [
    {
     "name": "stdout",
     "output_type": "stream",
     "text": [
      "df_listings.shape =  (3585, 95)\n",
      "df_calendar.shape =  (1308890, 4)\n",
      "df_join.shape =  (1308890, 99)\n"
     ]
    }
   ],
   "source": [
    "print(\"df_listings.shape = \",df_listings.shape)\n",
    "print(\"df_calendar.shape = \",df_calendar.shape)\n",
    "df_join = pd.merge(df_listings, df_calendar, left_on=\"id\", right_on = \"listing_id\")\n",
    "print(\"df_join.shape = \",df_join.shape)"
   ]
  },
  {
   "cell_type": "code",
   "execution_count": 5,
   "metadata": {},
   "outputs": [
    {
     "data": {
      "text/html": [
       "<div>\n",
       "<style scoped>\n",
       "    .dataframe tbody tr th:only-of-type {\n",
       "        vertical-align: middle;\n",
       "    }\n",
       "\n",
       "    .dataframe tbody tr th {\n",
       "        vertical-align: top;\n",
       "    }\n",
       "\n",
       "    .dataframe thead th {\n",
       "        text-align: right;\n",
       "    }\n",
       "</style>\n",
       "<table border=\"1\" class=\"dataframe\">\n",
       "  <thead>\n",
       "    <tr style=\"text-align: right;\">\n",
       "      <th></th>\n",
       "      <th>price_x</th>\n",
       "      <th>price_y</th>\n",
       "    </tr>\n",
       "  </thead>\n",
       "  <tbody>\n",
       "    <tr>\n",
       "      <th>365</th>\n",
       "      <td>$65.00</td>\n",
       "      <td>$65.00</td>\n",
       "    </tr>\n",
       "    <tr>\n",
       "      <th>366</th>\n",
       "      <td>$65.00</td>\n",
       "      <td>$65.00</td>\n",
       "    </tr>\n",
       "    <tr>\n",
       "      <th>367</th>\n",
       "      <td>$65.00</td>\n",
       "      <td>$65.00</td>\n",
       "    </tr>\n",
       "    <tr>\n",
       "      <th>368</th>\n",
       "      <td>$65.00</td>\n",
       "      <td>$75.00</td>\n",
       "    </tr>\n",
       "    <tr>\n",
       "      <th>369</th>\n",
       "      <td>$65.00</td>\n",
       "      <td>$75.00</td>\n",
       "    </tr>\n",
       "    <tr>\n",
       "      <th>...</th>\n",
       "      <td>...</td>\n",
       "      <td>...</td>\n",
       "    </tr>\n",
       "    <tr>\n",
       "      <th>1308875</th>\n",
       "      <td>$65.00</td>\n",
       "      <td>$62.00</td>\n",
       "    </tr>\n",
       "    <tr>\n",
       "      <th>1308876</th>\n",
       "      <td>$65.00</td>\n",
       "      <td>$62.00</td>\n",
       "    </tr>\n",
       "    <tr>\n",
       "      <th>1308877</th>\n",
       "      <td>$65.00</td>\n",
       "      <td>$62.00</td>\n",
       "    </tr>\n",
       "    <tr>\n",
       "      <th>1308878</th>\n",
       "      <td>$65.00</td>\n",
       "      <td>$62.00</td>\n",
       "    </tr>\n",
       "    <tr>\n",
       "      <th>1308879</th>\n",
       "      <td>$65.00</td>\n",
       "      <td>$62.00</td>\n",
       "    </tr>\n",
       "  </tbody>\n",
       "</table>\n",
       "<p>643037 rows × 2 columns</p>\n",
       "</div>"
      ],
      "text/plain": [
       "        price_x price_y\n",
       "365      $65.00  $65.00\n",
       "366      $65.00  $65.00\n",
       "367      $65.00  $65.00\n",
       "368      $65.00  $75.00\n",
       "369      $65.00  $75.00\n",
       "...         ...     ...\n",
       "1308875  $65.00  $62.00\n",
       "1308876  $65.00  $62.00\n",
       "1308877  $65.00  $62.00\n",
       "1308878  $65.00  $62.00\n",
       "1308879  $65.00  $62.00\n",
       "\n",
       "[643037 rows x 2 columns]"
      ]
     },
     "execution_count": 5,
     "metadata": {},
     "output_type": "execute_result"
    }
   ],
   "source": [
    "df_join.dropna(subset=[\"price_y\"], axis=0, inplace=True)\n",
    "df_join[[\"price_x\", \"price_y\"]]"
   ]
  },
  {
   "cell_type": "markdown",
   "metadata": {},
   "source": [
    "- The prices from df_calendar and df_listing are different from each other\n",
    "- Due to the lack of documentation is hard to understand each price should be used in the predictions\n",
    "- Because it might be interesting to considerate the availability time, we are going to use the price from df_calendar in our predictions and drop price_x"
   ]
  },
  {
   "cell_type": "markdown",
   "metadata": {},
   "source": [
    "## 3) Exploratory Data Analysis <a class=\"anchor\" id=\"eda\"></a>"
   ]
  },
  {
   "cell_type": "code",
   "execution_count": 6,
   "metadata": {},
   "outputs": [],
   "source": [
    "def df_dimensions(df):\n",
    "    '''\n",
    "    INPUT: Dataframe\n",
    "    OUTPUT: Message - Number of the dataframe rows and columns\n",
    "    '''\n",
    "    num_rows = df.shape[0]\n",
    "    num_cols = df.shape[1]\n",
    "    print(\"The dataframe has {} rows and {} columns\".format(num_rows, num_cols))\n",
    "    \n",
    "def cols_missing_values(df):\n",
    "    '''\n",
    "    INPUT: Dataframe\n",
    "    OUTPUT: Message - Number of columns with missing data and the name of the columns\n",
    "    '''\n",
    "    no_nulls = set(df.columns[df.isnull().mean()==0])\n",
    "    print(\"There are {} from {} columns with missing values\".format(len(no_nulls), df.shape[1]))\n",
    "    print(\"Columns with no missing values = \", no_nulls)\n",
    "\n",
    "def most_missing_values(df, threshold):\n",
    "    '''\n",
    "    INPUT: Dataframe and threshold (set the percentage from 0 to 1 of how much data should be missing)\n",
    "    OUTPUT: Message - Number and the name of the columns missing more than X percentage of data\n",
    "    '''\n",
    "    most_missing_cols = set(df.columns[df.isnull().mean()> threshold])\n",
    "    print(\"There are {} from {} columns with  more than {}% of missing values\".format(len(most_missing_cols), df.shape[1], threshold*100))\n",
    "    print(\"Columns more than {}% of values missing = \".format(threshold*100))\n",
    "    print(most_missing_cols)\n",
    "    \n",
    "def categorical_cols(df):\n",
    "    '''\n",
    "    INPUT: Dataframe\n",
    "    OUTPUT: Message - Number of columns with categorical data and the name of the columns\n",
    "    '''\n",
    "    cat_cols = list(df.select_dtypes(include=[\"object\"]).columns)\n",
    "    print(\"There are {} from {} columns with categorical data\".format(len(cat_cols), df.shape[1]))\n",
    "    print(\"Columns categorical data = \", cat_cols)\n",
    "    \n",
    "def numerical_cols(df):\n",
    "    '''\n",
    "    INPUT: Dataframe\n",
    "    OUTPUT: Message - Number of columns with numerical data and the name of the columns\n",
    "    '''\n",
    "    num_cols = list(df.select_dtypes(include=[\"float\", \"int\"]).columns)\n",
    "    print(\"There are {} from {} columns with numerical data\".format(len(num_cols), df.shape[1]))\n",
    "    print(\"Columns numerical data = \", num_cols)"
   ]
  },
  {
   "cell_type": "markdown",
   "metadata": {},
   "source": [
    "### 3.1) Listings <a class=\"anchor\" id=\"listings\"></a>"
   ]
  },
  {
   "cell_type": "code",
   "execution_count": 7,
   "metadata": {},
   "outputs": [
    {
     "name": "stdout",
     "output_type": "stream",
     "text": [
      "The dataframe has 3585 rows and 95 columns\n"
     ]
    }
   ],
   "source": [
    "df_dimensions(df_listings)"
   ]
  },
  {
   "cell_type": "code",
   "execution_count": 8,
   "metadata": {},
   "outputs": [
    {
     "name": "stdout",
     "output_type": "stream",
     "text": [
      "There are 51 from 95 columns with missing values\n",
      "Columns with no missing values =  {'minimum_nights', 'cancellation_policy', 'require_guest_profile_picture', 'guests_included', 'calculated_host_listings_count', 'neighbourhood_cleansed', 'host_verifications', 'availability_365', 'availability_60', 'host_name', 'experiences_offered', 'name', 'amenities', 'calendar_last_scraped', 'number_of_reviews', 'require_guest_phone_verification', 'description', 'state', 'host_has_profile_pic', 'requires_license', 'bed_type', 'host_identity_verified', 'listing_url', 'availability_90', 'picture_url', 'smart_location', 'latitude', 'host_id', 'is_location_exact', 'host_since', 'host_is_superhost', 'last_scraped', 'availability_30', 'street', 'id', 'host_picture_url', 'scrape_id', 'accommodates', 'host_thumbnail_url', 'longitude', 'maximum_nights', 'country', 'instant_bookable', 'host_total_listings_count', 'host_listings_count', 'calendar_updated', 'price', 'host_url', 'room_type', 'country_code', 'extra_people'}\n"
     ]
    }
   ],
   "source": [
    "cols_missing_values(df_listings)"
   ]
  },
  {
   "cell_type": "code",
   "execution_count": 9,
   "metadata": {},
   "outputs": [
    {
     "name": "stdout",
     "output_type": "stream",
     "text": [
      "There are 7 from 95 columns with  more than 75.0% of missing values\n",
      "Columns more than 75.0% of values missing = \n",
      "{'square_feet', 'neighbourhood_group_cleansed', 'jurisdiction_names', 'has_availability', 'license', 'monthly_price', 'weekly_price'}\n"
     ]
    }
   ],
   "source": [
    "most_missing_values(df_listings, .75)"
   ]
  },
  {
   "cell_type": "code",
   "execution_count": 10,
   "metadata": {},
   "outputs": [
    {
     "name": "stdout",
     "output_type": "stream",
     "text": [
      "There are 62 from 95 columns with categorical data\n",
      "Columns categorical data =  ['listing_url', 'last_scraped', 'name', 'summary', 'space', 'description', 'experiences_offered', 'neighborhood_overview', 'notes', 'transit', 'access', 'interaction', 'house_rules', 'thumbnail_url', 'medium_url', 'picture_url', 'xl_picture_url', 'host_url', 'host_name', 'host_since', 'host_location', 'host_about', 'host_response_time', 'host_response_rate', 'host_acceptance_rate', 'host_is_superhost', 'host_thumbnail_url', 'host_picture_url', 'host_neighbourhood', 'host_verifications', 'host_has_profile_pic', 'host_identity_verified', 'street', 'neighbourhood', 'neighbourhood_cleansed', 'city', 'state', 'zipcode', 'market', 'smart_location', 'country_code', 'country', 'is_location_exact', 'property_type', 'room_type', 'bed_type', 'amenities', 'price', 'weekly_price', 'monthly_price', 'security_deposit', 'cleaning_fee', 'extra_people', 'calendar_updated', 'calendar_last_scraped', 'first_review', 'last_review', 'requires_license', 'instant_bookable', 'cancellation_policy', 'require_guest_profile_picture', 'require_guest_phone_verification']\n"
     ]
    }
   ],
   "source": [
    "categorical_cols(df_listings)"
   ]
  },
  {
   "cell_type": "code",
   "execution_count": 11,
   "metadata": {},
   "outputs": [
    {
     "name": "stdout",
     "output_type": "stream",
     "text": [
      "There are 33 from 95 columns with numerical data\n",
      "Columns numerical data =  ['id', 'scrape_id', 'host_id', 'host_listings_count', 'host_total_listings_count', 'neighbourhood_group_cleansed', 'latitude', 'longitude', 'accommodates', 'bathrooms', 'bedrooms', 'beds', 'square_feet', 'guests_included', 'minimum_nights', 'maximum_nights', 'has_availability', 'availability_30', 'availability_60', 'availability_90', 'availability_365', 'number_of_reviews', 'review_scores_rating', 'review_scores_accuracy', 'review_scores_cleanliness', 'review_scores_checkin', 'review_scores_communication', 'review_scores_location', 'review_scores_value', 'license', 'jurisdiction_names', 'calculated_host_listings_count', 'reviews_per_month']\n"
     ]
    }
   ],
   "source": [
    "numerical_cols(df_listings)"
   ]
  },
  {
   "cell_type": "code",
   "execution_count": 12,
   "metadata": {
    "scrolled": true
   },
   "outputs": [
    {
     "data": {
      "text/html": [
       "<div>\n",
       "<style scoped>\n",
       "    .dataframe tbody tr th:only-of-type {\n",
       "        vertical-align: middle;\n",
       "    }\n",
       "\n",
       "    .dataframe tbody tr th {\n",
       "        vertical-align: top;\n",
       "    }\n",
       "\n",
       "    .dataframe thead th {\n",
       "        text-align: right;\n",
       "    }\n",
       "</style>\n",
       "<table border=\"1\" class=\"dataframe\">\n",
       "  <thead>\n",
       "    <tr style=\"text-align: right;\">\n",
       "      <th></th>\n",
       "      <th>id</th>\n",
       "      <th>scrape_id</th>\n",
       "      <th>host_id</th>\n",
       "      <th>host_listings_count</th>\n",
       "      <th>host_total_listings_count</th>\n",
       "      <th>neighbourhood_group_cleansed</th>\n",
       "      <th>latitude</th>\n",
       "      <th>longitude</th>\n",
       "      <th>accommodates</th>\n",
       "      <th>bathrooms</th>\n",
       "      <th>...</th>\n",
       "      <th>review_scores_accuracy</th>\n",
       "      <th>review_scores_cleanliness</th>\n",
       "      <th>review_scores_checkin</th>\n",
       "      <th>review_scores_communication</th>\n",
       "      <th>review_scores_location</th>\n",
       "      <th>review_scores_value</th>\n",
       "      <th>license</th>\n",
       "      <th>jurisdiction_names</th>\n",
       "      <th>calculated_host_listings_count</th>\n",
       "      <th>reviews_per_month</th>\n",
       "    </tr>\n",
       "  </thead>\n",
       "  <tbody>\n",
       "    <tr>\n",
       "      <th>count</th>\n",
       "      <td>3.585000e+03</td>\n",
       "      <td>3.585000e+03</td>\n",
       "      <td>3.585000e+03</td>\n",
       "      <td>3585.000000</td>\n",
       "      <td>3585.000000</td>\n",
       "      <td>0.0</td>\n",
       "      <td>3585.000000</td>\n",
       "      <td>3585.000000</td>\n",
       "      <td>3585.000000</td>\n",
       "      <td>3571.000000</td>\n",
       "      <td>...</td>\n",
       "      <td>2762.000000</td>\n",
       "      <td>2767.000000</td>\n",
       "      <td>2765.000000</td>\n",
       "      <td>2767.000000</td>\n",
       "      <td>2763.000000</td>\n",
       "      <td>2764.000000</td>\n",
       "      <td>0.0</td>\n",
       "      <td>0.0</td>\n",
       "      <td>3585.000000</td>\n",
       "      <td>2829.000000</td>\n",
       "    </tr>\n",
       "    <tr>\n",
       "      <th>mean</th>\n",
       "      <td>8.440875e+06</td>\n",
       "      <td>2.016091e+13</td>\n",
       "      <td>2.492311e+07</td>\n",
       "      <td>58.902371</td>\n",
       "      <td>58.902371</td>\n",
       "      <td>NaN</td>\n",
       "      <td>42.340032</td>\n",
       "      <td>-71.084818</td>\n",
       "      <td>3.041283</td>\n",
       "      <td>1.221647</td>\n",
       "      <td>...</td>\n",
       "      <td>9.431571</td>\n",
       "      <td>9.258041</td>\n",
       "      <td>9.646293</td>\n",
       "      <td>9.646549</td>\n",
       "      <td>9.414043</td>\n",
       "      <td>9.168234</td>\n",
       "      <td>NaN</td>\n",
       "      <td>NaN</td>\n",
       "      <td>12.733891</td>\n",
       "      <td>1.970908</td>\n",
       "    </tr>\n",
       "    <tr>\n",
       "      <th>std</th>\n",
       "      <td>4.500787e+06</td>\n",
       "      <td>8.516813e-01</td>\n",
       "      <td>2.292781e+07</td>\n",
       "      <td>171.119663</td>\n",
       "      <td>171.119663</td>\n",
       "      <td>NaN</td>\n",
       "      <td>0.024403</td>\n",
       "      <td>0.031565</td>\n",
       "      <td>1.778929</td>\n",
       "      <td>0.501487</td>\n",
       "      <td>...</td>\n",
       "      <td>0.931863</td>\n",
       "      <td>1.168977</td>\n",
       "      <td>0.762753</td>\n",
       "      <td>0.735507</td>\n",
       "      <td>0.903436</td>\n",
       "      <td>1.011116</td>\n",
       "      <td>NaN</td>\n",
       "      <td>NaN</td>\n",
       "      <td>29.415076</td>\n",
       "      <td>2.120561</td>\n",
       "    </tr>\n",
       "    <tr>\n",
       "      <th>min</th>\n",
       "      <td>3.353000e+03</td>\n",
       "      <td>2.016091e+13</td>\n",
       "      <td>4.240000e+03</td>\n",
       "      <td>0.000000</td>\n",
       "      <td>0.000000</td>\n",
       "      <td>NaN</td>\n",
       "      <td>42.235942</td>\n",
       "      <td>-71.171789</td>\n",
       "      <td>1.000000</td>\n",
       "      <td>0.000000</td>\n",
       "      <td>...</td>\n",
       "      <td>2.000000</td>\n",
       "      <td>2.000000</td>\n",
       "      <td>2.000000</td>\n",
       "      <td>4.000000</td>\n",
       "      <td>2.000000</td>\n",
       "      <td>2.000000</td>\n",
       "      <td>NaN</td>\n",
       "      <td>NaN</td>\n",
       "      <td>1.000000</td>\n",
       "      <td>0.010000</td>\n",
       "    </tr>\n",
       "    <tr>\n",
       "      <th>25%</th>\n",
       "      <td>4.679319e+06</td>\n",
       "      <td>2.016091e+13</td>\n",
       "      <td>6.103425e+06</td>\n",
       "      <td>1.000000</td>\n",
       "      <td>1.000000</td>\n",
       "      <td>NaN</td>\n",
       "      <td>42.329995</td>\n",
       "      <td>-71.105083</td>\n",
       "      <td>2.000000</td>\n",
       "      <td>1.000000</td>\n",
       "      <td>...</td>\n",
       "      <td>9.000000</td>\n",
       "      <td>9.000000</td>\n",
       "      <td>9.000000</td>\n",
       "      <td>9.000000</td>\n",
       "      <td>9.000000</td>\n",
       "      <td>9.000000</td>\n",
       "      <td>NaN</td>\n",
       "      <td>NaN</td>\n",
       "      <td>1.000000</td>\n",
       "      <td>0.480000</td>\n",
       "    </tr>\n",
       "    <tr>\n",
       "      <th>50%</th>\n",
       "      <td>8.577620e+06</td>\n",
       "      <td>2.016091e+13</td>\n",
       "      <td>1.928100e+07</td>\n",
       "      <td>2.000000</td>\n",
       "      <td>2.000000</td>\n",
       "      <td>NaN</td>\n",
       "      <td>42.345201</td>\n",
       "      <td>-71.078429</td>\n",
       "      <td>2.000000</td>\n",
       "      <td>1.000000</td>\n",
       "      <td>...</td>\n",
       "      <td>10.000000</td>\n",
       "      <td>10.000000</td>\n",
       "      <td>10.000000</td>\n",
       "      <td>10.000000</td>\n",
       "      <td>10.000000</td>\n",
       "      <td>9.000000</td>\n",
       "      <td>NaN</td>\n",
       "      <td>NaN</td>\n",
       "      <td>2.000000</td>\n",
       "      <td>1.170000</td>\n",
       "    </tr>\n",
       "    <tr>\n",
       "      <th>75%</th>\n",
       "      <td>1.278953e+07</td>\n",
       "      <td>2.016091e+13</td>\n",
       "      <td>3.622147e+07</td>\n",
       "      <td>7.000000</td>\n",
       "      <td>7.000000</td>\n",
       "      <td>NaN</td>\n",
       "      <td>42.354685</td>\n",
       "      <td>-71.062155</td>\n",
       "      <td>4.000000</td>\n",
       "      <td>1.000000</td>\n",
       "      <td>...</td>\n",
       "      <td>10.000000</td>\n",
       "      <td>10.000000</td>\n",
       "      <td>10.000000</td>\n",
       "      <td>10.000000</td>\n",
       "      <td>10.000000</td>\n",
       "      <td>10.000000</td>\n",
       "      <td>NaN</td>\n",
       "      <td>NaN</td>\n",
       "      <td>6.000000</td>\n",
       "      <td>2.720000</td>\n",
       "    </tr>\n",
       "    <tr>\n",
       "      <th>max</th>\n",
       "      <td>1.493346e+07</td>\n",
       "      <td>2.016091e+13</td>\n",
       "      <td>9.385411e+07</td>\n",
       "      <td>749.000000</td>\n",
       "      <td>749.000000</td>\n",
       "      <td>NaN</td>\n",
       "      <td>42.389982</td>\n",
       "      <td>-71.000100</td>\n",
       "      <td>16.000000</td>\n",
       "      <td>6.000000</td>\n",
       "      <td>...</td>\n",
       "      <td>10.000000</td>\n",
       "      <td>10.000000</td>\n",
       "      <td>10.000000</td>\n",
       "      <td>10.000000</td>\n",
       "      <td>10.000000</td>\n",
       "      <td>10.000000</td>\n",
       "      <td>NaN</td>\n",
       "      <td>NaN</td>\n",
       "      <td>136.000000</td>\n",
       "      <td>19.150000</td>\n",
       "    </tr>\n",
       "  </tbody>\n",
       "</table>\n",
       "<p>8 rows × 33 columns</p>\n",
       "</div>"
      ],
      "text/plain": [
       "                 id     scrape_id       host_id  host_listings_count  \\\n",
       "count  3.585000e+03  3.585000e+03  3.585000e+03          3585.000000   \n",
       "mean   8.440875e+06  2.016091e+13  2.492311e+07            58.902371   \n",
       "std    4.500787e+06  8.516813e-01  2.292781e+07           171.119663   \n",
       "min    3.353000e+03  2.016091e+13  4.240000e+03             0.000000   \n",
       "25%    4.679319e+06  2.016091e+13  6.103425e+06             1.000000   \n",
       "50%    8.577620e+06  2.016091e+13  1.928100e+07             2.000000   \n",
       "75%    1.278953e+07  2.016091e+13  3.622147e+07             7.000000   \n",
       "max    1.493346e+07  2.016091e+13  9.385411e+07           749.000000   \n",
       "\n",
       "       host_total_listings_count  neighbourhood_group_cleansed     latitude  \\\n",
       "count                3585.000000                           0.0  3585.000000   \n",
       "mean                   58.902371                           NaN    42.340032   \n",
       "std                   171.119663                           NaN     0.024403   \n",
       "min                     0.000000                           NaN    42.235942   \n",
       "25%                     1.000000                           NaN    42.329995   \n",
       "50%                     2.000000                           NaN    42.345201   \n",
       "75%                     7.000000                           NaN    42.354685   \n",
       "max                   749.000000                           NaN    42.389982   \n",
       "\n",
       "         longitude  accommodates    bathrooms  ...  review_scores_accuracy  \\\n",
       "count  3585.000000   3585.000000  3571.000000  ...             2762.000000   \n",
       "mean    -71.084818      3.041283     1.221647  ...                9.431571   \n",
       "std       0.031565      1.778929     0.501487  ...                0.931863   \n",
       "min     -71.171789      1.000000     0.000000  ...                2.000000   \n",
       "25%     -71.105083      2.000000     1.000000  ...                9.000000   \n",
       "50%     -71.078429      2.000000     1.000000  ...               10.000000   \n",
       "75%     -71.062155      4.000000     1.000000  ...               10.000000   \n",
       "max     -71.000100     16.000000     6.000000  ...               10.000000   \n",
       "\n",
       "       review_scores_cleanliness  review_scores_checkin  \\\n",
       "count                2767.000000            2765.000000   \n",
       "mean                    9.258041               9.646293   \n",
       "std                     1.168977               0.762753   \n",
       "min                     2.000000               2.000000   \n",
       "25%                     9.000000               9.000000   \n",
       "50%                    10.000000              10.000000   \n",
       "75%                    10.000000              10.000000   \n",
       "max                    10.000000              10.000000   \n",
       "\n",
       "       review_scores_communication  review_scores_location  \\\n",
       "count                  2767.000000             2763.000000   \n",
       "mean                      9.646549                9.414043   \n",
       "std                       0.735507                0.903436   \n",
       "min                       4.000000                2.000000   \n",
       "25%                       9.000000                9.000000   \n",
       "50%                      10.000000               10.000000   \n",
       "75%                      10.000000               10.000000   \n",
       "max                      10.000000               10.000000   \n",
       "\n",
       "       review_scores_value  license  jurisdiction_names  \\\n",
       "count          2764.000000      0.0                 0.0   \n",
       "mean              9.168234      NaN                 NaN   \n",
       "std               1.011116      NaN                 NaN   \n",
       "min               2.000000      NaN                 NaN   \n",
       "25%               9.000000      NaN                 NaN   \n",
       "50%               9.000000      NaN                 NaN   \n",
       "75%              10.000000      NaN                 NaN   \n",
       "max              10.000000      NaN                 NaN   \n",
       "\n",
       "       calculated_host_listings_count  reviews_per_month  \n",
       "count                     3585.000000        2829.000000  \n",
       "mean                        12.733891           1.970908  \n",
       "std                         29.415076           2.120561  \n",
       "min                          1.000000           0.010000  \n",
       "25%                          1.000000           0.480000  \n",
       "50%                          2.000000           1.170000  \n",
       "75%                          6.000000           2.720000  \n",
       "max                        136.000000          19.150000  \n",
       "\n",
       "[8 rows x 33 columns]"
      ]
     },
     "execution_count": 12,
     "metadata": {},
     "output_type": "execute_result"
    }
   ],
   "source": [
    "df_listings.describe()"
   ]
  },
  {
   "cell_type": "code",
   "execution_count": 13,
   "metadata": {},
   "outputs": [
    {
     "name": "stdout",
     "output_type": "stream",
     "text": [
      "Number of columns droped =  28\n",
      "Index(['id', 'host_response_time', 'host_response_rate',\n",
      "       'host_acceptance_rate', 'host_is_superhost', 'neighbourhood',\n",
      "       'is_location_exact', 'property_type', 'room_type', 'accommodates',\n",
      "       'bathrooms', 'bedrooms', 'beds', 'bed_type', 'price',\n",
      "       'security_deposit', 'cleaning_fee', 'minimum_nights', 'maximum_nights',\n",
      "       'review_scores_rating', 'review_scores_accuracy',\n",
      "       'review_scores_cleanliness', 'review_scores_checkin',\n",
      "       'review_scores_communication', 'review_scores_location',\n",
      "       'review_scores_value', 'instant_bookable', 'cancellation_policy'],\n",
      "      dtype='object')\n"
     ]
    }
   ],
   "source": [
    "#Droping columns with missing data, text data, url, or without essential info\n",
    "drop_cols = ['reviews_per_month','last_review','first_review','market','zipcode','city','neighbourhood_cleansed','host_neighbourhood','host_about','host_location','xl_picture_url','medium_url','thumbnail_url','house_rules','interaction','access','transit','notes','neighborhood_overview','space','summary','host_listings_count','country_code', 'host_url',  'last_scraped', 'calendar_updated', 'availability_365', 'listing_url', 'availability_30', 'experiences_offered', 'state', 'host_thumbnail_url', 'host_has_profile_pic', 'host_verifications', 'country', 'amenities', 'calculated_host_listings_count', 'require_guest_phone_verification', 'description', 'calendar_last_scraped', 'host_id', 'number_of_reviews', 'longitude', 'requires_license', 'host_name', 'picture_url', 'availability_90', 'host_picture_url', 'availability_60', 'latitude', 'name', 'guests_included', 'extra_people', 'scrape_id', 'host_total_listings_count','host_since', 'host_identity_verified', 'require_guest_profile_picture', 'smart_location', 'street', 'monthly_price', 'license', 'has_availability', 'neighbourhood_group_cleansed', 'square_feet', 'weekly_price', 'jurisdiction_names']\n",
    "drop_cols = list(set(drop_cols)) #applying set to avoid any repetition\n",
    "drop_cols\n",
    "df_listings.drop(drop_cols, axis='columns',inplace=True)\n",
    "print(\"Number of columns droped = \",len(list(df_listings.columns)))\n",
    "print(df_listings.columns)"
   ]
  },
  {
   "cell_type": "code",
   "execution_count": 14,
   "metadata": {},
   "outputs": [],
   "source": [
    "#Treat columns\n",
    "df_listings[\"price\"] = df_listings[\"price\"].apply(lambda x: float((x.replace(\"$\", \"\")).replace(\",\",\"\")) if not isinstance(x, float) else x)\n",
    "df_listings[\"security_deposit\"] = df_listings[\"security_deposit\"].apply(lambda x: float((x.replace(\"$\", \"\")).replace(\",\",\"\")) if not isinstance(x, float) else x)\n",
    "df_listings[\"cleaning_fee\"] = df_listings[\"cleaning_fee\"].apply(lambda x: float((x.replace(\"$\", \"\")).replace(\",\",\"\")) if not isinstance(x, float) else x)\n",
    "df_listings[\"host_response_rate\"] = df_listings[\"host_response_rate\"].apply(lambda x: float(x.replace(\"%\", \"\")) if not isinstance(x, float) else x)\n",
    "df_listings[\"host_acceptance_rate\"] = df_listings[\"host_acceptance_rate\"].apply(lambda x: float(x.replace(\"%\", \"\")) if not isinstance(x, float) else x)"
   ]
  },
  {
   "cell_type": "code",
   "execution_count": 15,
   "metadata": {},
   "outputs": [
    {
     "name": "stdout",
     "output_type": "stream",
     "text": [
      "There are 9 from 28 columns with categorical data\n",
      "Columns categorical data =  ['host_response_time', 'host_is_superhost', 'neighbourhood', 'is_location_exact', 'property_type', 'room_type', 'bed_type', 'instant_bookable', 'cancellation_policy']\n"
     ]
    }
   ],
   "source": [
    "categorical_cols(df_listings)"
   ]
  },
  {
   "cell_type": "code",
   "execution_count": 16,
   "metadata": {},
   "outputs": [
    {
     "name": "stdout",
     "output_type": "stream",
     "text": [
      "There are 19 from 28 columns with numerical data\n",
      "Columns numerical data =  ['id', 'host_response_rate', 'host_acceptance_rate', 'accommodates', 'bathrooms', 'bedrooms', 'beds', 'price', 'security_deposit', 'cleaning_fee', 'minimum_nights', 'maximum_nights', 'review_scores_rating', 'review_scores_accuracy', 'review_scores_cleanliness', 'review_scores_checkin', 'review_scores_communication', 'review_scores_location', 'review_scores_value']\n"
     ]
    }
   ],
   "source": [
    "numerical_cols(df_listings)"
   ]
  },
  {
   "cell_type": "code",
   "execution_count": 17,
   "metadata": {
    "scrolled": true
   },
   "outputs": [
    {
     "data": {
      "text/html": [
       "<div>\n",
       "<style scoped>\n",
       "    .dataframe tbody tr th:only-of-type {\n",
       "        vertical-align: middle;\n",
       "    }\n",
       "\n",
       "    .dataframe tbody tr th {\n",
       "        vertical-align: top;\n",
       "    }\n",
       "\n",
       "    .dataframe thead th {\n",
       "        text-align: right;\n",
       "    }\n",
       "</style>\n",
       "<table border=\"1\" class=\"dataframe\">\n",
       "  <thead>\n",
       "    <tr style=\"text-align: right;\">\n",
       "      <th></th>\n",
       "      <th>id</th>\n",
       "      <th>host_response_rate</th>\n",
       "      <th>host_acceptance_rate</th>\n",
       "      <th>accommodates</th>\n",
       "      <th>bathrooms</th>\n",
       "      <th>bedrooms</th>\n",
       "      <th>beds</th>\n",
       "      <th>price</th>\n",
       "      <th>security_deposit</th>\n",
       "      <th>cleaning_fee</th>\n",
       "      <th>minimum_nights</th>\n",
       "      <th>maximum_nights</th>\n",
       "      <th>review_scores_rating</th>\n",
       "      <th>review_scores_accuracy</th>\n",
       "      <th>review_scores_cleanliness</th>\n",
       "      <th>review_scores_checkin</th>\n",
       "      <th>review_scores_communication</th>\n",
       "      <th>review_scores_location</th>\n",
       "      <th>review_scores_value</th>\n",
       "    </tr>\n",
       "  </thead>\n",
       "  <tbody>\n",
       "    <tr>\n",
       "      <th>count</th>\n",
       "      <td>3.585000e+03</td>\n",
       "      <td>3114.000000</td>\n",
       "      <td>3114.000000</td>\n",
       "      <td>3585.000000</td>\n",
       "      <td>3571.000000</td>\n",
       "      <td>3575.000000</td>\n",
       "      <td>3576.000000</td>\n",
       "      <td>3585.000000</td>\n",
       "      <td>1342.000000</td>\n",
       "      <td>2478.000000</td>\n",
       "      <td>3585.000000</td>\n",
       "      <td>3.585000e+03</td>\n",
       "      <td>2772.000000</td>\n",
       "      <td>2762.000000</td>\n",
       "      <td>2767.000000</td>\n",
       "      <td>2765.000000</td>\n",
       "      <td>2767.000000</td>\n",
       "      <td>2763.000000</td>\n",
       "      <td>2764.000000</td>\n",
       "    </tr>\n",
       "    <tr>\n",
       "      <th>mean</th>\n",
       "      <td>8.440875e+06</td>\n",
       "      <td>94.989082</td>\n",
       "      <td>84.173089</td>\n",
       "      <td>3.041283</td>\n",
       "      <td>1.221647</td>\n",
       "      <td>1.255944</td>\n",
       "      <td>1.609060</td>\n",
       "      <td>173.925802</td>\n",
       "      <td>324.698212</td>\n",
       "      <td>68.380145</td>\n",
       "      <td>3.171269</td>\n",
       "      <td>2.872584e+04</td>\n",
       "      <td>91.916667</td>\n",
       "      <td>9.431571</td>\n",
       "      <td>9.258041</td>\n",
       "      <td>9.646293</td>\n",
       "      <td>9.646549</td>\n",
       "      <td>9.414043</td>\n",
       "      <td>9.168234</td>\n",
       "    </tr>\n",
       "    <tr>\n",
       "      <th>std</th>\n",
       "      <td>4.500787e+06</td>\n",
       "      <td>12.517686</td>\n",
       "      <td>21.779254</td>\n",
       "      <td>1.778929</td>\n",
       "      <td>0.501487</td>\n",
       "      <td>0.753060</td>\n",
       "      <td>1.011745</td>\n",
       "      <td>148.331321</td>\n",
       "      <td>328.873075</td>\n",
       "      <td>51.297835</td>\n",
       "      <td>8.874133</td>\n",
       "      <td>1.670136e+06</td>\n",
       "      <td>9.531686</td>\n",
       "      <td>0.931863</td>\n",
       "      <td>1.168977</td>\n",
       "      <td>0.762753</td>\n",
       "      <td>0.735507</td>\n",
       "      <td>0.903436</td>\n",
       "      <td>1.011116</td>\n",
       "    </tr>\n",
       "    <tr>\n",
       "      <th>min</th>\n",
       "      <td>3.353000e+03</td>\n",
       "      <td>0.000000</td>\n",
       "      <td>0.000000</td>\n",
       "      <td>1.000000</td>\n",
       "      <td>0.000000</td>\n",
       "      <td>0.000000</td>\n",
       "      <td>0.000000</td>\n",
       "      <td>10.000000</td>\n",
       "      <td>95.000000</td>\n",
       "      <td>5.000000</td>\n",
       "      <td>1.000000</td>\n",
       "      <td>1.000000e+00</td>\n",
       "      <td>20.000000</td>\n",
       "      <td>2.000000</td>\n",
       "      <td>2.000000</td>\n",
       "      <td>2.000000</td>\n",
       "      <td>4.000000</td>\n",
       "      <td>2.000000</td>\n",
       "      <td>2.000000</td>\n",
       "    </tr>\n",
       "    <tr>\n",
       "      <th>25%</th>\n",
       "      <td>4.679319e+06</td>\n",
       "      <td>97.000000</td>\n",
       "      <td>71.000000</td>\n",
       "      <td>2.000000</td>\n",
       "      <td>1.000000</td>\n",
       "      <td>1.000000</td>\n",
       "      <td>1.000000</td>\n",
       "      <td>85.000000</td>\n",
       "      <td>100.000000</td>\n",
       "      <td>25.000000</td>\n",
       "      <td>1.000000</td>\n",
       "      <td>3.650000e+02</td>\n",
       "      <td>89.000000</td>\n",
       "      <td>9.000000</td>\n",
       "      <td>9.000000</td>\n",
       "      <td>9.000000</td>\n",
       "      <td>9.000000</td>\n",
       "      <td>9.000000</td>\n",
       "      <td>9.000000</td>\n",
       "    </tr>\n",
       "    <tr>\n",
       "      <th>50%</th>\n",
       "      <td>8.577620e+06</td>\n",
       "      <td>100.000000</td>\n",
       "      <td>94.000000</td>\n",
       "      <td>2.000000</td>\n",
       "      <td>1.000000</td>\n",
       "      <td>1.000000</td>\n",
       "      <td>1.000000</td>\n",
       "      <td>150.000000</td>\n",
       "      <td>250.000000</td>\n",
       "      <td>50.000000</td>\n",
       "      <td>2.000000</td>\n",
       "      <td>1.125000e+03</td>\n",
       "      <td>94.000000</td>\n",
       "      <td>10.000000</td>\n",
       "      <td>10.000000</td>\n",
       "      <td>10.000000</td>\n",
       "      <td>10.000000</td>\n",
       "      <td>10.000000</td>\n",
       "      <td>9.000000</td>\n",
       "    </tr>\n",
       "    <tr>\n",
       "      <th>75%</th>\n",
       "      <td>1.278953e+07</td>\n",
       "      <td>100.000000</td>\n",
       "      <td>100.000000</td>\n",
       "      <td>4.000000</td>\n",
       "      <td>1.000000</td>\n",
       "      <td>2.000000</td>\n",
       "      <td>2.000000</td>\n",
       "      <td>220.000000</td>\n",
       "      <td>450.000000</td>\n",
       "      <td>100.000000</td>\n",
       "      <td>3.000000</td>\n",
       "      <td>1.125000e+03</td>\n",
       "      <td>98.250000</td>\n",
       "      <td>10.000000</td>\n",
       "      <td>10.000000</td>\n",
       "      <td>10.000000</td>\n",
       "      <td>10.000000</td>\n",
       "      <td>10.000000</td>\n",
       "      <td>10.000000</td>\n",
       "    </tr>\n",
       "    <tr>\n",
       "      <th>max</th>\n",
       "      <td>1.493346e+07</td>\n",
       "      <td>100.000000</td>\n",
       "      <td>100.000000</td>\n",
       "      <td>16.000000</td>\n",
       "      <td>6.000000</td>\n",
       "      <td>5.000000</td>\n",
       "      <td>16.000000</td>\n",
       "      <td>4000.000000</td>\n",
       "      <td>4500.000000</td>\n",
       "      <td>300.000000</td>\n",
       "      <td>300.000000</td>\n",
       "      <td>1.000000e+08</td>\n",
       "      <td>100.000000</td>\n",
       "      <td>10.000000</td>\n",
       "      <td>10.000000</td>\n",
       "      <td>10.000000</td>\n",
       "      <td>10.000000</td>\n",
       "      <td>10.000000</td>\n",
       "      <td>10.000000</td>\n",
       "    </tr>\n",
       "  </tbody>\n",
       "</table>\n",
       "</div>"
      ],
      "text/plain": [
       "                 id  host_response_rate  host_acceptance_rate  accommodates  \\\n",
       "count  3.585000e+03         3114.000000           3114.000000   3585.000000   \n",
       "mean   8.440875e+06           94.989082             84.173089      3.041283   \n",
       "std    4.500787e+06           12.517686             21.779254      1.778929   \n",
       "min    3.353000e+03            0.000000              0.000000      1.000000   \n",
       "25%    4.679319e+06           97.000000             71.000000      2.000000   \n",
       "50%    8.577620e+06          100.000000             94.000000      2.000000   \n",
       "75%    1.278953e+07          100.000000            100.000000      4.000000   \n",
       "max    1.493346e+07          100.000000            100.000000     16.000000   \n",
       "\n",
       "         bathrooms     bedrooms         beds        price  security_deposit  \\\n",
       "count  3571.000000  3575.000000  3576.000000  3585.000000       1342.000000   \n",
       "mean      1.221647     1.255944     1.609060   173.925802        324.698212   \n",
       "std       0.501487     0.753060     1.011745   148.331321        328.873075   \n",
       "min       0.000000     0.000000     0.000000    10.000000         95.000000   \n",
       "25%       1.000000     1.000000     1.000000    85.000000        100.000000   \n",
       "50%       1.000000     1.000000     1.000000   150.000000        250.000000   \n",
       "75%       1.000000     2.000000     2.000000   220.000000        450.000000   \n",
       "max       6.000000     5.000000    16.000000  4000.000000       4500.000000   \n",
       "\n",
       "       cleaning_fee  minimum_nights  maximum_nights  review_scores_rating  \\\n",
       "count   2478.000000     3585.000000    3.585000e+03           2772.000000   \n",
       "mean      68.380145        3.171269    2.872584e+04             91.916667   \n",
       "std       51.297835        8.874133    1.670136e+06              9.531686   \n",
       "min        5.000000        1.000000    1.000000e+00             20.000000   \n",
       "25%       25.000000        1.000000    3.650000e+02             89.000000   \n",
       "50%       50.000000        2.000000    1.125000e+03             94.000000   \n",
       "75%      100.000000        3.000000    1.125000e+03             98.250000   \n",
       "max      300.000000      300.000000    1.000000e+08            100.000000   \n",
       "\n",
       "       review_scores_accuracy  review_scores_cleanliness  \\\n",
       "count             2762.000000                2767.000000   \n",
       "mean                 9.431571                   9.258041   \n",
       "std                  0.931863                   1.168977   \n",
       "min                  2.000000                   2.000000   \n",
       "25%                  9.000000                   9.000000   \n",
       "50%                 10.000000                  10.000000   \n",
       "75%                 10.000000                  10.000000   \n",
       "max                 10.000000                  10.000000   \n",
       "\n",
       "       review_scores_checkin  review_scores_communication  \\\n",
       "count            2765.000000                  2767.000000   \n",
       "mean                9.646293                     9.646549   \n",
       "std                 0.762753                     0.735507   \n",
       "min                 2.000000                     4.000000   \n",
       "25%                 9.000000                     9.000000   \n",
       "50%                10.000000                    10.000000   \n",
       "75%                10.000000                    10.000000   \n",
       "max                10.000000                    10.000000   \n",
       "\n",
       "       review_scores_location  review_scores_value  \n",
       "count             2763.000000          2764.000000  \n",
       "mean                 9.414043             9.168234  \n",
       "std                  0.903436             1.011116  \n",
       "min                  2.000000             2.000000  \n",
       "25%                  9.000000             9.000000  \n",
       "50%                 10.000000             9.000000  \n",
       "75%                 10.000000            10.000000  \n",
       "max                 10.000000            10.000000  "
      ]
     },
     "execution_count": 17,
     "metadata": {},
     "output_type": "execute_result"
    }
   ],
   "source": [
    "df_listings.describe()"
   ]
  },
  {
   "cell_type": "code",
   "execution_count": 18,
   "metadata": {},
   "outputs": [
    {
     "data": {
      "image/png": "[encoded data removed]",
      "text/plain": [
       "<Figure size 1008x864 with 20 Axes>"
      ]
     },
     "metadata": {
      "needs_background": "light"
     },
     "output_type": "display_data"
    }
   ],
   "source": [
    "df_listings.hist(figsize = (14,12));"
   ]
  },
  {
   "cell_type": "markdown",
   "metadata": {},
   "source": [
    "- Most of the airbnbs accomodate less than 5 people with usually 1 bathroom, 1 or 2 bedrooms, and 1 or 2 beds;\n",
    "- The review scores histograms are righ skewed distribution, what means that most of accomodations are highly evaluated;\n",
    "- The prices are usually less than 1 thousand dollars;\n",
    "- Although the cleaning fee tends to be cheap, its distribution varies."
   ]
  },
  {
   "cell_type": "code",
   "execution_count": 19,
   "metadata": {},
   "outputs": [
    {
     "data": {
      "text/plain": [
       "<matplotlib.axes._subplots.AxesSubplot at 0x27f0194bb50>"
      ]
     },
     "execution_count": 19,
     "metadata": {},
     "output_type": "execute_result"
    },
    {
     "data": {
      "image/png": "[encoded data removed]",
      "text/plain": [
       "<Figure size 720x720 with 2 Axes>"
      ]
     },
     "metadata": {
      "needs_background": "light"
     },
     "output_type": "display_data"
    }
   ],
   "source": [
    "fig, ax = plt.subplots(figsize=(10,10)) \n",
    "sns.heatmap(df_listings.corr(), annot=True, fmt=\".2f\")"
   ]
  },
  {
   "cell_type": "markdown",
   "metadata": {},
   "source": [
    "- The cleaning_fee, security_deposit, and the review_scroes are the variables that most correlates with the price."
   ]
  },
  {
   "cell_type": "code",
   "execution_count": 20,
   "metadata": {},
   "outputs": [
    {
     "data": {
      "image/png": "[encoded data removed]",
      "text/plain": [
       "<Figure size 432x288 with 1 Axes>"
      ]
     },
     "metadata": {
      "needs_background": "light"
     },
     "output_type": "display_data"
    }
   ],
   "source": [
    "host_response_time = df_listings.host_response_time.value_counts()\n",
    "(host_response_time/df_listings.shape[0]).plot(kind=\"bar\");\n",
    "plt.title(\"Host response time\");"
   ]
  },
  {
   "cell_type": "markdown",
   "metadata": {},
   "source": [
    "- The hosts usually answer the clients quickly, probably to finish the negociation as soon as possible."
   ]
  },
  {
   "cell_type": "code",
   "execution_count": 21,
   "metadata": {},
   "outputs": [
    {
     "data": {
      "image/png": "[encoded data removed]",
      "text/plain": [
       "<Figure size 432x288 with 1 Axes>"
      ]
     },
     "metadata": {
      "needs_background": "light"
     },
     "output_type": "display_data"
    }
   ],
   "source": [
    "neighbourhood = df_listings.neighbourhood.value_counts()\n",
    "(neighbourhood/df_listings.shape[0]).plot(kind=\"bar\");\n",
    "plt.title(\"Neighbourhood\");"
   ]
  },
  {
   "cell_type": "markdown",
   "metadata": {},
   "source": [
    "- Aliston-Brighton, Jamaica Plain, and South End are the neighbourhoods with the highest number of accomodations."
   ]
  },
  {
   "cell_type": "code",
   "execution_count": 22,
   "metadata": {},
   "outputs": [
    {
     "data": {
      "image/png": "[encoded data removed]",
      "text/plain": [
       "<Figure size 432x288 with 1 Axes>"
      ]
     },
     "metadata": {
      "needs_background": "light"
     },
     "output_type": "display_data"
    }
   ],
   "source": [
    "host_is_superhost = df_listings.host_is_superhost.value_counts()\n",
    "(host_is_superhost/df_listings.shape[0]).plot(kind=\"bar\");\n",
    "plt.title(\"Host is a superhost\");"
   ]
  },
  {
   "cell_type": "markdown",
   "metadata": {},
   "source": [
    "- More than 80% of the hosts are not a superhost."
   ]
  },
  {
   "cell_type": "code",
   "execution_count": 23,
   "metadata": {},
   "outputs": [
    {
     "data": {
      "image/png": "[encoded data removed]",
      "text/plain": [
       "<Figure size 432x288 with 1 Axes>"
      ]
     },
     "metadata": {
      "needs_background": "light"
     },
     "output_type": "display_data"
    }
   ],
   "source": [
    "is_location_exact = df_listings.is_location_exact.value_counts()\n",
    "(is_location_exact/df_listings.shape[0]).plot(kind=\"bar\");\n",
    "plt.title(\"Is location exact\");"
   ]
  },
  {
   "cell_type": "markdown",
   "metadata": {},
   "source": [
    "- Most of the location info available are exact!"
   ]
  },
  {
   "cell_type": "code",
   "execution_count": 24,
   "metadata": {},
   "outputs": [
    {
     "data": {
      "image/png": "[encoded data removed]",
      "text/plain": [
       "<Figure size 432x288 with 1 Axes>"
      ]
     },
     "metadata": {
      "needs_background": "light"
     },
     "output_type": "display_data"
    }
   ],
   "source": [
    "property_type = df_listings.property_type.value_counts()\n",
    "(property_type/df_listings.shape[0]).plot(kind=\"bar\");\n",
    "plt.title(\"Property type\");"
   ]
  },
  {
   "cell_type": "markdown",
   "metadata": {},
   "source": [
    "- More than 70% of the property avaiable in airbnb are apartments."
   ]
  },
  {
   "cell_type": "code",
   "execution_count": 25,
   "metadata": {},
   "outputs": [
    {
     "data": {
      "image/png": "[encoded data removed]",
      "text/plain": [
       "<Figure size 432x288 with 1 Axes>"
      ]
     },
     "metadata": {
      "needs_background": "light"
     },
     "output_type": "display_data"
    }
   ],
   "source": [
    "room_type = df_listings.room_type.value_counts()\n",
    "(room_type/df_listings.shape[0]).plot(kind=\"bar\");\n",
    "plt.title(\"Room type\");"
   ]
  },
  {
   "cell_type": "markdown",
   "metadata": {},
   "source": [
    "- Less than 1% of the rooms are shared."
   ]
  },
  {
   "cell_type": "code",
   "execution_count": 26,
   "metadata": {},
   "outputs": [
    {
     "data": {
      "image/png": "[encoded data removed]",
      "text/plain": [
       "<Figure size 432x288 with 1 Axes>"
      ]
     },
     "metadata": {
      "needs_background": "light"
     },
     "output_type": "display_data"
    }
   ],
   "source": [
    "bed_type = df_listings.bed_type.value_counts()\n",
    "(bed_type/df_listings.shape[0]).plot(kind=\"bar\");\n",
    "plt.title(\"Bed type\");"
   ]
  },
  {
   "cell_type": "markdown",
   "metadata": {},
   "source": [
    "- The clients should not be worried because there is almost a 100% chance they are going to sleep in a real bed :)"
   ]
  },
  {
   "cell_type": "code",
   "execution_count": 27,
   "metadata": {},
   "outputs": [
    {
     "data": {
      "image/png": "[encoded data removed]",
      "text/plain": [
       "<Figure size 432x288 with 1 Axes>"
      ]
     },
     "metadata": {
      "needs_background": "light"
     },
     "output_type": "display_data"
    }
   ],
   "source": [
    "instant_bookable = df_listings.instant_bookable.value_counts()\n",
    "(instant_bookable/df_listings.shape[0]).plot(kind=\"bar\");\n",
    "plt.title(\"Instant bookable\");"
   ]
  },
  {
   "cell_type": "markdown",
   "metadata": {},
   "source": [
    "- Booking an airbnb is usually not instantaneous."
   ]
  },
  {
   "cell_type": "code",
   "execution_count": 28,
   "metadata": {},
   "outputs": [
    {
     "data": {
      "image/png": "[encoded data removed]",
      "text/plain": [
       "<Figure size 432x288 with 1 Axes>"
      ]
     },
     "metadata": {
      "needs_background": "light"
     },
     "output_type": "display_data"
    }
   ],
   "source": [
    "cancellation_policy = df_listings.cancellation_policy.value_counts()\n",
    "(cancellation_policy/df_listings.shape[0]).plot(kind=\"bar\");\n",
    "plt.title(\"Cancellation policy\");"
   ]
  },
  {
   "cell_type": "code",
   "execution_count": 29,
   "metadata": {},
   "outputs": [
    {
     "name": "stdout",
     "output_type": "stream",
     "text": [
      "There are 11 from 28 columns with missing values\n",
      "Columns with no missing values =  {'maximum_nights', 'host_is_superhost', 'bed_type', 'minimum_nights', 'instant_bookable', 'cancellation_policy', 'price', 'room_type', 'is_location_exact', 'id', 'accommodates'}\n"
     ]
    }
   ],
   "source": [
    "cols_missing_values(df_listings)"
   ]
  },
  {
   "cell_type": "markdown",
   "metadata": {},
   "source": [
    "### 3.2) Calendar <a class=\"anchor\" id=\"calendar\"></a>"
   ]
  },
  {
   "cell_type": "code",
   "execution_count": 30,
   "metadata": {},
   "outputs": [
    {
     "name": "stdout",
     "output_type": "stream",
     "text": [
      "The dataframe has 1308890 rows and 4 columns\n"
     ]
    }
   ],
   "source": [
    "df_dimensions(df_calendar)"
   ]
  },
  {
   "cell_type": "code",
   "execution_count": 31,
   "metadata": {},
   "outputs": [
    {
     "name": "stdout",
     "output_type": "stream",
     "text": [
      "There are 3 from 4 columns with missing values\n",
      "Columns with no missing values =  {'available', 'date', 'listing_id'}\n"
     ]
    }
   ],
   "source": [
    "cols_missing_values(df_calendar)"
   ]
  },
  {
   "cell_type": "code",
   "execution_count": 32,
   "metadata": {},
   "outputs": [
    {
     "name": "stdout",
     "output_type": "stream",
     "text": [
      "There are 0 from 4 columns with  more than 75.0% of missing values\n",
      "Columns more than 75.0% of values missing = \n",
      "set()\n"
     ]
    }
   ],
   "source": [
    "most_missing_values(df_calendar, .75)"
   ]
  },
  {
   "cell_type": "code",
   "execution_count": 33,
   "metadata": {},
   "outputs": [
    {
     "name": "stdout",
     "output_type": "stream",
     "text": [
      "There are 3 from 4 columns with categorical data\n",
      "Columns categorical data =  ['date', 'available', 'price']\n"
     ]
    }
   ],
   "source": [
    "categorical_cols(df_calendar)"
   ]
  },
  {
   "cell_type": "code",
   "execution_count": 34,
   "metadata": {},
   "outputs": [
    {
     "name": "stdout",
     "output_type": "stream",
     "text": [
      "There are 1 from 4 columns with numerical data\n",
      "Columns numerical data =  ['listing_id']\n"
     ]
    }
   ],
   "source": [
    "numerical_cols(df_calendar)"
   ]
  },
  {
   "cell_type": "code",
   "execution_count": 35,
   "metadata": {},
   "outputs": [
    {
     "data": {
      "text/html": [
       "<div>\n",
       "<style scoped>\n",
       "    .dataframe tbody tr th:only-of-type {\n",
       "        vertical-align: middle;\n",
       "    }\n",
       "\n",
       "    .dataframe tbody tr th {\n",
       "        vertical-align: top;\n",
       "    }\n",
       "\n",
       "    .dataframe thead th {\n",
       "        text-align: right;\n",
       "    }\n",
       "</style>\n",
       "<table border=\"1\" class=\"dataframe\">\n",
       "  <thead>\n",
       "    <tr style=\"text-align: right;\">\n",
       "      <th></th>\n",
       "      <th>listing_id</th>\n",
       "    </tr>\n",
       "  </thead>\n",
       "  <tbody>\n",
       "    <tr>\n",
       "      <th>count</th>\n",
       "      <td>1.308890e+06</td>\n",
       "    </tr>\n",
       "    <tr>\n",
       "      <th>mean</th>\n",
       "      <td>8.442118e+06</td>\n",
       "    </tr>\n",
       "    <tr>\n",
       "      <th>std</th>\n",
       "      <td>4.500149e+06</td>\n",
       "    </tr>\n",
       "    <tr>\n",
       "      <th>min</th>\n",
       "      <td>3.353000e+03</td>\n",
       "    </tr>\n",
       "    <tr>\n",
       "      <th>25%</th>\n",
       "      <td>4.679319e+06</td>\n",
       "    </tr>\n",
       "    <tr>\n",
       "      <th>50%</th>\n",
       "      <td>8.578710e+06</td>\n",
       "    </tr>\n",
       "    <tr>\n",
       "      <th>75%</th>\n",
       "      <td>1.279603e+07</td>\n",
       "    </tr>\n",
       "    <tr>\n",
       "      <th>max</th>\n",
       "      <td>1.493346e+07</td>\n",
       "    </tr>\n",
       "  </tbody>\n",
       "</table>\n",
       "</div>"
      ],
      "text/plain": [
       "         listing_id\n",
       "count  1.308890e+06\n",
       "mean   8.442118e+06\n",
       "std    4.500149e+06\n",
       "min    3.353000e+03\n",
       "25%    4.679319e+06\n",
       "50%    8.578710e+06\n",
       "75%    1.279603e+07\n",
       "max    1.493346e+07"
      ]
     },
     "execution_count": 35,
     "metadata": {},
     "output_type": "execute_result"
    }
   ],
   "source": [
    "df_calendar.describe()"
   ]
  },
  {
   "cell_type": "code",
   "execution_count": 36,
   "metadata": {},
   "outputs": [
    {
     "data": {
      "text/plain": [
       "f    665853\n",
       "t    643037\n",
       "Name: available, dtype: int64"
      ]
     },
     "execution_count": 36,
     "metadata": {},
     "output_type": "execute_result"
    }
   ],
   "source": [
    "df_calendar[\"available\"].value_counts()"
   ]
  },
  {
   "cell_type": "code",
   "execution_count": 37,
   "metadata": {},
   "outputs": [
    {
     "data": {
      "text/plain": [
       "$150.00      20752\n",
       "$65.00       17518\n",
       "$75.00       16249\n",
       "$100.00      15499\n",
       "$200.00      14326\n",
       "             ...  \n",
       "$1,875.00        1\n",
       "$1,621.00        1\n",
       "$1,695.00        1\n",
       "$1,924.00        1\n",
       "$1,017.00        1\n",
       "Name: price, Length: 1246, dtype: int64"
      ]
     },
     "execution_count": 37,
     "metadata": {},
     "output_type": "execute_result"
    }
   ],
   "source": [
    "df_calendar[\"price\"].value_counts()"
   ]
  },
  {
   "cell_type": "code",
   "execution_count": 38,
   "metadata": {},
   "outputs": [
    {
     "data": {
      "text/plain": [
       "2017-09-05    3586\n",
       "2017-05-30    3586\n",
       "2017-06-01    3586\n",
       "2017-06-02    3586\n",
       "2017-06-03    3586\n",
       "              ... \n",
       "2016-11-23    3586\n",
       "2016-11-24    3586\n",
       "2016-11-25    3586\n",
       "2016-11-26    3586\n",
       "2016-09-06    3586\n",
       "Name: date, Length: 365, dtype: int64"
      ]
     },
     "execution_count": 38,
     "metadata": {},
     "output_type": "execute_result"
    }
   ],
   "source": [
    "df_calendar[\"date\"].value_counts()"
   ]
  },
  {
   "cell_type": "code",
   "execution_count": 39,
   "metadata": {},
   "outputs": [
    {
     "data": {
      "text/html": [
       "<div>\n",
       "<style scoped>\n",
       "    .dataframe tbody tr th:only-of-type {\n",
       "        vertical-align: middle;\n",
       "    }\n",
       "\n",
       "    .dataframe tbody tr th {\n",
       "        vertical-align: top;\n",
       "    }\n",
       "\n",
       "    .dataframe thead th {\n",
       "        text-align: right;\n",
       "    }\n",
       "</style>\n",
       "<table border=\"1\" class=\"dataframe\">\n",
       "  <thead>\n",
       "    <tr style=\"text-align: right;\">\n",
       "      <th></th>\n",
       "      <th>listing_id</th>\n",
       "      <th>available</th>\n",
       "      <th>price</th>\n",
       "      <th>year_calendar</th>\n",
       "      <th>month_calendar</th>\n",
       "    </tr>\n",
       "  </thead>\n",
       "  <tbody>\n",
       "    <tr>\n",
       "      <th>0</th>\n",
       "      <td>12147973</td>\n",
       "      <td>f</td>\n",
       "      <td>NaN</td>\n",
       "      <td>2017</td>\n",
       "      <td>9</td>\n",
       "    </tr>\n",
       "    <tr>\n",
       "      <th>1</th>\n",
       "      <td>12147973</td>\n",
       "      <td>f</td>\n",
       "      <td>NaN</td>\n",
       "      <td>2017</td>\n",
       "      <td>9</td>\n",
       "    </tr>\n",
       "    <tr>\n",
       "      <th>2</th>\n",
       "      <td>12147973</td>\n",
       "      <td>f</td>\n",
       "      <td>NaN</td>\n",
       "      <td>2017</td>\n",
       "      <td>9</td>\n",
       "    </tr>\n",
       "    <tr>\n",
       "      <th>3</th>\n",
       "      <td>12147973</td>\n",
       "      <td>f</td>\n",
       "      <td>NaN</td>\n",
       "      <td>2017</td>\n",
       "      <td>9</td>\n",
       "    </tr>\n",
       "    <tr>\n",
       "      <th>4</th>\n",
       "      <td>12147973</td>\n",
       "      <td>f</td>\n",
       "      <td>NaN</td>\n",
       "      <td>2017</td>\n",
       "      <td>9</td>\n",
       "    </tr>\n",
       "  </tbody>\n",
       "</table>\n",
       "</div>"
      ],
      "text/plain": [
       "   listing_id available price  year_calendar  month_calendar\n",
       "0    12147973         f   NaN           2017               9\n",
       "1    12147973         f   NaN           2017               9\n",
       "2    12147973         f   NaN           2017               9\n",
       "3    12147973         f   NaN           2017               9\n",
       "4    12147973         f   NaN           2017               9"
      ]
     },
     "execution_count": 39,
     "metadata": {},
     "output_type": "execute_result"
    }
   ],
   "source": [
    "#Convert date to columns month_calendar and year_calendar\n",
    "df_calendar[\"year_calendar\"] = df_calendar[\"date\"].apply(lambda x: int(x[:4]))\n",
    "df_calendar[\"month_calendar\"] = df_calendar[\"date\"].apply(lambda x: int(x[5:7]))\n",
    "df_calendar.drop(columns=\"date\", inplace=True)\n",
    "df_calendar.head()"
   ]
  },
  {
   "cell_type": "code",
   "execution_count": 40,
   "metadata": {},
   "outputs": [],
   "source": [
    "#Convert price to float\n",
    "df_calendar[\"price\"] = df_calendar[\"price\"].apply(lambda x: float((x.replace(\"$\", \"\")).replace(\",\",\"\")) if not isinstance(x, float) else x)"
   ]
  },
  {
   "cell_type": "code",
   "execution_count": 41,
   "metadata": {},
   "outputs": [
    {
     "data": {
      "text/html": [
       "<div>\n",
       "<style scoped>\n",
       "    .dataframe tbody tr th:only-of-type {\n",
       "        vertical-align: middle;\n",
       "    }\n",
       "\n",
       "    .dataframe tbody tr th {\n",
       "        vertical-align: top;\n",
       "    }\n",
       "\n",
       "    .dataframe thead th {\n",
       "        text-align: right;\n",
       "    }\n",
       "</style>\n",
       "<table border=\"1\" class=\"dataframe\">\n",
       "  <thead>\n",
       "    <tr style=\"text-align: right;\">\n",
       "      <th></th>\n",
       "      <th>listing_id</th>\n",
       "      <th>price</th>\n",
       "      <th>year_calendar</th>\n",
       "      <th>month_calendar</th>\n",
       "    </tr>\n",
       "  </thead>\n",
       "  <tbody>\n",
       "    <tr>\n",
       "      <th>count</th>\n",
       "      <td>1.308890e+06</td>\n",
       "      <td>643037.000000</td>\n",
       "      <td>1.308890e+06</td>\n",
       "      <td>1.308890e+06</td>\n",
       "    </tr>\n",
       "    <tr>\n",
       "      <th>mean</th>\n",
       "      <td>8.442118e+06</td>\n",
       "      <td>198.438909</td>\n",
       "      <td>2.016679e+03</td>\n",
       "      <td>6.526027e+00</td>\n",
       "    </tr>\n",
       "    <tr>\n",
       "      <th>std</th>\n",
       "      <td>4.500149e+06</td>\n",
       "      <td>180.142913</td>\n",
       "      <td>4.666874e-01</td>\n",
       "      <td>3.447853e+00</td>\n",
       "    </tr>\n",
       "    <tr>\n",
       "      <th>min</th>\n",
       "      <td>3.353000e+03</td>\n",
       "      <td>11.000000</td>\n",
       "      <td>2.016000e+03</td>\n",
       "      <td>1.000000e+00</td>\n",
       "    </tr>\n",
       "    <tr>\n",
       "      <th>25%</th>\n",
       "      <td>4.679319e+06</td>\n",
       "      <td>85.000000</td>\n",
       "      <td>2.016000e+03</td>\n",
       "      <td>4.000000e+00</td>\n",
       "    </tr>\n",
       "    <tr>\n",
       "      <th>50%</th>\n",
       "      <td>8.578710e+06</td>\n",
       "      <td>150.000000</td>\n",
       "      <td>2.017000e+03</td>\n",
       "      <td>7.000000e+00</td>\n",
       "    </tr>\n",
       "    <tr>\n",
       "      <th>75%</th>\n",
       "      <td>1.279603e+07</td>\n",
       "      <td>255.000000</td>\n",
       "      <td>2.017000e+03</td>\n",
       "      <td>1.000000e+01</td>\n",
       "    </tr>\n",
       "    <tr>\n",
       "      <th>max</th>\n",
       "      <td>1.493346e+07</td>\n",
       "      <td>7163.000000</td>\n",
       "      <td>2.017000e+03</td>\n",
       "      <td>1.200000e+01</td>\n",
       "    </tr>\n",
       "  </tbody>\n",
       "</table>\n",
       "</div>"
      ],
      "text/plain": [
       "         listing_id          price  year_calendar  month_calendar\n",
       "count  1.308890e+06  643037.000000   1.308890e+06    1.308890e+06\n",
       "mean   8.442118e+06     198.438909   2.016679e+03    6.526027e+00\n",
       "std    4.500149e+06     180.142913   4.666874e-01    3.447853e+00\n",
       "min    3.353000e+03      11.000000   2.016000e+03    1.000000e+00\n",
       "25%    4.679319e+06      85.000000   2.016000e+03    4.000000e+00\n",
       "50%    8.578710e+06     150.000000   2.017000e+03    7.000000e+00\n",
       "75%    1.279603e+07     255.000000   2.017000e+03    1.000000e+01\n",
       "max    1.493346e+07    7163.000000   2.017000e+03    1.200000e+01"
      ]
     },
     "execution_count": 41,
     "metadata": {},
     "output_type": "execute_result"
    }
   ],
   "source": [
    "df_calendar.describe()"
   ]
  },
  {
   "cell_type": "code",
   "execution_count": 42,
   "metadata": {},
   "outputs": [
    {
     "data": {
      "text/plain": [
       "array([[<matplotlib.axes._subplots.AxesSubplot object at 0x0000027F01898730>,\n",
       "        <matplotlib.axes._subplots.AxesSubplot object at 0x0000027F01BCC610>],\n",
       "       [<matplotlib.axes._subplots.AxesSubplot object at 0x0000027F0199FC40>,\n",
       "        <matplotlib.axes._subplots.AxesSubplot object at 0x0000027F019ACCA0>]],\n",
       "      dtype=object)"
      ]
     },
     "execution_count": 42,
     "metadata": {},
     "output_type": "execute_result"
    },
    {
     "data": {
      "image/png": "[encoded data removed]",
      "text/plain": [
       "<Figure size 720x576 with 4 Axes>"
      ]
     },
     "metadata": {
      "needs_background": "light"
     },
     "output_type": "display_data"
    }
   ],
   "source": [
    "df_calendar.hist(figsize = (10,8))"
   ]
  },
  {
   "cell_type": "markdown",
   "metadata": {},
   "source": [
    "- The dataset has data from the years 2016 and 2017;\n",
    "- The months from January to February and November to December seems to be the busiest months of the year;\n",
    "- Most of the airbsb cost less than 1 thousand dollars."
   ]
  },
  {
   "cell_type": "code",
   "execution_count": 43,
   "metadata": {},
   "outputs": [
    {
     "data": {
      "image/png": "[encoded data removed]",
      "text/plain": [
       "<Figure size 432x288 with 1 Axes>"
      ]
     },
     "metadata": {
      "needs_background": "light"
     },
     "output_type": "display_data"
    }
   ],
   "source": [
    "available_status = df_calendar.available.value_counts()\n",
    "(available_status/df_calendar.shape[0]).plot(kind=\"bar\");\n",
    "plt.title(\"Boston airbnb availability status\");"
   ]
  },
  {
   "cell_type": "markdown",
   "metadata": {},
   "source": [
    "- The amount of available and rented airbnb is almos the same"
   ]
  },
  {
   "cell_type": "code",
   "execution_count": 44,
   "metadata": {},
   "outputs": [
    {
     "data": {
      "text/plain": [
       "<matplotlib.axes._subplots.AxesSubplot at 0x27f01fb98b0>"
      ]
     },
     "execution_count": 44,
     "metadata": {},
     "output_type": "execute_result"
    },
    {
     "data": {
      "image/png": "[encoded data removed]",
      "text/plain": [
       "<Figure size 432x288 with 2 Axes>"
      ]
     },
     "metadata": {
      "needs_background": "light"
     },
     "output_type": "display_data"
    }
   ],
   "source": [
    "sns.heatmap(df_calendar.corr(), annot=True, fmt=\".2f\")"
   ]
  },
  {
   "cell_type": "markdown",
   "metadata": {},
   "source": [
    "- Analyzing the correlation matriz, it is possible to observe that the month_calendar has the highest correlation with price when compared to other variables"
   ]
  },
  {
   "cell_type": "markdown",
   "metadata": {},
   "source": [
    "### **Q2)** Which months have more rented airbnb? And the months that have less rented properties? <a class=\"anchor\" id=\"q2\"></a>"
   ]
  },
  {
   "cell_type": "code",
   "execution_count": 45,
   "metadata": {},
   "outputs": [
    {
     "name": "stdout",
     "output_type": "stream",
     "text": [
      "df_calendar_available.shape) (643037, 5)\n",
      "df_calendar_rented.shape) (665853, 5)\n"
     ]
    }
   ],
   "source": [
    "df_calendar_available = df_calendar[df_calendar[\"available\"]==\"t\"]\n",
    "df_calendar_rented = df_calendar[df_calendar[\"available\"]==\"f\"]\n",
    "print(\"df_calendar_available.shape)\", df_calendar_available.shape)\n",
    "print(\"df_calendar_rented.shape)\", df_calendar_rented.shape)"
   ]
  },
  {
   "cell_type": "code",
   "execution_count": 46,
   "metadata": {},
   "outputs": [
    {
     "data": {
      "text/plain": [
       "f    665853\n",
       "t    643037\n",
       "Name: available, dtype: int64"
      ]
     },
     "execution_count": 46,
     "metadata": {},
     "output_type": "execute_result"
    }
   ],
   "source": [
    "df_calendar.available.value_counts()"
   ]
  },
  {
   "cell_type": "code",
   "execution_count": 47,
   "metadata": {},
   "outputs": [
    {
     "data": {
      "text/plain": [
       "array([[<matplotlib.axes._subplots.AxesSubplot object at 0x0000027F01B53FD0>,\n",
       "        <matplotlib.axes._subplots.AxesSubplot object at 0x0000027F01974C70>],\n",
       "       [<matplotlib.axes._subplots.AxesSubplot object at 0x0000027F210B3850>,\n",
       "        <matplotlib.axes._subplots.AxesSubplot object at 0x0000027F01FB9B50>]],\n",
       "      dtype=object)"
      ]
     },
     "execution_count": 47,
     "metadata": {},
     "output_type": "execute_result"
    },
    {
     "data": {
      "image/png": "[encoded data removed]",
      "text/plain": [
       "<Figure size 720x576 with 4 Axes>"
      ]
     },
     "metadata": {
      "needs_background": "light"
     },
     "output_type": "display_data"
    }
   ],
   "source": [
    "df_calendar_available.hist(figsize = (10,8))"
   ]
  },
  {
   "cell_type": "code",
   "execution_count": 48,
   "metadata": {},
   "outputs": [
    {
     "data": {
      "text/plain": [
       "<matplotlib.axes._subplots.AxesSubplot at 0x27f017a9160>"
      ]
     },
     "execution_count": 48,
     "metadata": {},
     "output_type": "execute_result"
    },
    {
     "data": {
      "image/png": "[encoded data removed]",
      "text/plain": [
       "<Figure size 432x288 with 2 Axes>"
      ]
     },
     "metadata": {
      "needs_background": "light"
     },
     "output_type": "display_data"
    }
   ],
   "source": [
    "sns.heatmap(df_calendar_available.corr(), annot=True, fmt=\".2f\")"
   ]
  },
  {
   "cell_type": "code",
   "execution_count": 49,
   "metadata": {},
   "outputs": [
    {
     "data": {
      "text/plain": [
       "array([[<matplotlib.axes._subplots.AxesSubplot object at 0x0000027F20DF4D90>,\n",
       "        <matplotlib.axes._subplots.AxesSubplot object at 0x0000027F21078280>],\n",
       "       [<matplotlib.axes._subplots.AxesSubplot object at 0x0000027F210C99A0>,\n",
       "        <matplotlib.axes._subplots.AxesSubplot object at 0x0000027F0201DAC0>]],\n",
       "      dtype=object)"
      ]
     },
     "execution_count": 49,
     "metadata": {},
     "output_type": "execute_result"
    },
    {
     "data": {
      "image/png": "[encoded data removed]",
      "text/plain": [
       "<Figure size 720x576 with 4 Axes>"
      ]
     },
     "metadata": {
      "needs_background": "light"
     },
     "output_type": "display_data"
    }
   ],
   "source": [
    "df_calendar_rented.hist(figsize = (10,8))"
   ]
  },
  {
   "cell_type": "markdown",
   "metadata": {},
   "source": [
    "- There is new peak between Sep/Oct when evaluating the rented airbnb;\n",
    "- The oposite happens for the same period in the histogram for available properties."
   ]
  },
  {
   "cell_type": "code",
   "execution_count": 50,
   "metadata": {},
   "outputs": [
    {
     "data": {
      "text/plain": [
       "<matplotlib.axes._subplots.AxesSubplot at 0x27f20e32d60>"
      ]
     },
     "execution_count": 50,
     "metadata": {},
     "output_type": "execute_result"
    },
    {
     "data": {
      "image/png": "[encoded data removed]",
      "text/plain": [
       "<Figure size 432x288 with 2 Axes>"
      ]
     },
     "metadata": {
      "needs_background": "light"
     },
     "output_type": "display_data"
    }
   ],
   "source": [
    "sns.heatmap(df_calendar_rented.corr(), annot=True, fmt=\".2f\")"
   ]
  },
  {
   "cell_type": "markdown",
   "metadata": {},
   "source": [
    "### **Q1)** Is there a big difference of price between the available and rented airbnb? <a class=\"anchor\" id=\"q1\"></a>"
   ]
  },
  {
   "cell_type": "code",
   "execution_count": 51,
   "metadata": {},
   "outputs": [
    {
     "data": {
      "text/plain": [
       "1.0"
      ]
     },
     "execution_count": 51,
     "metadata": {},
     "output_type": "execute_result"
    }
   ],
   "source": [
    "df_calendar_rented.price.isnull().mean()"
   ]
  },
  {
   "cell_type": "markdown",
   "metadata": {},
   "source": [
    "- There is no price information for the rented airbnb. Therefore, the rented airbnb can not be used for the price prediction."
   ]
  },
  {
   "cell_type": "markdown",
   "metadata": {},
   "source": [
    "### **Q3)** The price of the aribnb vary according to the month? <a class=\"anchor\" id=\"q3\"></a>"
   ]
  },
  {
   "cell_type": "code",
   "execution_count": 52,
   "metadata": {
    "scrolled": true
   },
   "outputs": [
    {
     "data": {
      "text/html": [
       "<div>\n",
       "<style scoped>\n",
       "    .dataframe tbody tr th:only-of-type {\n",
       "        vertical-align: middle;\n",
       "    }\n",
       "\n",
       "    .dataframe tbody tr th {\n",
       "        vertical-align: top;\n",
       "    }\n",
       "\n",
       "    .dataframe thead th {\n",
       "        text-align: right;\n",
       "    }\n",
       "</style>\n",
       "<table border=\"1\" class=\"dataframe\">\n",
       "  <thead>\n",
       "    <tr style=\"text-align: right;\">\n",
       "      <th></th>\n",
       "      <th>listing_id</th>\n",
       "      <th>price</th>\n",
       "      <th>year_calendar</th>\n",
       "    </tr>\n",
       "    <tr>\n",
       "      <th>month_calendar</th>\n",
       "      <th></th>\n",
       "      <th></th>\n",
       "      <th></th>\n",
       "    </tr>\n",
       "  </thead>\n",
       "  <tbody>\n",
       "    <tr>\n",
       "      <th>9</th>\n",
       "      <td>8.152477e+06</td>\n",
       "      <td>252.677308</td>\n",
       "      <td>2016.0</td>\n",
       "    </tr>\n",
       "    <tr>\n",
       "      <th>10</th>\n",
       "      <td>8.327808e+06</td>\n",
       "      <td>233.416248</td>\n",
       "      <td>2016.0</td>\n",
       "    </tr>\n",
       "    <tr>\n",
       "      <th>11</th>\n",
       "      <td>8.206746e+06</td>\n",
       "      <td>202.924416</td>\n",
       "      <td>2016.0</td>\n",
       "    </tr>\n",
       "    <tr>\n",
       "      <th>12</th>\n",
       "      <td>7.992614e+06</td>\n",
       "      <td>192.601915</td>\n",
       "      <td>2016.0</td>\n",
       "    </tr>\n",
       "  </tbody>\n",
       "</table>\n",
       "</div>"
      ],
      "text/plain": [
       "                  listing_id       price  year_calendar\n",
       "month_calendar                                         \n",
       "9               8.152477e+06  252.677308         2016.0\n",
       "10              8.327808e+06  233.416248         2016.0\n",
       "11              8.206746e+06  202.924416         2016.0\n",
       "12              7.992614e+06  192.601915         2016.0"
      ]
     },
     "execution_count": 52,
     "metadata": {},
     "output_type": "execute_result"
    }
   ],
   "source": [
    "df_available_2016 = df_calendar_available[df_calendar_available.year_calendar==2016].groupby([\"month_calendar\"]).mean()\n",
    "df_available_2016"
   ]
  },
  {
   "cell_type": "code",
   "execution_count": 53,
   "metadata": {},
   "outputs": [
    {
     "data": {
      "text/plain": [
       "<matplotlib.axes._subplots.AxesSubplot at 0x27f018e0ac0>"
      ]
     },
     "execution_count": 53,
     "metadata": {},
     "output_type": "execute_result"
    },
    {
     "data": {
      "image/png": "[encoded data removed]",
      "text/plain": [
       "<Figure size 432x288 with 1 Axes>"
      ]
     },
     "metadata": {
      "needs_background": "light"
     },
     "output_type": "display_data"
    }
   ],
   "source": [
    "df_calendar_available[df_calendar_available.year_calendar==2016].groupby([\"month_calendar\"]).mean()[\"price\"].plot(legend=True)"
   ]
  },
  {
   "cell_type": "code",
   "execution_count": 54,
   "metadata": {},
   "outputs": [
    {
     "data": {
      "text/plain": [
       "<matplotlib.axes._subplots.AxesSubplot at 0x27f01770fd0>"
      ]
     },
     "execution_count": 54,
     "metadata": {},
     "output_type": "execute_result"
    },
    {
     "data": {
      "image/png": "[encoded data removed]",
      "text/plain": [
       "<Figure size 432x288 with 1 Axes>"
      ]
     },
     "metadata": {
      "needs_background": "light"
     },
     "output_type": "display_data"
    }
   ],
   "source": [
    "df_calendar_available[df_calendar_available.year_calendar==2017].groupby([\"month_calendar\"]).mean()[\"price\"].plot(legend=True)"
   ]
  },
  {
   "cell_type": "markdown",
   "metadata": {},
   "source": [
    "- The dataset is not complete for all months in 2016 and 2017 so it is hard to come to a precise conclusion;\n",
    "- We can observe there is an increase in the prices in April and after May it keeps increasing until August, however this data is not enough to predict if the same will happen in the next years."
   ]
  },
  {
   "cell_type": "markdown",
   "metadata": {},
   "source": [
    "## 4) Model"
   ]
  },
  {
   "cell_type": "markdown",
   "metadata": {},
   "source": [
    "- In the step 1 (read the dataset) we saw that when the dataframes df_listings and df_calendar are merged, the price information does not match so we decided to use price_y from df_calendar and dro price_x"
   ]
  },
  {
   "cell_type": "code",
   "execution_count": 55,
   "metadata": {},
   "outputs": [
    {
     "name": "stdout",
     "output_type": "stream",
     "text": [
      "df_listings.shape =  (3585, 28)\n",
      "df_calendar.shape =  (1308890, 5)\n",
      "df_join.shape =  (1308890, 33)\n"
     ]
    }
   ],
   "source": [
    "#Merging columns after analyzing and treating df_listings and df_calendar separately \n",
    "print(\"df_listings.shape = \",df_listings.shape)\n",
    "print(\"df_calendar.shape = \",df_calendar.shape)\n",
    "df_join = pd.merge(df_listings, df_calendar, left_on=\"id\", right_on = \"listing_id\") \n",
    "print(\"df_join.shape = \",df_join.shape)"
   ]
  },
  {
   "cell_type": "code",
   "execution_count": 56,
   "metadata": {},
   "outputs": [
    {
     "data": {
      "text/html": [
       "<div>\n",
       "<style scoped>\n",
       "    .dataframe tbody tr th:only-of-type {\n",
       "        vertical-align: middle;\n",
       "    }\n",
       "\n",
       "    .dataframe tbody tr th {\n",
       "        vertical-align: top;\n",
       "    }\n",
       "\n",
       "    .dataframe thead th {\n",
       "        text-align: right;\n",
       "    }\n",
       "</style>\n",
       "<table border=\"1\" class=\"dataframe\">\n",
       "  <thead>\n",
       "    <tr style=\"text-align: right;\">\n",
       "      <th></th>\n",
       "      <th>price_x</th>\n",
       "      <th>price_y</th>\n",
       "    </tr>\n",
       "  </thead>\n",
       "  <tbody>\n",
       "    <tr>\n",
       "      <th>365</th>\n",
       "      <td>65.0</td>\n",
       "      <td>65.0</td>\n",
       "    </tr>\n",
       "    <tr>\n",
       "      <th>366</th>\n",
       "      <td>65.0</td>\n",
       "      <td>65.0</td>\n",
       "    </tr>\n",
       "    <tr>\n",
       "      <th>367</th>\n",
       "      <td>65.0</td>\n",
       "      <td>65.0</td>\n",
       "    </tr>\n",
       "    <tr>\n",
       "      <th>368</th>\n",
       "      <td>65.0</td>\n",
       "      <td>75.0</td>\n",
       "    </tr>\n",
       "    <tr>\n",
       "      <th>369</th>\n",
       "      <td>65.0</td>\n",
       "      <td>75.0</td>\n",
       "    </tr>\n",
       "    <tr>\n",
       "      <th>...</th>\n",
       "      <td>...</td>\n",
       "      <td>...</td>\n",
       "    </tr>\n",
       "    <tr>\n",
       "      <th>1308875</th>\n",
       "      <td>65.0</td>\n",
       "      <td>62.0</td>\n",
       "    </tr>\n",
       "    <tr>\n",
       "      <th>1308876</th>\n",
       "      <td>65.0</td>\n",
       "      <td>62.0</td>\n",
       "    </tr>\n",
       "    <tr>\n",
       "      <th>1308877</th>\n",
       "      <td>65.0</td>\n",
       "      <td>62.0</td>\n",
       "    </tr>\n",
       "    <tr>\n",
       "      <th>1308878</th>\n",
       "      <td>65.0</td>\n",
       "      <td>62.0</td>\n",
       "    </tr>\n",
       "    <tr>\n",
       "      <th>1308879</th>\n",
       "      <td>65.0</td>\n",
       "      <td>62.0</td>\n",
       "    </tr>\n",
       "  </tbody>\n",
       "</table>\n",
       "<p>643037 rows × 2 columns</p>\n",
       "</div>"
      ],
      "text/plain": [
       "         price_x  price_y\n",
       "365         65.0     65.0\n",
       "366         65.0     65.0\n",
       "367         65.0     65.0\n",
       "368         65.0     75.0\n",
       "369         65.0     75.0\n",
       "...          ...      ...\n",
       "1308875     65.0     62.0\n",
       "1308876     65.0     62.0\n",
       "1308877     65.0     62.0\n",
       "1308878     65.0     62.0\n",
       "1308879     65.0     62.0\n",
       "\n",
       "[643037 rows x 2 columns]"
      ]
     },
     "execution_count": 56,
     "metadata": {},
     "output_type": "execute_result"
    }
   ],
   "source": [
    "df_join.dropna(subset=[\"price_y\"], axis=0, inplace=True)\n",
    "df_join[[\"price_x\", \"price_y\"]]"
   ]
  },
  {
   "cell_type": "code",
   "execution_count": 57,
   "metadata": {},
   "outputs": [
    {
     "data": {
      "text/plain": [
       "Index(['id', 'host_response_time', 'host_response_rate',\n",
       "       'host_acceptance_rate', 'host_is_superhost', 'neighbourhood',\n",
       "       'is_location_exact', 'property_type', 'room_type', 'accommodates',\n",
       "       'bathrooms', 'bedrooms', 'beds', 'bed_type', 'price_x',\n",
       "       'security_deposit', 'cleaning_fee', 'minimum_nights', 'maximum_nights',\n",
       "       'review_scores_rating', 'review_scores_accuracy',\n",
       "       'review_scores_cleanliness', 'review_scores_checkin',\n",
       "       'review_scores_communication', 'review_scores_location',\n",
       "       'review_scores_value', 'instant_bookable', 'cancellation_policy',\n",
       "       'listing_id', 'available', 'price_y', 'year_calendar',\n",
       "       'month_calendar'],\n",
       "      dtype='object')"
      ]
     },
     "execution_count": 57,
     "metadata": {},
     "output_type": "execute_result"
    }
   ],
   "source": [
    "df_join.columns"
   ]
  },
  {
   "cell_type": "code",
   "execution_count": 58,
   "metadata": {},
   "outputs": [],
   "source": [
    "df_join.drop([\"price_x\", \"id\"], axis='columns',inplace=True)"
   ]
  },
  {
   "cell_type": "markdown",
   "metadata": {},
   "source": [
    "### Q4) Which factors impact in the airbnb prices?  <a class=\"anchor\" id=\"q4\"></a>"
   ]
  },
  {
   "cell_type": "code",
   "execution_count": 59,
   "metadata": {},
   "outputs": [
    {
     "data": {
      "text/plain": [
       "0.0"
      ]
     },
     "execution_count": 59,
     "metadata": {},
     "output_type": "execute_result"
    }
   ],
   "source": [
    "df_join[\"price_y\"].isnull().mean()"
   ]
  },
  {
   "cell_type": "code",
   "execution_count": 60,
   "metadata": {},
   "outputs": [],
   "source": [
    "def clean_data(df):\n",
    "    \n",
    "    '''\n",
    "    INPUT: Dataframe df\n",
    "    OUTPUT: Feature dataframe X and the target variable (Airbnb price) y\n",
    "    \n",
    "    DESCRIPTION: This funtion receives a full dataframe and treat its data to separate it into features\n",
    "    for the model and the target value. For this poupose, the function:\n",
    "        1. Drop rows with missing price values\n",
    "        2. Fill numeric columns with the mean\n",
    "        3. Dummy the categorical variables\n",
    "        4. Separate df into X and y\n",
    "    '''\n",
    "    \n",
    "    #Drop rows with missing price values\n",
    "    #In this case there is no missing values for the column \"price_y\" and the cell above shows.\n",
    "    #However if there were missing values it would be necessary to handle them droping of doing data inputation.\n",
    "    #df = df.dropna(subset=[\"price_y\"], axis=0)\n",
    "    y = df[\"price_y\"]\n",
    "    \n",
    "    #Fill numeric columns with the mean\n",
    "    num_vars = df.select_dtypes(include=[\"float\", \"int\"]).columns\n",
    "    for col in num_vars:\n",
    "        df[col].fillna((df[col].mean()), inplace=True)\n",
    "    \n",
    "    #Dummy the categorical variables\n",
    "    cat_vars = df.select_dtypes(include=[\"object\"]).columns\n",
    "    for var in cat_vars:\n",
    "        #for each cat add dummy var, drop original column\n",
    "        df = pd.concat([df.drop(var, axis=1), pd.get_dummies(df[var], prefix=var, prefix_sep=\"_\", drop_first=True)], axis=1)\n",
    "    X = df.drop([\"price_y\"], axis='columns')\n",
    "    return X, y"
   ]
  },
  {
   "cell_type": "code",
   "execution_count": 61,
   "metadata": {},
   "outputs": [],
   "source": [
    "#Use the function to create X and y\n",
    "X, y = clean_data(df_join)"
   ]
  },
  {
   "cell_type": "code",
   "execution_count": 62,
   "metadata": {},
   "outputs": [
    {
     "name": "stdout",
     "output_type": "stream",
     "text": [
      "The r-squared score for your model was 0.4291823074228327 on 192912 values.\n"
     ]
    }
   ],
   "source": [
    "#Split into train and test\n",
    "X_train, X_test, y_train, y_test = train_test_split(X, y, test_size=.30, random_state=42)\n",
    "\n",
    "#Instantiate model\n",
    "lm_model = LinearRegression(normalize=True)\n",
    "\n",
    "#Fit\n",
    "lm_model.fit(X_train, y_train)\n",
    "\n",
    "#Predict and score the model\n",
    "y_test_preds = lm_model.predict(X_test)\n",
    "rsquared_score = r2_score(y_test, y_test_preds)\n",
    "\n",
    "#Rsquared and y_test\n",
    "length_y_test = len(y_test_preds)\n",
    "print(\"The r-squared score for your model was {} on {} values.\".format(rsquared_score, length_y_test))"
   ]
  },
  {
   "cell_type": "code",
   "execution_count": 63,
   "metadata": {},
   "outputs": [],
   "source": [
    "def coef_weights(coefficients, X_train):\n",
    "    '''\n",
    "    INPUT:\n",
    "    coefficients - the coefficients of the linear model \n",
    "    X_train - the training data, so the column names can be used\n",
    "    OUTPUT:\n",
    "    coefs_df - a dataframe holding the coefficient, estimate, and abs(estimate)\n",
    "    \n",
    "    Provides a dataframe that can be used to understand the most influential coefficients\n",
    "    in a linear model by providing the coefficient estimates along with the name of the \n",
    "    variable attached to the coefficient.\n",
    "    '''\n",
    "    coefs_df = pd.DataFrame()\n",
    "    coefs_df['est_int'] = X_train.columns\n",
    "    coefs_df['coefs'] = lm_model.coef_\n",
    "    coefs_df['abs_coefs'] = np.abs(lm_model.coef_)\n",
    "    coefs_df = coefs_df.sort_values('abs_coefs', ascending=False)\n",
    "    return coefs_df"
   ]
  },
  {
   "cell_type": "code",
   "execution_count": 64,
   "metadata": {},
   "outputs": [
    {
     "data": {
      "text/html": [
       "<div>\n",
       "<style scoped>\n",
       "    .dataframe tbody tr th:only-of-type {\n",
       "        vertical-align: middle;\n",
       "    }\n",
       "\n",
       "    .dataframe tbody tr th {\n",
       "        vertical-align: top;\n",
       "    }\n",
       "\n",
       "    .dataframe thead th {\n",
       "        text-align: right;\n",
       "    }\n",
       "</style>\n",
       "<table border=\"1\" class=\"dataframe\">\n",
       "  <thead>\n",
       "    <tr style=\"text-align: right;\">\n",
       "      <th></th>\n",
       "      <th>est_int</th>\n",
       "      <th>coefs</th>\n",
       "      <th>abs_coefs</th>\n",
       "    </tr>\n",
       "  </thead>\n",
       "  <tbody>\n",
       "    <tr>\n",
       "      <th>56</th>\n",
       "      <td>property_type_Camper/RV</td>\n",
       "      <td>-186.318357</td>\n",
       "      <td>186.318357</td>\n",
       "    </tr>\n",
       "    <tr>\n",
       "      <th>36</th>\n",
       "      <td>neighbourhood_Financial District</td>\n",
       "      <td>162.728770</td>\n",
       "      <td>162.728770</td>\n",
       "    </tr>\n",
       "    <tr>\n",
       "      <th>33</th>\n",
       "      <td>neighbourhood_Downtown Crossing</td>\n",
       "      <td>130.479318</td>\n",
       "      <td>130.479318</td>\n",
       "    </tr>\n",
       "    <tr>\n",
       "      <th>35</th>\n",
       "      <td>neighbourhood_Fenway/Kenmore</td>\n",
       "      <td>115.853991</td>\n",
       "      <td>115.853991</td>\n",
       "    </tr>\n",
       "    <tr>\n",
       "      <th>30</th>\n",
       "      <td>neighbourhood_Chinatown</td>\n",
       "      <td>98.905960</td>\n",
       "      <td>98.905960</td>\n",
       "    </tr>\n",
       "    <tr>\n",
       "      <th>20</th>\n",
       "      <td>host_response_time_within a day</td>\n",
       "      <td>-92.959888</td>\n",
       "      <td>92.959888</td>\n",
       "    </tr>\n",
       "    <tr>\n",
       "      <th>24</th>\n",
       "      <td>neighbourhood_Back Bay</td>\n",
       "      <td>79.817465</td>\n",
       "      <td>79.817465</td>\n",
       "    </tr>\n",
       "    <tr>\n",
       "      <th>67</th>\n",
       "      <td>room_type_Shared room</td>\n",
       "      <td>-78.826737</td>\n",
       "      <td>78.826737</td>\n",
       "    </tr>\n",
       "    <tr>\n",
       "      <th>41</th>\n",
       "      <td>neighbourhood_Leather District</td>\n",
       "      <td>76.715535</td>\n",
       "      <td>76.715535</td>\n",
       "    </tr>\n",
       "    <tr>\n",
       "      <th>66</th>\n",
       "      <td>room_type_Private room</td>\n",
       "      <td>-74.362408</td>\n",
       "      <td>74.362408</td>\n",
       "    </tr>\n",
       "    <tr>\n",
       "      <th>22</th>\n",
       "      <td>host_response_time_within an hour</td>\n",
       "      <td>-73.778619</td>\n",
       "      <td>73.778619</td>\n",
       "    </tr>\n",
       "    <tr>\n",
       "      <th>38</th>\n",
       "      <td>neighbourhood_Harvard Square</td>\n",
       "      <td>73.553915</td>\n",
       "      <td>73.553915</td>\n",
       "    </tr>\n",
       "    <tr>\n",
       "      <th>25</th>\n",
       "      <td>neighbourhood_Beacon Hill</td>\n",
       "      <td>71.010053</td>\n",
       "      <td>71.010053</td>\n",
       "    </tr>\n",
       "    <tr>\n",
       "      <th>21</th>\n",
       "      <td>host_response_time_within a few hours</td>\n",
       "      <td>-65.539933</td>\n",
       "      <td>65.539933</td>\n",
       "    </tr>\n",
       "    <tr>\n",
       "      <th>49</th>\n",
       "      <td>neighbourhood_South End</td>\n",
       "      <td>64.342968</td>\n",
       "      <td>64.342968</td>\n",
       "    </tr>\n",
       "    <tr>\n",
       "      <th>51</th>\n",
       "      <td>neighbourhood_West End</td>\n",
       "      <td>59.558106</td>\n",
       "      <td>59.558106</td>\n",
       "    </tr>\n",
       "    <tr>\n",
       "      <th>37</th>\n",
       "      <td>neighbourhood_Government Center</td>\n",
       "      <td>51.939020</td>\n",
       "      <td>51.939020</td>\n",
       "    </tr>\n",
       "    <tr>\n",
       "      <th>75</th>\n",
       "      <td>cancellation_policy_super_strict_30</td>\n",
       "      <td>49.638672</td>\n",
       "      <td>49.638672</td>\n",
       "    </tr>\n",
       "    <tr>\n",
       "      <th>65</th>\n",
       "      <td>property_type_Villa</td>\n",
       "      <td>-49.441017</td>\n",
       "      <td>49.441017</td>\n",
       "    </tr>\n",
       "    <tr>\n",
       "      <th>52</th>\n",
       "      <td>neighbourhood_West Roxbury</td>\n",
       "      <td>-49.221386</td>\n",
       "      <td>49.221386</td>\n",
       "    </tr>\n",
       "  </tbody>\n",
       "</table>\n",
       "</div>"
      ],
      "text/plain": [
       "                                  est_int       coefs   abs_coefs\n",
       "56                property_type_Camper/RV -186.318357  186.318357\n",
       "36       neighbourhood_Financial District  162.728770  162.728770\n",
       "33        neighbourhood_Downtown Crossing  130.479318  130.479318\n",
       "35           neighbourhood_Fenway/Kenmore  115.853991  115.853991\n",
       "30                neighbourhood_Chinatown   98.905960   98.905960\n",
       "20        host_response_time_within a day  -92.959888   92.959888\n",
       "24                 neighbourhood_Back Bay   79.817465   79.817465\n",
       "67                  room_type_Shared room  -78.826737   78.826737\n",
       "41         neighbourhood_Leather District   76.715535   76.715535\n",
       "66                 room_type_Private room  -74.362408   74.362408\n",
       "22      host_response_time_within an hour  -73.778619   73.778619\n",
       "38           neighbourhood_Harvard Square   73.553915   73.553915\n",
       "25              neighbourhood_Beacon Hill   71.010053   71.010053\n",
       "21  host_response_time_within a few hours  -65.539933   65.539933\n",
       "49                neighbourhood_South End   64.342968   64.342968\n",
       "51                 neighbourhood_West End   59.558106   59.558106\n",
       "37        neighbourhood_Government Center   51.939020   51.939020\n",
       "75    cancellation_policy_super_strict_30   49.638672   49.638672\n",
       "65                    property_type_Villa  -49.441017   49.441017\n",
       "52             neighbourhood_West Roxbury  -49.221386   49.221386"
      ]
     },
     "execution_count": 64,
     "metadata": {},
     "output_type": "execute_result"
    }
   ],
   "source": [
    "#To check which features matter in the model, check the weight of the coeficients\n",
    "#Because the features are normalized we can look at how large the coeficient is\n",
    "coef_df = coef_weights(lm_model.coef_, X_train)\n",
    "coef_df.head(20)"
   ]
  },
  {
   "cell_type": "markdown",
   "metadata": {},
   "source": [
    "- We can observe that the neighborhood, the property type, and the room type impact the most in pricing;\n",
    "- For example, if a person chooses a camping accomodation of a shared room, they tend to pay less, what makes sense."
   ]
  }
 ],
 "metadata": {
  "kernelspec": {
   "display_name": "Python 3",
   "language": "python",
   "name": "python3"
  },
  "language_info": {
   "codemirror_mode": {
    "name": "ipython",
    "version": 3
   },
   "file_extension": ".py",
   "mimetype": "text/x-python",
   "name": "python",
   "nbconvert_exporter": "python",
   "pygments_lexer": "ipython3",
   "version": "3.8.3"
  }
 },
 "nbformat": 4,
 "nbformat_minor": 4
}
